{
 "cells": [
  {
   "cell_type": "markdown",
   "metadata": {},
   "source": [
    "# AppData Mock"
   ]
  },
  {
   "cell_type": "code",
   "execution_count": 1,
   "metadata": {},
   "outputs": [],
   "source": [
    "import pandas as pd"
   ]
  },
  {
   "cell_type": "code",
   "execution_count": 2,
   "metadata": {},
   "outputs": [],
   "source": [
    "FP = \"tests/data/appdata_test.csv\""
   ]
  },
  {
   "cell_type": "code",
   "execution_count": 3,
   "metadata": {},
   "outputs": [],
   "source": [
    "df = pd.read_csv(FP, index_col=False)"
   ]
  },
  {
   "cell_type": "code",
   "execution_count": 4,
   "metadata": {},
   "outputs": [
    {
     "name": "stdout",
     "output_type": "stream",
     "text": [
      "<class 'pandas.core.frame.DataFrame'>\n",
      "RangeIndex: 32 entries, 0 to 31\n",
      "Data columns (total 29 columns):\n",
      " #   Column                                           Non-Null Count  Dtype  \n",
      "---  ------                                           --------------  -----  \n",
      " 0   app_id                                           32 non-null     object \n",
      " 1   app_name                                         32 non-null     object \n",
      " 2   app_description                                  32 non-null     object \n",
      " 3   category_id                                      32 non-null     int64  \n",
      " 4   category                                         32 non-null     object \n",
      " 5   developer_id                                     32 non-null     int64  \n",
      " 6   developer                                        32 non-null     object \n",
      " 7   developer_url                                    32 non-null     object \n",
      " 8   seller_name                                      32 non-null     object \n",
      " 9   seller_url                                       32 non-null     object \n",
      " 10  price                                            32 non-null     float64\n",
      " 11  rating_average                                   32 non-null     float64\n",
      " 12  rating_average_current_version                   32 non-null     int64  \n",
      " 13  rating_average_current_version_change            32 non-null     float64\n",
      " 14  rating_average_current_version_pct_change        32 non-null     int64  \n",
      " 15  rating_count                                     32 non-null     int64  \n",
      " 16  rating_count_current_version                     32 non-null     int64  \n",
      " 17  rating_count_per_day                             32 non-null     int64  \n",
      " 18  rating_count_per_day_current_version             32 non-null     int64  \n",
      " 19  rating_count_per_day_current_version_pct_change  32 non-null     int64  \n",
      " 20  app_url                                          32 non-null     object \n",
      " 21  screenshot_urls                                  32 non-null     object \n",
      " 22  release_date                                     32 non-null     object \n",
      " 23  release_date_current_version                     32 non-null     object \n",
      " 24  app_version                                      32 non-null     object \n",
      " 25  software_lifecycle_response_time                      32 non-null     int64  \n",
      " 26  days_since_release                               32 non-null     int64  \n",
      " 27  days_since_current_version                       32 non-null     int64  \n",
      " 28  extract_date                                     32 non-null     object \n",
      "dtypes: float64(3), int64(12), object(14)\n",
      "memory usage: 7.4+ KB\n"
     ]
    }
   ],
   "source": [
    "df.info()"
   ]
  }
 ],
 "metadata": {
  "kernelspec": {
   "display_name": "appstorestream",
   "language": "python",
   "name": "python3"
  },
  "language_info": {
   "codemirror_mode": {
    "name": "ipython",
    "version": 3
   },
   "file_extension": ".py",
   "mimetype": "text/x-python",
   "name": "python",
   "nbconvert_exporter": "python",
   "pygments_lexer": "ipython3",
   "version": "3.10.14"
  }
 },
 "nbformat": 4,
 "nbformat_minor": 2
}
