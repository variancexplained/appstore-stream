{
 "cells": [
  {
   "cell_type": "markdown",
   "metadata": {},
   "source": [
    "# DateTime Lab"
   ]
  },
  {
   "cell_type": "code",
   "execution_count": 1,
   "metadata": {},
   "outputs": [],
   "source": [
    "from appvocai.domain.job.project import Project\n",
    "from appvocai.core.enum import ProjectFrequency, ProjectStatus, Category, ContentType\n",
    "from datetime import datetime, timezone"
   ]
  },
  {
   "cell_type": "code",
   "execution_count": 2,
   "metadata": {},
   "outputs": [
    {
     "name": "stdout",
     "output_type": "stream",
     "text": [
      "\n",
      "\n",
      "                            Project                             \n",
      "                        category | 6018\n",
      "                    content_type | AppData\n",
      "                              id | 3d95f660-14d0-4a42-8182-18216833abf4\n",
      "                       frequency | Daily\n",
      "               last_job_executed | 2024-08-28T19:50:22.113045+00:00Z\n",
      "              next_scheduled_job | 2024-08-28T19:50:22.113058+00:00Z\n",
      "                       job_count | 0\n",
      "                    success_rate | 0.0\n",
      "                          status | Idle\n",
      "\n",
      "\n"
     ]
    }
   ],
   "source": [
    "project = Project(category=Category.BOOKS, content_type=ContentType.APPDATA, frequency=ProjectFrequency.DAILY, last_job_executed=datetime.now(timezone.utc), next_scheduled_job=datetime.now(timezone.utc))\n",
    "print(project)"
   ]
  },
  {
   "cell_type": "code",
   "execution_count": 3,
   "metadata": {},
   "outputs": [
    {
     "name": "stdout",
     "output_type": "stream",
     "text": [
      "Converted ISO 8601 Datetime: 2024-08-28T15:32:00Z\n"
     ]
    }
   ],
   "source": [
    "from datetime import datetime\n",
    "\n",
    "# Original datetime string from Apple\n",
    "apple_datetime_str = \"Wed, August 28, 2024 15:32 GMT\"\n",
    "\n",
    "# Parse the Apple datetime format\n",
    "parsed_datetime = datetime.strptime(apple_datetime_str, \"%a, %B %d, %Y %H:%M %Z\")\n",
    "\n",
    "# Convert to ISO 8601 format\n",
    "iso8601_datetime = parsed_datetime.isoformat() + \"Z\"  # Append 'Z' to indicate UTC\n",
    "\n",
    "print(\"Converted ISO 8601 Datetime:\", iso8601_datetime)\n"
   ]
  }
 ],
 "metadata": {
  "kernelspec": {
   "display_name": "appvocai",
   "language": "python",
   "name": "python3"
  },
  "language_info": {
   "codemirror_mode": {
    "name": "ipython",
    "version": 3
   },
   "file_extension": ".py",
   "mimetype": "text/x-python",
   "name": "python",
   "nbconvert_exporter": "python",
   "pygments_lexer": "ipython3",
   "version": "3.10.14"
  }
 },
 "nbformat": 4,
 "nbformat_minor": 2
}
