{
 "cells": [
  {
   "cell_type": "markdown",
   "metadata": {},
   "source": [
    "# DateTime Lab"
   ]
  },
  {
   "cell_type": "code",
   "execution_count": 1,
   "metadata": {},
   "outputs": [],
   "source": [
    "from datetime import datetime, timezone\n",
    "from appvocai.toolkit.date import ThirdDateFormatter"
   ]
  },
  {
   "cell_type": "code",
   "execution_count": 2,
   "metadata": {},
   "outputs": [],
   "source": [
    "from datetime import datetime, timezone\n",
    "\n",
    "\n",
    "\n"
   ]
  },
  {
   "cell_type": "code",
   "execution_count": 3,
   "metadata": {},
   "outputs": [
    {
     "name": "stdout",
     "output_type": "stream",
     "text": [
      "Converted ISO 8601 Datetime: 2024-08-28T15:32:00Z\n"
     ]
    },
    {
     "data": {
      "text/plain": [
       "'2024-09-02T01:16:31Z'"
      ]
     },
     "execution_count": 3,
     "metadata": {},
     "output_type": "execute_result"
    }
   ],
   "source": [
    "\n",
    "\n",
    "fmt = ThirdDateFormatter()\n",
    "dt = datetime.now()\n",
    "fmt.format_iso8601(dt=dt)\n",
    "\n",
    "\n",
    "# Original datetime string from Apple\n",
    "apple_datetime_str = \"Wed, August 28, 2024 15:32 GMT\"\n",
    "\n",
    "# Parse the Apple datetime format\n",
    "parsed_datetime = datetime.strptime(apple_datetime_str, \"%a, %B %d, %Y %H:%M %Z\")\n",
    "\n",
    "# Convert to ISO 8601 format\n",
    "iso8601_datetime = parsed_datetime.isoformat() + \"Z\"  # Append 'Z' to indicate UTC\n",
    "\n",
    "print(\"Converted ISO 8601 Datetime:\", iso8601_datetime)\n",
    "datetime.now().isoformat(sep='T', timespec='seconds')+ \"Z\"\n",
    "\n",
    "dt = datetime.now()\n",
    "delta = (dt-parsed_datetime).total_seconds()\n",
    "\n",
    "fmt.format_duration(delta)\n",
    "\n",
    "fmt.format_HTTP(dt)\n",
    "fmt.format_iso8601(dt)"
   ]
  }
 ],
 "metadata": {
  "kernelspec": {
   "display_name": "appvocai",
   "language": "python",
   "name": "python3"
  },
  "language_info": {
   "codemirror_mode": {
    "name": "ipython",
    "version": 3
   },
   "file_extension": ".py",
   "mimetype": "text/x-python",
   "name": "python",
   "nbconvert_exporter": "python",
   "pygments_lexer": "ipython3",
   "version": "3.10.14"
  }
 },
 "nbformat": 4,
 "nbformat_minor": 2
}
