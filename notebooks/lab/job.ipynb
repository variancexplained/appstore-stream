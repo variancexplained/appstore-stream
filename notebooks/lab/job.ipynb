{
 "cells": [
  {
   "cell_type": "markdown",
   "metadata": {},
   "source": [
    "# Job Lab"
   ]
  },
  {
   "cell_type": "code",
   "execution_count": 1,
   "metadata": {},
   "outputs": [],
   "source": [
    "from appstorestream.application.base.job import JobMeta, JobConfig\n",
    "from appstorestream.core.enum import Dataset, JobStatus"
   ]
  },
  {
   "cell_type": "code",
   "execution_count": 2,
   "metadata": {},
   "outputs": [
    {
     "data": {
      "text/plain": [
       "{'project_id': 2,\n",
       " 'dataset': 'APPDATA',\n",
       " 'category_id': 6018,\n",
       " 'category': 'Books',\n",
       " 'job_id': None,\n",
       " 'job_name': 'APPDATA - 6018: Books - 2024-07-28, 22:56:44',\n",
       " 'dt_created': datetime.datetime(2024, 7, 28, 22, 56, 44, 948272),\n",
       " 'dt_scheduled': None,\n",
       " 'dt_started': None,\n",
       " 'dt_ended': None,\n",
       " 'max_requests': 9223372036854775807,\n",
       " 'batch_size': 100,\n",
       " 'progress': 0,\n",
       " 'runtime': 0,\n",
       " 'request_count': 0,\n",
       " 'record_count': 0,\n",
       " 'request_throughput': 0.0,\n",
       " 'record_throughput': 0.0,\n",
       " 'total_errors': 0,\n",
       " 'redirect_errors': 0,\n",
       " 'client_errors': 0,\n",
       " 'server_errors': 0,\n",
       " 'data_errors': 0,\n",
       " 'job_status': 'CREATED',\n",
       " 'circuit_breaker_closed_burnin_period': 300,\n",
       " 'circuit_breaker_closed_failure_rate_threshold': 0.5,\n",
       " 'circuit_breaker_closed_window_size': 300,\n",
       " 'circuit_breaker_half_open_delay': 2,\n",
       " 'circuit_breaker_half_open_failure_rate_threshold': 0.3,\n",
       " 'circuit_breaker_half_open_window_size': 600,\n",
       " 'circuit_breaker_open_cooldown_period': 300,\n",
       " 'circuit_breaker_short_circuit_404s_failure_rate_threshold': 0.7,\n",
       " 'circuit_breaker_short_circuit_404s_window_size': 180,\n",
       " 'circuit_breaker_short_circuit_errors_failure_rate_threshold': 0.9,\n",
       " 'circuit_breaker_short_circuit_errors_window_size': 180,\n",
       " 'request_asession_max_concurrency': 100,\n",
       " 'request_asession_retries': 3,\n",
       " 'request_asession_timeout': 30,\n",
       " 'request_athrottle_base_rate': 5,\n",
       " 'request_athrottle_burn_in': 10,\n",
       " 'request_athrottle_max_rate': 100,\n",
       " 'request_athrottle_min_rate': 1,\n",
       " 'request_athrottle_temperature': 0.5,\n",
       " 'request_athrottle_window_size': 10,\n",
       " 'request_generator_batch_size': 100}"
      ]
     },
     "execution_count": 2,
     "metadata": {},
     "output_type": "execute_result"
    }
   ],
   "source": [
    "job = JobMeta(project_id=2, dataset=Dataset.APPDATA.value, category_id=6018, category=\"Books\", job_config=JobConfig())\n",
    "job.as_dict()"
   ]
  }
 ],
 "metadata": {
  "kernelspec": {
   "display_name": "appstorestream",
   "language": "python",
   "name": "python3"
  },
  "language_info": {
   "codemirror_mode": {
    "name": "ipython",
    "version": 3
   },
   "file_extension": ".py",
   "mimetype": "text/x-python",
   "name": "python",
   "nbconvert_exporter": "python",
   "pygments_lexer": "ipython3",
   "version": "3.10.14"
  }
 },
 "nbformat": 4,
 "nbformat_minor": 2
}
