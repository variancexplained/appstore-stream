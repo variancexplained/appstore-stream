{
 "cells": [
  {
   "cell_type": "markdown",
   "metadata": {},
   "source": [
    "# Request Lab"
   ]
  },
  {
   "cell_type": "markdown",
   "metadata": {},
   "source": [
    "## AppData Requests"
   ]
  },
  {
   "cell_type": "code",
   "execution_count": 1,
   "metadata": {},
   "outputs": [],
   "source": [
    "import requests\n",
    "import aiohttp\n",
    "import numpy as np\n",
    "import pandas as pd\n",
    "import json"
   ]
  },
  {
   "cell_type": "code",
   "execution_count": 2,
   "metadata": {},
   "outputs": [],
   "source": [
    "baseurl = \"https://itunes.apple.com/search?\"\n",
    "params = {\n",
    "    \"media\": \"software\",\n",
    "    \"term\": \"youtube\",\n",
    "    \"genreId\": 6008,\n",
    "    \"country\": \"us\",\n",
    "    \"lang\": \"en-us\",\n",
    "    \"explicit\": \"yes\",\n",
    "    \"limit\": 1,\n",
    "    \"offset\": 0,\n",
    "}"
   ]
  },
  {
   "cell_type": "code",
   "execution_count": 3,
   "metadata": {},
   "outputs": [],
   "source": [
    "param_list = []\n",
    "for i in range(0, 1000, 200):\n",
    "    params[\"offset\"] = i\n",
    "    param_list.append(params)"
   ]
  },
  {
   "cell_type": "code",
   "execution_count": 4,
   "metadata": {},
   "outputs": [
    {
     "data": {
      "text/plain": [
       "{'resultCount': 1,\n",
       " 'results': [{'screenshotUrls': ['https://is1-ssl.mzstatic.com/image/thumb/PurpleSource211/v4/fd/1b/9a/fd1b9a85-1489-97b2-2dd3-c887fc8eae06/666c337c-8515-42d1-869d-eb89504d6ae0_1242x2208_1.jpg/392x696bb.jpg',\n",
       "    'https://is1-ssl.mzstatic.com/image/thumb/PurpleSource221/v4/3e/8e/70/3e8e7093-c544-2e54-ee4b-88035836a06c/aad24fa1-49cc-4508-9715-8f7f01f90e20_1242x2208_2.jpg/392x696bb.jpg',\n",
       "    'https://is1-ssl.mzstatic.com/image/thumb/PurpleSource221/v4/6d/ee/88/6dee88b7-b677-7371-f7ff-6f07275960c8/fe4026b8-1cf3-4d49-bc2d-a18bc557ed2c_1242x2208_3.jpg/392x696bb.jpg',\n",
       "    'https://is1-ssl.mzstatic.com/image/thumb/PurpleSource211/v4/bd/e3/ee/bde3ee9a-80a3-f8bc-f2e4-ca4777509b02/2e024dc3-6e32-4d25-80ff-024dd151b17d_1242x2208_4.jpg/392x696bb.jpg'],\n",
       "   'ipadScreenshotUrls': [],\n",
       "   'appletvScreenshotUrls': [],\n",
       "   'artworkUrl60': 'https://is1-ssl.mzstatic.com/image/thumb/Purple221/v4/d1/e3/92/d1e3922a-744a-795f-db65-d8a9680612f4/AppIcon-1x_U007ephone-0-0-85-220-0.png/60x60bb.jpg',\n",
       "   'artworkUrl512': 'https://is1-ssl.mzstatic.com/image/thumb/Purple221/v4/d1/e3/92/d1e3922a-744a-795f-db65-d8a9680612f4/AppIcon-1x_U007ephone-0-0-85-220-0.png/512x512bb.jpg',\n",
       "   'artworkUrl100': 'https://is1-ssl.mzstatic.com/image/thumb/Purple221/v4/d1/e3/92/d1e3922a-744a-795f-db65-d8a9680612f4/AppIcon-1x_U007ephone-0-0-85-220-0.png/100x100bb.jpg',\n",
       "   'artistViewUrl': 'https://apps.apple.com/us/developer/cameli-argus/id1761546254?uo=4',\n",
       "   'features': [],\n",
       "   'advisories': [],\n",
       "   'supportedDevices': ['iPhone5s-iPhone5s',\n",
       "    'iPadAir-iPadAir',\n",
       "    'iPadAirCellular-iPadAirCellular',\n",
       "    'iPadMiniRetina-iPadMiniRetina',\n",
       "    'iPadMiniRetinaCellular-iPadMiniRetinaCellular',\n",
       "    'iPhone6-iPhone6',\n",
       "    'iPhone6Plus-iPhone6Plus',\n",
       "    'iPadAir2-iPadAir2',\n",
       "    'iPadAir2Cellular-iPadAir2Cellular',\n",
       "    'iPadMini3-iPadMini3',\n",
       "    'iPadMini3Cellular-iPadMini3Cellular',\n",
       "    'iPodTouchSixthGen-iPodTouchSixthGen',\n",
       "    'iPhone6s-iPhone6s',\n",
       "    'iPhone6sPlus-iPhone6sPlus',\n",
       "    'iPadMini4-iPadMini4',\n",
       "    'iPadMini4Cellular-iPadMini4Cellular',\n",
       "    'iPadPro-iPadPro',\n",
       "    'iPadProCellular-iPadProCellular',\n",
       "    'iPadPro97-iPadPro97',\n",
       "    'iPadPro97Cellular-iPadPro97Cellular',\n",
       "    'iPhoneSE-iPhoneSE',\n",
       "    'iPhone7-iPhone7',\n",
       "    'iPhone7Plus-iPhone7Plus',\n",
       "    'iPad611-iPad611',\n",
       "    'iPad612-iPad612',\n",
       "    'iPad71-iPad71',\n",
       "    'iPad72-iPad72',\n",
       "    'iPad73-iPad73',\n",
       "    'iPad74-iPad74',\n",
       "    'iPhone8-iPhone8',\n",
       "    'iPhone8Plus-iPhone8Plus',\n",
       "    'iPhoneX-iPhoneX',\n",
       "    'iPad75-iPad75',\n",
       "    'iPad76-iPad76',\n",
       "    'iPhoneXS-iPhoneXS',\n",
       "    'iPhoneXSMax-iPhoneXSMax',\n",
       "    'iPhoneXR-iPhoneXR',\n",
       "    'iPad812-iPad812',\n",
       "    'iPad834-iPad834',\n",
       "    'iPad856-iPad856',\n",
       "    'iPad878-iPad878',\n",
       "    'iPadMini5-iPadMini5',\n",
       "    'iPadMini5Cellular-iPadMini5Cellular',\n",
       "    'iPadAir3-iPadAir3',\n",
       "    'iPadAir3Cellular-iPadAir3Cellular',\n",
       "    'iPodTouchSeventhGen-iPodTouchSeventhGen',\n",
       "    'iPhone11-iPhone11',\n",
       "    'iPhone11Pro-iPhone11Pro',\n",
       "    'iPadSeventhGen-iPadSeventhGen',\n",
       "    'iPadSeventhGenCellular-iPadSeventhGenCellular',\n",
       "    'iPhone11ProMax-iPhone11ProMax',\n",
       "    'iPhoneSESecondGen-iPhoneSESecondGen',\n",
       "    'iPadProSecondGen-iPadProSecondGen',\n",
       "    'iPadProSecondGenCellular-iPadProSecondGenCellular',\n",
       "    'iPadProFourthGen-iPadProFourthGen',\n",
       "    'iPadProFourthGenCellular-iPadProFourthGenCellular',\n",
       "    'iPhone12Mini-iPhone12Mini',\n",
       "    'iPhone12-iPhone12',\n",
       "    'iPhone12Pro-iPhone12Pro',\n",
       "    'iPhone12ProMax-iPhone12ProMax',\n",
       "    'iPadAir4-iPadAir4',\n",
       "    'iPadAir4Cellular-iPadAir4Cellular',\n",
       "    'iPadEighthGen-iPadEighthGen',\n",
       "    'iPadEighthGenCellular-iPadEighthGenCellular',\n",
       "    'iPadProThirdGen-iPadProThirdGen',\n",
       "    'iPadProThirdGenCellular-iPadProThirdGenCellular',\n",
       "    'iPadProFifthGen-iPadProFifthGen',\n",
       "    'iPadProFifthGenCellular-iPadProFifthGenCellular',\n",
       "    'iPhone13Pro-iPhone13Pro',\n",
       "    'iPhone13ProMax-iPhone13ProMax',\n",
       "    'iPhone13Mini-iPhone13Mini',\n",
       "    'iPhone13-iPhone13',\n",
       "    'iPadMiniSixthGen-iPadMiniSixthGen',\n",
       "    'iPadMiniSixthGenCellular-iPadMiniSixthGenCellular',\n",
       "    'iPadNinthGen-iPadNinthGen',\n",
       "    'iPadNinthGenCellular-iPadNinthGenCellular',\n",
       "    'iPhoneSEThirdGen-iPhoneSEThirdGen',\n",
       "    'iPadAirFifthGen-iPadAirFifthGen',\n",
       "    'iPadAirFifthGenCellular-iPadAirFifthGenCellular',\n",
       "    'iPhone14-iPhone14',\n",
       "    'iPhone14Plus-iPhone14Plus',\n",
       "    'iPhone14Pro-iPhone14Pro',\n",
       "    'iPhone14ProMax-iPhone14ProMax',\n",
       "    'iPadTenthGen-iPadTenthGen',\n",
       "    'iPadTenthGenCellular-iPadTenthGenCellular',\n",
       "    'iPadPro11FourthGen-iPadPro11FourthGen',\n",
       "    'iPadPro11FourthGenCellular-iPadPro11FourthGenCellular',\n",
       "    'iPadProSixthGen-iPadProSixthGen',\n",
       "    'iPadProSixthGenCellular-iPadProSixthGenCellular',\n",
       "    'iPhone15-iPhone15',\n",
       "    'iPhone15Plus-iPhone15Plus',\n",
       "    'iPhone15Pro-iPhone15Pro',\n",
       "    'iPhone15ProMax-iPhone15ProMax',\n",
       "    'iPadAir11M2-iPadAir11M2',\n",
       "    'iPadAir11M2Cellular-iPadAir11M2Cellular',\n",
       "    'iPadAir13M2-iPadAir13M2',\n",
       "    'iPadAir13M2Cellular-iPadAir13M2Cellular',\n",
       "    'iPadPro11M4-iPadPro11M4',\n",
       "    'iPadPro11M4Cellular-iPadPro11M4Cellular',\n",
       "    'iPadPro13M4-iPadPro13M4',\n",
       "    'iPadPro13M4Cellular-iPadPro13M4Cellular'],\n",
       "   'isGameCenterEnabled': False,\n",
       "   'kind': 'software',\n",
       "   'currency': 'USD',\n",
       "   'languageCodesISO2A': ['EN'],\n",
       "   'fileSizeBytes': '43040768',\n",
       "   'formattedPrice': 'Free',\n",
       "   'contentAdvisoryRating': '4+',\n",
       "   'userRatingCountForCurrentVersion': 12,\n",
       "   'trackViewUrl': 'https://apps.apple.com/us/app/text-to-ai-video-generator-app/id6504500293?uo=4',\n",
       "   'trackContentRating': '4+',\n",
       "   'averageUserRatingForCurrentVersion': 3.5,\n",
       "   'averageUserRating': 3.5,\n",
       "   'trackCensoredName': 'Text to AI Video Generator App',\n",
       "   'currentVersionReleaseDate': '2024-06-23T19:44:31Z',\n",
       "   'genres': ['Photo & Video', 'Productivity'],\n",
       "   'artistId': 1761546254,\n",
       "   'artistName': 'Cameli Argus',\n",
       "   'description': \"Are you looking for turning your ideas into dynamic and realistic scenes? Then our Text to Video AI Generator app can help you turn your words into captivating visual stories in seconds.\\n\\n- Simply enter your text prompts and watch as they transform into stunning videos. \\n- Customize your creations with a wide array of styles, from cinematic to cartoonish, ensuring each video matches your vision perfectly.\\n- Save your masterpieces and share them with friends with just a tap.\\n\\n*To access all the premium features and content, you need to subscribe. The cost of the purchase is charged to your iTunes account.\\n*Pricing in countries may vary and actual charges may be converted to your local currency depending on the country of residence.\\n*Payment will be charged to iTunes Account at confirmation of purchase.\\n*Subscription will be automatically renewed. Auto-renew can be turned off at least 24 hours before the end of the current period.\\n*Your account will be charged for renewal within 24 hours prior to the end of the current period, and identify the cost of the renewal.\\n*Subscriptions may be managed by you and auto-renewal may be turned off by going to the user's iTunes Account Settings.\\n\\nFor more information use Apple Support links:\\n- https://support.apple.com/en-us/HT202039\\n- https://support.apple.com/en-us/HT204084\\n\\nPrivacy Policy:\\nhttps://docs.google.com/document/d/1n_GulfY4tF42Rcq5P6ckHHf-8HflNpYP62BVb27gzgc/edit?usp=sharing\\n\\nTerms of Use:\\nhttps://docs.google.com/document/d/1Y9ZmrI2PeNIBOCsTf74GjihL0lfGTyZm4vSoewDGbmQ/edit?usp=sharing\\n\\nContact:\\nadeelshahzad7292@gmail.com\",\n",
       "   'releaseDate': '2024-06-23T07:00:00Z',\n",
       "   'sellerName': 'Cameli Argus',\n",
       "   'trackId': 6504500293,\n",
       "   'trackName': 'Text to AI Video Generator App',\n",
       "   'isVppDeviceBasedLicensingEnabled': True,\n",
       "   'genreIds': ['6008', '6007'],\n",
       "   'primaryGenreName': 'Photo & Video',\n",
       "   'primaryGenreId': 6008,\n",
       "   'bundleId': 'com.texttovideo.app',\n",
       "   'minimumOsVersion': '16.0',\n",
       "   'price': 0.0,\n",
       "   'version': '1.0',\n",
       "   'wrapperType': 'software',\n",
       "   'userRatingCount': 12}]}"
      ]
     },
     "execution_count": 4,
     "metadata": {},
     "output_type": "execute_result"
    }
   ],
   "source": [
    "appdata = requests.get(url=baseurl, params=params)\n",
    "appdata.json()\n",
    "\n",
    "\n"
   ]
  },
  {
   "cell_type": "code",
   "execution_count": 5,
   "metadata": {},
   "outputs": [],
   "source": [
    "results = appdata.json()\n",
    "data = results['results'][0]\n",
    "fp = \"notes/appdata.csv\"\n",
    "vars = []\n",
    "types = []\n",
    "for k,v in data.items():\n",
    "    vars.append(k), types.append(type(v))\n",
    "metadata = pd.DataFrame(data={'variable': vars, 'dtypes': types})\n",
    "metadata.head()\n",
    "metadata.to_csv(fp)"
   ]
  },
  {
   "cell_type": "code",
   "execution_count": 6,
   "metadata": {},
   "outputs": [],
   "source": [
    "FP = \"tests/data/appdata.json\""
   ]
  },
  {
   "cell_type": "code",
   "execution_count": 7,
   "metadata": {},
   "outputs": [],
   "source": [
    "results = appdata.json()\n",
    "results = json.dumps(results)\n",
    "with open(FP, \"w\") as file:\n",
    "    file.write(results)"
   ]
  },
  {
   "cell_type": "markdown",
   "metadata": {},
   "source": [
    "## Reviews"
   ]
  },
  {
   "cell_type": "code",
   "execution_count": 8,
   "metadata": {},
   "outputs": [],
   "source": [
    "ids = {\"youtube\": \"544007664\", \"contraction_counter\": \"877303791\"}\n",
    "start = 0\n",
    "end = 1\n",
    "url = f\"https://itunes.apple.com/WebObjects/MZStore.woa/wa/userReviewsRow?id={ids['youtube']}&displayable-kind=11&startIndex={start}&endIndex={end}&sort=1\""
   ]
  },
  {
   "cell_type": "code",
   "execution_count": 9,
   "metadata": {},
   "outputs": [
    {
     "data": {
      "text/plain": [
       "<Response [200]>"
      ]
     },
     "execution_count": 9,
     "metadata": {},
     "output_type": "execute_result"
    }
   ],
   "source": [
    "reviews = requests.get(url=url, headers={\"X-Apple-Store-Front\": \"143441-1,29\"})\n",
    "reviews"
   ]
  },
  {
   "cell_type": "code",
   "execution_count": 10,
   "metadata": {},
   "outputs": [
    {
     "data": {
      "text/plain": [
       "{'userReviewList': [{'userReviewId': '11617994239',\n",
       "   'body': \"Comments: What's with the comment text field? The text size has been itty bitty, & >half the time, if I type on the same line as a mention, each word overlaps in one spot 2 lines above the @, so I can't read or move the cursor. It took me ages to realize if I line break before typing, it's fine. (Also, bold/italic text is small, like it's squeezing into <its normal amount of space.) — AirPods & Ads: I wish AirPods could skip ads instead of playing a new video. Maybe ads could play as separate videos in Play Now like on other apps? It's inconvenient when I'm doing chores & have to sit through a 5 minute, otherwise skippable ad. — Playback Speed (unsure if it's still valid): Some videos don't have a way to change playback speed on the iOS/iPadOS app, Some videos do, but some don't. When I'm on my iPad I can just use Safari, but on my phone I would like to be able to speed up videos so I don't have to listen to someone talk at snail speed just to find answers to questions that usually take half a video to get to despite it being the topic of the video.\",\n",
       "   'date': '2024-08-16T19:41:55Z',\n",
       "   'name': 'Madison is Great',\n",
       "   'rating': 4,\n",
       "   'title': 'Comment editor, AirPods & skippable ads, playback speed',\n",
       "   'voteCount': 461,\n",
       "   'voteSum': 201,\n",
       "   'isEdited': False,\n",
       "   'viewUsersUserReviewsUrl': 'https://itunes.apple.com/us/reviews?userProfileId=482478151',\n",
       "   'voteUrl': 'https://userpub.itunes.apple.com/WebObjects/MZUserPublishing.woa/wa/rateUserReview?userReviewId=11617994239',\n",
       "   'reportConcernUrl': 'https://userpub.itunes.apple.com/WebObjects/MZUserPublishing.woa/wa/reportAConcernSubmit?cc=us',\n",
       "   'reportConcernExplanation': 'Tell us a little more (Optional)',\n",
       "   'customerType': 'Customers',\n",
       "   'reportConcernReasons': [{'reasonId': '1',\n",
       "     'name': 'It contains offensive material',\n",
       "     'upperCaseName': 'IT CONTAINS OFFENSIVE MATERIAL'},\n",
       "    {'reasonId': '8',\n",
       "     'name': 'It’s off-topic',\n",
       "     'upperCaseName': 'IT’S OFF-TOPIC'},\n",
       "    {'reasonId': '111003',\n",
       "     'name': 'It looks like spam',\n",
       "     'upperCaseName': 'IT LOOKS LIKE SPAM'},\n",
       "    {'reasonId': '7',\n",
       "     'name': 'Something else',\n",
       "     'upperCaseName': 'SOMETHING ELSE'}]}]}"
      ]
     },
     "execution_count": 10,
     "metadata": {},
     "output_type": "execute_result"
    }
   ],
   "source": [
    "result = reviews.json()\n",
    "result"
   ]
  },
  {
   "cell_type": "code",
   "execution_count": 11,
   "metadata": {},
   "outputs": [],
   "source": [
    "data = result[\"userReviewList\"][0]\n",
    "fp = \"notes/appreviews.csv\"\n",
    "vars = []\n",
    "types = []\n",
    "for k,v in data.items():\n",
    "    vars.append(k), types.append(type(v))\n",
    "metadata = pd.DataFrame(data={'variable': vars, 'dtypes': types})\n",
    "metadata.head()\n",
    "metadata.to_csv(fp)"
   ]
  },
  {
   "cell_type": "code",
   "execution_count": 12,
   "metadata": {},
   "outputs": [],
   "source": [
    "FP = \"tests/data/reviews.json\""
   ]
  },
  {
   "cell_type": "code",
   "execution_count": 13,
   "metadata": {},
   "outputs": [],
   "source": [
    "results = json.dumps(result)\n",
    "with open(FP, \"w\") as file:\n",
    "    file.write(results)"
   ]
  }
 ],
 "metadata": {
  "kernelspec": {
   "display_name": "appvocai",
   "language": "python",
   "name": "python3"
  },
  "language_info": {
   "codemirror_mode": {
    "name": "ipython",
    "version": 3
   },
   "file_extension": ".py",
   "mimetype": "text/x-python",
   "name": "python",
   "nbconvert_exporter": "python",
   "pygments_lexer": "ipython3",
   "version": "3.10.14"
  }
 },
 "nbformat": 4,
 "nbformat_minor": 2
}
