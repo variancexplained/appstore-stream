{
 "cells": [
  {
   "cell_type": "markdown",
   "metadata": {},
   "source": [
    "# Request Lab"
   ]
  },
  {
   "cell_type": "markdown",
   "metadata": {},
   "source": [
    "## AppData Requests"
   ]
  },
  {
   "cell_type": "code",
   "execution_count": 1,
   "metadata": {},
   "outputs": [],
   "source": [
    "import requests"
   ]
  },
  {
   "cell_type": "code",
   "execution_count": 40,
   "metadata": {},
   "outputs": [],
   "source": [
    "baseurl = \"https://itunes.apple.com/search?\"\n",
    "params = {\n",
    "    \"media\": \"software\",\n",
    "    \"term\": \"app\",\n",
    "    \"genreId\": 6018,\n",
    "    \"country\": \"us\",\n",
    "    \"lang\": \"en-us\",\n",
    "    \"explicit\": \"yes\",\n",
    "    \"limit\": 1,\n",
    "    \"offset\": 200\n",
    "}"
   ]
  },
  {
   "cell_type": "code",
   "execution_count": 38,
   "metadata": {},
   "outputs": [
    {
     "data": {
      "text/plain": [
       "<Response [200]>"
      ]
     },
     "execution_count": 38,
     "metadata": {},
     "output_type": "execute_result"
    }
   ],
   "source": [
    "appdata = requests.get(url=baseurl, params=params)\n",
    "appdata"
   ]
  },
  {
   "cell_type": "code",
   "execution_count": 39,
   "metadata": {},
   "outputs": [
    {
     "data": {
      "text/plain": [
       "{'resultCount': 0, 'results': []}"
      ]
     },
     "execution_count": 39,
     "metadata": {},
     "output_type": "execute_result"
    }
   ],
   "source": [
    "results = appdata.json()\n",
    "results"
   ]
  },
  {
   "cell_type": "code",
   "execution_count": 28,
   "metadata": {},
   "outputs": [
    {
     "data": {
      "text/plain": [
       "96006"
      ]
     },
     "execution_count": 28,
     "metadata": {},
     "output_type": "execute_result"
    }
   ],
   "source": [
    "results[\"results\"][0][\"userRatingCount\"]\n"
   ]
  },
  {
   "cell_type": "markdown",
   "metadata": {},
   "source": [
    "## Reviews"
   ]
  },
  {
   "cell_type": "code",
   "execution_count": 47,
   "metadata": {},
   "outputs": [],
   "source": [
    "ids = {\"youtube\":\"544007664\", \"contraction_counter\":\"877303791\"}\n",
    "start = 0\n",
    "end=1\n",
    "url = f\"https://itunes.apple.com/WebObjects/MZStore.woa/wa/userReviewsRow?id={ids['contraction_counter']}&displayable-kind=11&startIndex={start}&endIndex={end}&sort=1\"\n"
   ]
  },
  {
   "cell_type": "code",
   "execution_count": 48,
   "metadata": {},
   "outputs": [
    {
     "data": {
      "text/plain": [
       "<Response [200]>"
      ]
     },
     "execution_count": 48,
     "metadata": {},
     "output_type": "execute_result"
    }
   ],
   "source": [
    "reviews = requests.get(url=url, headers={\"X-Apple-Store-Front\": \"143441-1,29\"})\n",
    "reviews"
   ]
  },
  {
   "cell_type": "code",
   "execution_count": 49,
   "metadata": {},
   "outputs": [],
   "source": [
    "result = reviews.json()"
   ]
  },
  {
   "cell_type": "code",
   "execution_count": 52,
   "metadata": {},
   "outputs": [
    {
     "data": {
      "text/plain": [
       "{'userReviewId': '8746513602',\n",
       " 'body': 'This is an amazing app! I was notified when to pack my hospital bags and within hours when to go to the hospital. I loved the ability to delete a contraction time after accidentally pressing the button. Thankfully, I was able to take naps between contractions and even with forgetting to press the stop contraction button it was able to still give me accurate readings. Unfortunately, I did not go to the hospital on the first alert, however, after many alerts to go to the hospital, I finally made my way to the hospital the next day. At 10 that morning, I went to get my cervix checked finding that I had a very high pain tolerance and was told that I was 7cm dilated. With this app, I was able to show the nurse when my contractions first started the following evening and all my contraction times I had up until I arrival. I was admitted into the labor room, went natural with no medication and had my daughter two hours later. \\nThank you for making an accurate and reliable app.💜',\n",
       " 'date': '2022-06-06T10:19:44Z',\n",
       " 'name': 'Verelenica',\n",
       " 'rating': 5,\n",
       " 'title': 'Amazing app',\n",
       " 'voteCount': 5,\n",
       " 'voteSum': 3,\n",
       " 'isEdited': False,\n",
       " 'viewUsersUserReviewsUrl': 'https://itunes.apple.com/us/reviews?userProfileId=996068556',\n",
       " 'voteUrl': 'https://userpub.itunes.apple.com/WebObjects/MZUserPublishing.woa/wa/rateUserReview?userReviewId=8746513602',\n",
       " 'reportConcernUrl': 'https://userpub.itunes.apple.com/WebObjects/MZUserPublishing.woa/wa/reportAConcernSubmit?cc=us',\n",
       " 'reportConcernExplanation': 'Tell us a little more (Optional)',\n",
       " 'customerType': 'Customers',\n",
       " 'reportConcernReasons': [{'reasonId': '1',\n",
       "   'name': 'It contains offensive material',\n",
       "   'upperCaseName': 'IT CONTAINS OFFENSIVE MATERIAL'},\n",
       "  {'reasonId': '8',\n",
       "   'name': 'It’s off-topic',\n",
       "   'upperCaseName': 'IT’S OFF-TOPIC'},\n",
       "  {'reasonId': '111003',\n",
       "   'name': 'It looks like spam',\n",
       "   'upperCaseName': 'IT LOOKS LIKE SPAM'},\n",
       "  {'reasonId': '7',\n",
       "   'name': 'Something else',\n",
       "   'upperCaseName': 'SOMETHING ELSE'}]}"
      ]
     },
     "execution_count": 52,
     "metadata": {},
     "output_type": "execute_result"
    }
   ],
   "source": [
    "result[\"userReviewList\"][0]"
   ]
  }
 ],
 "metadata": {
  "kernelspec": {
   "display_name": "appstorestream",
   "language": "python",
   "name": "python3"
  },
  "language_info": {
   "codemirror_mode": {
    "name": "ipython",
    "version": 3
   },
   "file_extension": ".py",
   "mimetype": "text/x-python",
   "name": "python",
   "nbconvert_exporter": "python",
   "pygments_lexer": "ipython3",
   "version": "3.10.14"
  }
 },
 "nbformat": 4,
 "nbformat_minor": 2
}
