{
 "cells": [
  {
   "cell_type": "markdown",
   "metadata": {},
   "source": [
    "# Request Lab"
   ]
  },
  {
   "cell_type": "markdown",
   "metadata": {},
   "source": [
    "## AppData Requests"
   ]
  },
  {
   "cell_type": "code",
   "execution_count": 3,
   "metadata": {},
   "outputs": [],
   "source": [
    "import requests\n",
    "import aiohttp\n",
    "import numpy as np\n",
    "import pandas as pd\n",
    "import json\n",
    "from appvocai.toolkit.print import Printer"
   ]
  },
  {
   "cell_type": "code",
   "execution_count": 4,
   "metadata": {},
   "outputs": [],
   "source": [
    "printer = Printer()"
   ]
  },
  {
   "cell_type": "code",
   "execution_count": 5,
   "metadata": {},
   "outputs": [],
   "source": [
    "connect_url = \"https://api.appstoreconnect.apple.com/v1/salesReports\"\n",
    "baseurl = \"https://itunes.apple.com/search?\"\n",
    "params = {\n",
    "    \"media\": \"software\",\n",
    "    \"term\": \"amazon\",\n",
    "    \"genreId\": 6024,\n",
    "    \"country\": \"us\",\n",
    "    \"lang\": \"en-us\",\n",
    "    \"explicit\": \"yes\",\n",
    "    \"limit\": 1,\n",
    "    \"offset\": 0,\n",
    "}"
   ]
  },
  {
   "cell_type": "code",
   "execution_count": 6,
   "metadata": {},
   "outputs": [],
   "source": [
    "param_list = []\n",
    "for i in range(0, 1000, 200):\n",
    "    params[\"offset\"] = i\n",
    "    param_list.append(params)"
   ]
  },
  {
   "cell_type": "code",
   "execution_count": 7,
   "metadata": {},
   "outputs": [
    {
     "data": {
      "text/plain": [
       "<Response [401]>"
      ]
     },
     "execution_count": 7,
     "metadata": {},
     "output_type": "execute_result"
    }
   ],
   "source": [
    "dldata = requests.get(url=connect_url, params={})\n",
    "dldata"
   ]
  },
  {
   "cell_type": "code",
   "execution_count": 19,
   "metadata": {},
   "outputs": [
    {
     "name": "stdout",
     "output_type": "stream",
     "text": [
      "\n",
      "\n",
      "                                     Header                                     \n",
      "          x-apple-jingle-correlation-key | V5IUHAYQZPOGNIOUD2V5EYQJXI\n",
      "                    x-apple-request-uuid | af514383-10cb-dc66-a1d4-1eabd26209ba\n",
      "               x-apple-translated-wo-url | /WebObjects/MZStoreServices.woa/ws/wsSearch?media=software&term=amazon&genreId=6024&country=us&lang=en-us&explicit=yes&limit=1&offset=800&urlDesc=\n",
      "                                apple-tk | false\n",
      "                             x-b3-spanid | a0b2a0cff562929d\n",
      "                            Content-Type | text/javascript; charset=utf-8\n",
      "                                      b3 | af51438310cbdc66a1d41eabd26209ba-a0b2a0cff562929d\n",
      "                  x-content-type-options | nosniff\n",
      "                            x-b3-traceid | af51438310cbdc66a1d41eabd26209ba\n",
      "                x-webobjects-loadaverage | 0\n",
      "                   x-responding-instance | MZStoreServices:4031001:::\n",
      "                               apple-seq | 0\n",
      "                     content-disposition | attachment; filename=1.txt\n",
      "                apple-originating-system | MZStoreServices\n",
      "                        Content-Encoding | gzip\n",
      "               strict-transport-security | max-age=31536000\n",
      "                        x-apple-orig-url | https://mzstoreservices-int.itunes.apple.com/search?media=software&term=amazon&genreId=6024&country=us&lang=en-us&explicit=yes&limit=1&offset=800\n",
      "                x-apple-application-site | MR22\n",
      "                        apple-timing-app | 128 ms\n",
      "            x-apple-application-instance | 4031001\n",
      "                          Content-Length | 2171\n",
      "                                    Vary | Accept-Encoding\n",
      "                           Cache-Control | max-age=49985\n",
      "                                    Date | Mon, 02 Sep 2024 05:01:12 GMT\n",
      "                                 X-Cache | TCP_MEM_HIT from a23-47-221-15.deploy.akamaitechnologies.com (AkamaiGHost/11.6.2.1-58447958) (-)\n",
      "                        X-True-Cache-Key | /L/itunes.apple.com/search vcd=2897 ci2=country=us&explicit=yes&genreId=6024&lang=en-us&limit=1&media=software&offset=800&term=amazon///\n",
      "                              Connection | keep-alive\n",
      "                         X-Apple-Partner | origin.0\n",
      "\n",
      "\n"
     ]
    }
   ],
   "source": [
    "appdata = requests.get(url=baseurl, params=params)\n",
    "results = appdata.json()\n",
    "printer.print_dict(title=\"Header\", data=appdata.headers)\n",
    "\n",
    "\n",
    "\n",
    "\n"
   ]
  },
  {
   "cell_type": "code",
   "execution_count": 9,
   "metadata": {},
   "outputs": [],
   "source": [
    "results = appdata.json()\n",
    "data = results['results'][0]\n",
    "fp = \"notes/appdata.csv\"\n",
    "vars = []\n",
    "types = []\n",
    "for k,v in data.items():\n",
    "    vars.append(k), types.append(type(v))\n",
    "metadata = pd.DataFrame(data={'variable': vars, 'dtypes': types})\n",
    "metadata.head()\n",
    "metadata.to_csv(fp)"
   ]
  },
  {
   "cell_type": "code",
   "execution_count": 10,
   "metadata": {},
   "outputs": [],
   "source": [
    "FP = \"tests/data/appdata.json\""
   ]
  },
  {
   "cell_type": "code",
   "execution_count": 11,
   "metadata": {},
   "outputs": [],
   "source": [
    "results = appdata.json()\n",
    "results = json.dumps(results)\n",
    "with open(FP, \"w\") as file:\n",
    "    file.write(results)"
   ]
  },
  {
   "cell_type": "markdown",
   "metadata": {},
   "source": [
    "## Reviews"
   ]
  },
  {
   "cell_type": "code",
   "execution_count": 12,
   "metadata": {},
   "outputs": [],
   "source": [
    "ids = {\"youtube\": \"544007664\", \"contraction_counter\": \"877303791\"}\n",
    "start = 0\n",
    "end = 1\n",
    "url = f\"https://itunes.apple.com/WebObjects/MZStore.woa/wa/userReviewsRow?id={ids['youtube']}&displayable-kind=11&startIndex={start}&endIndex={end}&sort=1\""
   ]
  },
  {
   "cell_type": "code",
   "execution_count": 13,
   "metadata": {},
   "outputs": [
    {
     "data": {
      "text/plain": [
       "<Response [200]>"
      ]
     },
     "execution_count": 13,
     "metadata": {},
     "output_type": "execute_result"
    }
   ],
   "source": [
    "reviews = requests.get(url=url, headers={\"X-Apple-Store-Front\": \"143441-1,29\"})\n",
    "reviews"
   ]
  },
  {
   "cell_type": "code",
   "execution_count": 14,
   "metadata": {},
   "outputs": [
    {
     "data": {
      "text/plain": [
       "{'userReviewList': [{'userReviewId': '11671797492',\n",
       "   'body': \"I recently fall into a big scam from a trading platform called Interactive Brokers LLC trading, Unfortunately for me, I invested 55,000 USD worth of bitcoin with a fraudulent company. I was happy to watch my account grow to 260,000 USD within a couple of weeks. But i didn't realize i was dealing with a scam company, until i tried to make an attempt to withdraw. I made a withdrawal request, and noticed my account was suddenly blocked for no apparent reason. I tried contacting customer support, but all to no avail. I needed my money back at all cost, because i could not afford to let it go.\\nSo i tried all possible means to make sure i recovered my scammed bitcoin. I did a lot of online search for help, and tried to see if there were other people who had any similar experience. I stumbled upon a cryptocurrency forum where a couple of people mentioned that they had been through the same process but were able to recover their lost cryptocurrency, funds with the help of tecwizardpro @ gmail. So i file a report and he was able to help me get back all my lost funds within 3hrs i feel indebted to him. Apart from trying to express my gratitude to them once again using this medium, I will recommend anybody who wants to recover scammed bitcoin, stolen cryptocurrency, funds lost to binary options forex, investment and any other form of online scam, reach out to tecwizardpro @ gmail\",\n",
       "   'date': '2024-08-31T02:35:59Z',\n",
       "   'name': 'Bella Goodz',\n",
       "   'rating': 4,\n",
       "   'title': 'Expert services with a track record of successfully recovering cryptocurrency and other lost data.',\n",
       "   'voteCount': 0,\n",
       "   'voteSum': 0,\n",
       "   'isEdited': False,\n",
       "   'viewUsersUserReviewsUrl': 'https://itunes.apple.com/us/reviews?userProfileId=1693941433',\n",
       "   'voteUrl': 'https://userpub.itunes.apple.com/WebObjects/MZUserPublishing.woa/wa/rateUserReview?userReviewId=11671797492',\n",
       "   'reportConcernUrl': 'https://userpub.itunes.apple.com/WebObjects/MZUserPublishing.woa/wa/reportAConcernSubmit?cc=us',\n",
       "   'reportConcernExplanation': 'Tell us a little more (Optional)',\n",
       "   'customerType': 'Customers',\n",
       "   'reportConcernReasons': [{'reasonId': '1',\n",
       "     'name': 'It contains offensive material',\n",
       "     'upperCaseName': 'IT CONTAINS OFFENSIVE MATERIAL'},\n",
       "    {'reasonId': '8',\n",
       "     'name': 'It’s off-topic',\n",
       "     'upperCaseName': 'IT’S OFF-TOPIC'},\n",
       "    {'reasonId': '111003',\n",
       "     'name': 'It looks like spam',\n",
       "     'upperCaseName': 'IT LOOKS LIKE SPAM'},\n",
       "    {'reasonId': '7',\n",
       "     'name': 'Something else',\n",
       "     'upperCaseName': 'SOMETHING ELSE'}]}]}"
      ]
     },
     "execution_count": 14,
     "metadata": {},
     "output_type": "execute_result"
    }
   ],
   "source": [
    "result = reviews.json()\n",
    "result"
   ]
  },
  {
   "cell_type": "code",
   "execution_count": 15,
   "metadata": {},
   "outputs": [],
   "source": [
    "data = result[\"userReviewList\"][0]\n",
    "fp = \"notes/appreviews.csv\"\n",
    "vars = []\n",
    "types = []\n",
    "for k,v in data.items():\n",
    "    vars.append(k), types.append(type(v))\n",
    "metadata = pd.DataFrame(data={'variable': vars, 'dtypes': types})\n",
    "metadata.head()\n",
    "metadata.to_csv(fp)"
   ]
  },
  {
   "cell_type": "code",
   "execution_count": 16,
   "metadata": {},
   "outputs": [],
   "source": [
    "FP = \"tests/data/reviews.json\""
   ]
  },
  {
   "cell_type": "code",
   "execution_count": 17,
   "metadata": {},
   "outputs": [],
   "source": [
    "results = json.dumps(result)\n",
    "with open(FP, \"w\") as file:\n",
    "    file.write(results)"
   ]
  }
 ],
 "metadata": {
  "kernelspec": {
   "display_name": "appvocai",
   "language": "python",
   "name": "python3"
  },
  "language_info": {
   "codemirror_mode": {
    "name": "ipython",
    "version": 3
   },
   "file_extension": ".py",
   "mimetype": "text/x-python",
   "name": "python",
   "nbconvert_exporter": "python",
   "pygments_lexer": "ipython3",
   "version": "3.10.14"
  }
 },
 "nbformat": 4,
 "nbformat_minor": 2
}
