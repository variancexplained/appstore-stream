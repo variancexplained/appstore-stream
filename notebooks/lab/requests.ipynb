{
 "cells": [
  {
   "cell_type": "markdown",
   "metadata": {},
   "source": [
    "# Request Lab"
   ]
  },
  {
   "cell_type": "markdown",
   "metadata": {},
   "source": [
    "## AppData Requests"
   ]
  },
  {
   "cell_type": "code",
   "execution_count": 1,
   "metadata": {},
   "outputs": [],
   "source": [
    "import requests\n",
    "import aiohttp\n",
    "import numpy as np\n",
    "import pandas as pd\n",
    "import json"
   ]
  },
  {
   "cell_type": "code",
   "execution_count": 2,
   "metadata": {},
   "outputs": [],
   "source": [
    "baseurl = \"https://itunes.apple.com/search?\"\n",
    "params = {\n",
    "    \"media\": \"software\",\n",
    "    \"term\": \"youtube\",\n",
    "    \"genreId\": 6008,\n",
    "    \"country\": \"us\",\n",
    "    \"lang\": \"en-us\",\n",
    "    \"explicit\": \"yes\",\n",
    "    \"limit\": 1,\n",
    "    \"offset\": 0,\n",
    "}"
   ]
  },
  {
   "cell_type": "code",
   "execution_count": 3,
   "metadata": {},
   "outputs": [],
   "source": [
    "param_list = []\n",
    "for i in range(0, 1000, 200):\n",
    "    params[\"offset\"] = i\n",
    "    param_list.append(params)"
   ]
  },
  {
   "cell_type": "code",
   "execution_count": 4,
   "metadata": {},
   "outputs": [],
   "source": [
    "appdata = requests.get(url=baseurl, params=params)\n",
    "\n",
    "\n"
   ]
  },
  {
   "cell_type": "code",
   "execution_count": 5,
   "metadata": {},
   "outputs": [],
   "source": [
    "results = appdata.json()\n",
    "data = results['results'][0]\n",
    "fp = \"notes/appdata.csv\"\n",
    "vars = []\n",
    "types = []\n",
    "for k,v in data.items():\n",
    "    vars.append(k), types.append(type(v))\n",
    "metadata = pd.DataFrame(data={'variable': vars, 'dtypes': types})\n",
    "metadata.head()\n",
    "metadata.to_csv(fp)"
   ]
  },
  {
   "cell_type": "code",
   "execution_count": 6,
   "metadata": {},
   "outputs": [],
   "source": [
    "FP = \"tests/data/appdata.json\""
   ]
  },
  {
   "cell_type": "code",
   "execution_count": 9,
   "metadata": {},
   "outputs": [],
   "source": [
    "results = appdata.json()\n",
    "results = json.dumps(results)\n",
    "with open(FP, \"w\") as file:\n",
    "    file.write(results)"
   ]
  },
  {
   "cell_type": "markdown",
   "metadata": {},
   "source": [
    "## Reviews"
   ]
  },
  {
   "cell_type": "code",
   "execution_count": 15,
   "metadata": {},
   "outputs": [],
   "source": [
    "ids = {\"youtube\": \"544007664\", \"contraction_counter\": \"877303791\"}\n",
    "start = 0\n",
    "end = 1\n",
    "url = f\"https://itunes.apple.com/WebObjects/MZStore.woa/wa/userReviewsRow?id={ids['youtube']}&displayable-kind=11&startIndex={start}&endIndex={end}&sort=1\""
   ]
  },
  {
   "cell_type": "code",
   "execution_count": 16,
   "metadata": {},
   "outputs": [
    {
     "data": {
      "text/plain": [
       "<Response [200]>"
      ]
     },
     "execution_count": 16,
     "metadata": {},
     "output_type": "execute_result"
    }
   ],
   "source": [
    "reviews = requests.get(url=url, headers={\"X-Apple-Store-Front\": \"143441-1,29\"})\n",
    "reviews"
   ]
  },
  {
   "cell_type": "code",
   "execution_count": 17,
   "metadata": {},
   "outputs": [
    {
     "data": {
      "text/plain": [
       "{'userReviewList': [{'userReviewId': '11617994239',\n",
       "   'body': \"Comments: What's with the comment text field? The text size has been itty bitty, & >half the time, if I type on the same line as a mention, each word overlaps in one spot 2 lines above the @, so I can't read or move the cursor. It took me ages to realize if I line break before typing, it's fine. (Also, bold/italic text is small, like it's squeezing into <its normal amount of space.) — AirPods & Ads: I wish AirPods could skip ads instead of playing a new video. Maybe ads could play as separate videos in Play Now like on other apps? It's inconvenient when I'm doing chores & have to sit through a 5 minute, otherwise skippable ad. — Playback Speed (unsure if it's still valid): Some videos don't have a way to change playback speed on the iOS/iPadOS app, Some videos do, but some don't. When I'm on my iPad I can just use Safari, but on my phone I would like to be able to speed up videos so I don't have to listen to someone talk at snail speed just to find answers to questions that usually take half a video to get to despite it being the topic of the video.\",\n",
       "   'date': '2024-08-16T19:41:55Z',\n",
       "   'name': 'Madison is Great',\n",
       "   'rating': 4,\n",
       "   'title': 'Comment editor, AirPods & skippable ads, playback speed',\n",
       "   'voteCount': 248,\n",
       "   'voteSum': 110,\n",
       "   'isEdited': False,\n",
       "   'viewUsersUserReviewsUrl': 'https://itunes.apple.com/us/reviews?userProfileId=482478151',\n",
       "   'voteUrl': 'https://userpub.itunes.apple.com/WebObjects/MZUserPublishing.woa/wa/rateUserReview?userReviewId=11617994239',\n",
       "   'reportConcernUrl': 'https://userpub.itunes.apple.com/WebObjects/MZUserPublishing.woa/wa/reportAConcernSubmit?cc=us',\n",
       "   'reportConcernExplanation': 'Tell us a little more (Optional)',\n",
       "   'customerType': 'Customers',\n",
       "   'reportConcernReasons': [{'reasonId': '1',\n",
       "     'name': 'It contains offensive material',\n",
       "     'upperCaseName': 'IT CONTAINS OFFENSIVE MATERIAL'},\n",
       "    {'reasonId': '8',\n",
       "     'name': 'It’s off-topic',\n",
       "     'upperCaseName': 'IT’S OFF-TOPIC'},\n",
       "    {'reasonId': '111003',\n",
       "     'name': 'It looks like spam',\n",
       "     'upperCaseName': 'IT LOOKS LIKE SPAM'},\n",
       "    {'reasonId': '7',\n",
       "     'name': 'Something else',\n",
       "     'upperCaseName': 'SOMETHING ELSE'}]}]}"
      ]
     },
     "execution_count": 17,
     "metadata": {},
     "output_type": "execute_result"
    }
   ],
   "source": [
    "result = reviews.json()\n",
    "result"
   ]
  },
  {
   "cell_type": "code",
   "execution_count": 19,
   "metadata": {},
   "outputs": [],
   "source": [
    "data = result[\"userReviewList\"][0]\n",
    "fp = \"notes/appreviews.csv\"\n",
    "vars = []\n",
    "types = []\n",
    "for k,v in data.items():\n",
    "    vars.append(k), types.append(type(v))\n",
    "metadata = pd.DataFrame(data={'variable': vars, 'dtypes': types})\n",
    "metadata.head()\n",
    "metadata.to_csv(fp)"
   ]
  },
  {
   "cell_type": "code",
   "execution_count": 13,
   "metadata": {},
   "outputs": [],
   "source": [
    "FP = \"tests/data/reviews.json\""
   ]
  },
  {
   "cell_type": "code",
   "execution_count": 14,
   "metadata": {},
   "outputs": [],
   "source": [
    "results = json.dumps(result)\n",
    "with open(FP, \"w\") as file:\n",
    "    file.write(results)"
   ]
  }
 ],
 "metadata": {
  "kernelspec": {
   "display_name": "appvocai",
   "language": "python",
   "name": "python3"
  },
  "language_info": {
   "codemirror_mode": {
    "name": "ipython",
    "version": 3
   },
   "file_extension": ".py",
   "mimetype": "text/x-python",
   "name": "python",
   "nbconvert_exporter": "python",
   "pygments_lexer": "ipython3",
   "version": "3.10.14"
  }
 },
 "nbformat": 4,
 "nbformat_minor": 2
}
