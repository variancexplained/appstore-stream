{
 "cells": [
  {
   "cell_type": "markdown",
   "metadata": {},
   "source": [
    "# Request Lab"
   ]
  },
  {
   "cell_type": "markdown",
   "metadata": {},
   "source": [
    "## AppData Requests"
   ]
  },
  {
   "cell_type": "code",
   "execution_count": 34,
   "metadata": {},
   "outputs": [],
   "source": [
    "import requests\n",
    "import aiohttp\n",
    "import numpy as np\n",
    "import pandas as pd\n",
    "import json"
   ]
  },
  {
   "cell_type": "code",
   "execution_count": 28,
   "metadata": {},
   "outputs": [],
   "source": [
    "baseurl = \"https://itunes.apple.com/search?\"\n",
    "params = {\n",
    "    \"media\": \"software\",\n",
    "    \"term\": \"youtube\",\n",
    "    \"genreId\": 6008,\n",
    "    \"country\": \"us\",\n",
    "    \"lang\": \"en-us\",\n",
    "    \"explicit\": \"yes\",\n",
    "    \"limit\": 1,\n",
    "    \"offset\": 0,\n",
    "}"
   ]
  },
  {
   "cell_type": "code",
   "execution_count": 29,
   "metadata": {},
   "outputs": [],
   "source": [
    "param_list = []\n",
    "for i in range(0, 1000, 200):\n",
    "    params[\"offset\"] = i\n",
    "    param_list.append(params)"
   ]
  },
  {
   "cell_type": "code",
   "execution_count": 32,
   "metadata": {},
   "outputs": [
    {
     "data": {
      "text/plain": [
       "{'advisories': [],\n",
       " 'isGameCenterEnabled': False,\n",
       " 'screenshotUrls': ['https://is1-ssl.mzstatic.com/image/thumb/PurpleSource115/v4/35/e1/d9/35e1d9dc-41e9-5840-753c-0b7a09ddd953/03889e6b-9262-45f1-9def-91c09186cf5e_1-5.5_inch_-_iPhone_7_Plus-screen__12.jpg/392x696bb.jpg',\n",
       "  'https://is1-ssl.mzstatic.com/image/thumb/PurpleSource115/v4/f1/d2/c8/f1d2c839-28d7-62b1-435a-5ee7eac400f0/c9f22974-2cb5-4de6-87c6-f3592e00f6f8_2-5.5_inch_-_iPhone_7_Plus-screen__1.jpg/392x696bb.jpg',\n",
       "  'https://is1-ssl.mzstatic.com/image/thumb/PurpleSource115/v4/d2/81/03/d28103cf-e732-a1c8-647e-bc2fbea7117e/0c23a00c-d982-44a6-b60c-0e8ec9fa5fd8_3-5.5_inch_-_iPhone_7_Plus-screen__4.jpg/392x696bb.jpg',\n",
       "  'https://is1-ssl.mzstatic.com/image/thumb/PurpleSource115/v4/41/bb/a6/41bba6e0-58cc-91a8-027d-35849dcbadc9/1bcd6f57-1c54-4342-bc51-885ad8b3592d_5-5.5_inch_-_iPhone_7_Plus-screen__6.jpg/392x696bb.jpg',\n",
       "  'https://is1-ssl.mzstatic.com/image/thumb/PurpleSource125/v4/07/26/c6/0726c669-eb47-c60c-9371-02e44a1d3736/4a2f8107-74c4-4f8f-848c-06913fa8c7a0_6-5.5_inch_-_iPhone_7_Plus-screen__11.jpg/392x696bb.jpg',\n",
       "  'https://is1-ssl.mzstatic.com/image/thumb/PurpleSource125/v4/19/dd/ac/19ddacb3-e16d-fd2c-ef1f-2db54e85f894/56ae5854-5f53-42c2-a7f2-b45420639b08_7-5.5_inch_-_iPhone_7_Plus-screen__10.jpg/392x696bb.jpg',\n",
       "  'https://is1-ssl.mzstatic.com/image/thumb/PurpleSource125/v4/63/95/cf/6395cfd1-958b-1218-8117-52c587b51d52/8d902000-1e6b-400a-b29e-09a621f54009_8-5.5_inch_-_iPhone_7_Plus-screen__2.jpg/406x228bb.jpg',\n",
       "  'https://is1-ssl.mzstatic.com/image/thumb/PurpleSource115/v4/e7/8c/94/e78c9446-02f4-d5e4-649c-726dc1c90a46/a1c1959b-439a-4367-b22f-1e01cf708b9b_11-5.5_inch_-_iPhone_7_Plus-screen__8.jpg/392x696bb.jpg',\n",
       "  'https://is1-ssl.mzstatic.com/image/thumb/PurpleSource115/v4/f8/43/db/f843db6a-d201-a054-2d1b-64700c9b0f80/e40087a7-879d-4d04-a616-db3a1151b9ef_12-5.5_inch_-_iPhone_7_Plus-screen__13.jpg/392x696bb.jpg',\n",
       "  'https://is1-ssl.mzstatic.com/image/thumb/PurpleSource125/v4/1b/db/ae/1bdbae83-5e28-650e-b1d3-545d2477730b/ccd424f6-814f-4558-a647-8c4736ddf9d8_13-5.5_inch_-_iPhone_7_Plus-screen__7.jpg/406x228bb.jpg'],\n",
       " 'ipadScreenshotUrls': ['https://is1-ssl.mzstatic.com/image/thumb/PurpleSource125/v4/c8/b9/7c/c8b97cee-8be5-1698-3b36-57e27f80ef27/40abf631-178b-4046-90b1-d25e03ad83c2_1-iPad_Pro_2nd_generation-screen__12.jpg/576x768bb.jpg',\n",
       "  'https://is1-ssl.mzstatic.com/image/thumb/PurpleSource115/v4/88/05/68/88056881-5ce2-064b-008f-c46f80a2d8b4/838aae7f-ff95-4fbd-a30d-eeeb30761be4_2-iPad_Pro_2nd_generation-screen__1.jpg/576x768bb.jpg',\n",
       "  'https://is1-ssl.mzstatic.com/image/thumb/PurpleSource125/v4/62/61/b8/6261b861-9cdb-2200-1bb1-52777cc6985b/21eb947f-1193-471a-bbfc-8ceabc0773d4_3-iPad_Pro_2nd_generation-screen__4.jpg/576x768bb.jpg',\n",
       "  'https://is1-ssl.mzstatic.com/image/thumb/PurpleSource115/v4/02/78/34/0278344f-0b2f-abbd-3e58-fcf185776af2/736a05da-747e-464a-ac8f-c18fa26f45ab_5-iPad_Pro_2nd_generation-screen__6.jpg/576x768bb.jpg',\n",
       "  'https://is1-ssl.mzstatic.com/image/thumb/PurpleSource125/v4/f0/27/0f/f0270fa7-91f8-c011-b9d0-30435ba81d2e/c449d12c-2a6f-4962-b84e-11c46ac06b76_6-iPad_Pro_2nd_generation-screen__11.jpg/576x768bb.jpg',\n",
       "  'https://is1-ssl.mzstatic.com/image/thumb/PurpleSource115/v4/b8/62/7c/b8627cc6-8fd5-0757-ed6a-13382b1370d5/acb70e79-ceb1-4d1b-b7df-f16aa60765bc_7-iPad_Pro_2nd_generation-screen__10.jpg/576x768bb.jpg',\n",
       "  'https://is1-ssl.mzstatic.com/image/thumb/PurpleSource125/v4/04/af/68/04af6832-09b5-8cd5-07f4-88e2b03cdd1e/f37c89ab-effd-4616-9b73-248e5686469c_8-iPad_Pro_2nd_generation-screen__2.jpg/552x414bb.jpg',\n",
       "  'https://is1-ssl.mzstatic.com/image/thumb/PurpleSource115/v4/d0/97/81/d097818d-b539-4779-6da3-0801e3eafd05/e96ef0b8-382f-456d-88ea-00fc0519292e_9-iPad_Pro_2nd_generation-screen__3.jpg/552x414bb.jpg',\n",
       "  'https://is1-ssl.mzstatic.com/image/thumb/PurpleSource125/v4/85/2e/1a/852e1a68-6c87-c9ea-e89d-792a3f63a653/c3c84049-09c8-4feb-b1ad-d5c9a44de167_12-iPad_Pro_2nd_generation-screen__13.jpg/576x768bb.jpg',\n",
       "  'https://is1-ssl.mzstatic.com/image/thumb/PurpleSource115/v4/08/bb/fc/08bbfcdb-9bf1-ecf8-2469-7390a39455c6/5bee3180-9385-4c00-bdb9-998d5c4c6d6b_13-iPad_Pro_2nd_generation-screen__7.jpg/552x414bb.jpg'],\n",
       " 'appletvScreenshotUrls': [],\n",
       " 'artworkUrl60': 'https://is1-ssl.mzstatic.com/image/thumb/Purple126/v4/10/db/3b/10db3b83-28f9-3aad-98dd-a9e4d9e8e351/AppIcon-1x_U007emarketing-0-7-0-85-220.png/60x60bb.jpg',\n",
       " 'artworkUrl512': 'https://is1-ssl.mzstatic.com/image/thumb/Purple126/v4/10/db/3b/10db3b83-28f9-3aad-98dd-a9e4d9e8e351/AppIcon-1x_U007emarketing-0-7-0-85-220.png/512x512bb.jpg',\n",
       " 'artworkUrl100': 'https://is1-ssl.mzstatic.com/image/thumb/Purple126/v4/10/db/3b/10db3b83-28f9-3aad-98dd-a9e4d9e8e351/AppIcon-1x_U007emarketing-0-7-0-85-220.png/100x100bb.jpg',\n",
       " 'artistViewUrl': 'https://apps.apple.com/us/developer/e-facto/id385283187?uo=4',\n",
       " 'supportedDevices': ['iPhone5s-iPhone5s',\n",
       "  'iPadAir-iPadAir',\n",
       "  'iPadAirCellular-iPadAirCellular',\n",
       "  'iPadMiniRetina-iPadMiniRetina',\n",
       "  'iPadMiniRetinaCellular-iPadMiniRetinaCellular',\n",
       "  'iPhone6-iPhone6',\n",
       "  'iPhone6Plus-iPhone6Plus',\n",
       "  'iPadAir2-iPadAir2',\n",
       "  'iPadAir2Cellular-iPadAir2Cellular',\n",
       "  'iPadMini3-iPadMini3',\n",
       "  'iPadMini3Cellular-iPadMini3Cellular',\n",
       "  'iPodTouchSixthGen-iPodTouchSixthGen',\n",
       "  'iPhone6s-iPhone6s',\n",
       "  'iPhone6sPlus-iPhone6sPlus',\n",
       "  'iPadMini4-iPadMini4',\n",
       "  'iPadMini4Cellular-iPadMini4Cellular',\n",
       "  'iPadPro-iPadPro',\n",
       "  'iPadProCellular-iPadProCellular',\n",
       "  'iPadPro97-iPadPro97',\n",
       "  'iPadPro97Cellular-iPadPro97Cellular',\n",
       "  'iPhoneSE-iPhoneSE',\n",
       "  'iPhone7-iPhone7',\n",
       "  'iPhone7Plus-iPhone7Plus',\n",
       "  'iPad611-iPad611',\n",
       "  'iPad612-iPad612',\n",
       "  'iPad71-iPad71',\n",
       "  'iPad72-iPad72',\n",
       "  'iPad73-iPad73',\n",
       "  'iPad74-iPad74',\n",
       "  'iPhone8-iPhone8',\n",
       "  'iPhone8Plus-iPhone8Plus',\n",
       "  'iPhoneX-iPhoneX',\n",
       "  'iPad75-iPad75',\n",
       "  'iPad76-iPad76',\n",
       "  'iPhoneXS-iPhoneXS',\n",
       "  'iPhoneXSMax-iPhoneXSMax',\n",
       "  'iPhoneXR-iPhoneXR',\n",
       "  'iPad812-iPad812',\n",
       "  'iPad834-iPad834',\n",
       "  'iPad856-iPad856',\n",
       "  'iPad878-iPad878',\n",
       "  'iPadMini5-iPadMini5',\n",
       "  'iPadMini5Cellular-iPadMini5Cellular',\n",
       "  'iPadAir3-iPadAir3',\n",
       "  'iPadAir3Cellular-iPadAir3Cellular',\n",
       "  'iPodTouchSeventhGen-iPodTouchSeventhGen',\n",
       "  'iPhone11-iPhone11',\n",
       "  'iPhone11Pro-iPhone11Pro',\n",
       "  'iPadSeventhGen-iPadSeventhGen',\n",
       "  'iPadSeventhGenCellular-iPadSeventhGenCellular',\n",
       "  'iPhone11ProMax-iPhone11ProMax',\n",
       "  'iPhoneSESecondGen-iPhoneSESecondGen',\n",
       "  'iPadProSecondGen-iPadProSecondGen',\n",
       "  'iPadProSecondGenCellular-iPadProSecondGenCellular',\n",
       "  'iPadProFourthGen-iPadProFourthGen',\n",
       "  'iPadProFourthGenCellular-iPadProFourthGenCellular',\n",
       "  'iPhone12Mini-iPhone12Mini',\n",
       "  'iPhone12-iPhone12',\n",
       "  'iPhone12Pro-iPhone12Pro',\n",
       "  'iPhone12ProMax-iPhone12ProMax',\n",
       "  'iPadAir4-iPadAir4',\n",
       "  'iPadAir4Cellular-iPadAir4Cellular',\n",
       "  'iPadEighthGen-iPadEighthGen',\n",
       "  'iPadEighthGenCellular-iPadEighthGenCellular',\n",
       "  'iPadProThirdGen-iPadProThirdGen',\n",
       "  'iPadProThirdGenCellular-iPadProThirdGenCellular',\n",
       "  'iPadProFifthGen-iPadProFifthGen',\n",
       "  'iPadProFifthGenCellular-iPadProFifthGenCellular',\n",
       "  'iPhone13Pro-iPhone13Pro',\n",
       "  'iPhone13ProMax-iPhone13ProMax',\n",
       "  'iPhone13Mini-iPhone13Mini',\n",
       "  'iPhone13-iPhone13',\n",
       "  'iPadMiniSixthGen-iPadMiniSixthGen',\n",
       "  'iPadMiniSixthGenCellular-iPadMiniSixthGenCellular',\n",
       "  'iPadNinthGen-iPadNinthGen',\n",
       "  'iPadNinthGenCellular-iPadNinthGenCellular',\n",
       "  'iPhoneSEThirdGen-iPhoneSEThirdGen',\n",
       "  'iPadAirFifthGen-iPadAirFifthGen',\n",
       "  'iPadAirFifthGenCellular-iPadAirFifthGenCellular',\n",
       "  'iPhone14-iPhone14',\n",
       "  'iPhone14Plus-iPhone14Plus',\n",
       "  'iPhone14Pro-iPhone14Pro',\n",
       "  'iPhone14ProMax-iPhone14ProMax',\n",
       "  'iPadTenthGen-iPadTenthGen',\n",
       "  'iPadTenthGenCellular-iPadTenthGenCellular',\n",
       "  'iPadPro11FourthGen-iPadPro11FourthGen',\n",
       "  'iPadPro11FourthGenCellular-iPadPro11FourthGenCellular',\n",
       "  'iPadProSixthGen-iPadProSixthGen',\n",
       "  'iPadProSixthGenCellular-iPadProSixthGenCellular',\n",
       "  'iPhone15-iPhone15',\n",
       "  'iPhone15Plus-iPhone15Plus',\n",
       "  'iPhone15Pro-iPhone15Pro',\n",
       "  'iPhone15ProMax-iPhone15ProMax',\n",
       "  'iPadAir11M2-iPadAir11M2',\n",
       "  'iPadAir11M2Cellular-iPadAir11M2Cellular',\n",
       "  'iPadAir13M2-iPadAir13M2',\n",
       "  'iPadAir13M2Cellular-iPadAir13M2Cellular',\n",
       "  'iPadPro11M4-iPadPro11M4',\n",
       "  'iPadPro11M4Cellular-iPadPro11M4Cellular',\n",
       "  'iPadPro13M4-iPadPro13M4',\n",
       "  'iPadPro13M4Cellular-iPadPro13M4Cellular'],\n",
       " 'features': ['iosUniversal'],\n",
       " 'kind': 'software',\n",
       " 'currentVersionReleaseDate': '2021-12-03T12:26:32Z',\n",
       " 'minimumOsVersion': '13.0',\n",
       " 'averageUserRatingForCurrentVersion': 3,\n",
       " 'averageUserRating': 3,\n",
       " 'trackCensoredName': 'CTpro: Editor Video Mojo Pro',\n",
       " 'languageCodesISO2A': ['EN'],\n",
       " 'fileSizeBytes': '281106432',\n",
       " 'sellerUrl': 'https://www.ctpro.com',\n",
       " 'formattedPrice': 'Free',\n",
       " 'contentAdvisoryRating': '4+',\n",
       " 'userRatingCountForCurrentVersion': 7,\n",
       " 'trackViewUrl': 'https://apps.apple.com/us/app/ctpro-editor-video-mojo-pro/id1364696401?uo=4',\n",
       " 'trackContentRating': '4+',\n",
       " 'artistId': 385283187,\n",
       " 'artistName': 'e-facto',\n",
       " 'genres': ['Photo & Video', 'Productivity'],\n",
       " 'price': 0.0,\n",
       " 'description': \"Features: \\n\\nGeneral :\\n-Built-in Project based Media Management \\n-Real Constant Frame Rate recording + Editing \\n-Create your story with professional tools\\n-Complete broadcast studio in your pocket\\n-Revolutionize film production\\n\\nCamera :\\n-Full HD YUV Native REC.709 recording \\n-Display battery, memory, real time color temperature, sensitivity, shutter speed, zoom and focus infos. \\n-Display CPU usage and audio VuMeter with Peak Hold (ext.mic. support) \\n-Wide / Close camera switchable  \\n-Smart Locked (manual) mode, with slider (act on both exposure and shutter) \\n-Expert mode with separate sliders for sensitivity and shutter \\n-Smart Shutter with automatic shutter steps \\n-Zebra overlay  with adjustable threshold \\n-Color luminance waveform overlay \\n-Linear 2x pixel mapping zoom on all camera \\n-Manual Focus with focus slider \\n-Auto + Locked White Balance \\n-Manual WB with scalable color vectorscope and 3 user memories -3200°K and 5600°K presets \\n-Smart Stabilsation \\n-Grid overlay \\n-Capture video in 4K or HD resolution\\n\\nEditing :\\n-From Camera to Edit (no ingest) \\n-Real Time editing \\n-Smart bin to order clips with duration overlay \\n-Two Video editing Tracks on V2 \\n-Built-in Voice Over tool with VuMeter, countdown, confidence audio return and ext. mic. support \\n-Two stereo audio illustration tracks with audio waveform \\n-Built-in manageable audio library (for music and sound illustrations) \\n-Arrange Mode with clip duration overlay\\n-3 Overlay (graphic) track with fadeIN fadeOUT transition \\n-Animate overlay \\n-Up to 4 Dynamic Text Field per overlay \\n-Built-in manageable overlay library (with imported .png ) \\n-Professional workflow for maker of all type of videos\\n-Interview feature for making professional news\\n-Breaking news can be presented with instantly created titles and lower thirds\\n-User can splice together as many videos as they want\\n-HEVC and H264 video encoders are supported\\n\\nImport / Export :\\n-Import media from iPhone library, from other projects, from Dropbox (built-in) or from CTpro Connect \\n-Compile to iPhone library \\n-Export rushes / edits using built-in FTP client, pre-configured FTP or SFTP server by a press of a button \\n-Export all the medias from project together with the EDL to a Mac for Finalcut proX or Adobe premiere CC.\\n-Mojo can store all data in sandisk and import and export directly from CTPro.\\n\\nAUDIO / MIXING :\\n-Smart automatic normalisation and audio leveling\\n-Manual audio levels and cross fades durations adjustments \\n-Split audio within a clip to add seperate audio levels \\n-Smart mix with automatic audio levels on Music 1 and Music 2 tracks \\n-New mix process\\n\\nMULTICAMERA :\\n-Workflow Integration with Switcher Studio multicamera app \\n\\nLIVE :\\n-Use WiFi or 3G/4G to live broadcast \\n-Facebook live\\n-Manual Live settings (including bitrate, format, frame rate, key frame interval settings) -48Khz audio re-sampler switchable\\n-Constant or Adaptative Encoding switchable \\n-Smart adaptative encoding \\n-Smart stabilisation and Tap to Focus and Exposure on camera during live \\n-Clip Playout (from iPhone library) with countdown and seamless switch during Live \\n-Start Live with this clip' and 'End live with this clip' button\\n-User can send live stream on any rtmp complaint server including youtube\\n\\nYour payment will be charged to your iTunes account at confirmation of purchase. \\nYour subscription will automatically renew each month or year 24-hours before the end of the current period, and your credit card will be charged at the same price through your iTunes account unless auto-renew is turned off at least 24-hours before the end of the current period. \\nYou can turn off auto-renew at any time from your iTunes account settings. \\nNo cancellation of the current subscription is allowed during active subscription period. \\n\\nPrivacy policy :\\nhttps://privacy.ctpro.com/privacy-policy.html\\n\\nTerms of use : \\nhttps://privacy.ctpro.com/terms-conditions.html\",\n",
       " 'bundleId': 'com.efacto.ctpro',\n",
       " 'genreIds': ['6008', '6007'],\n",
       " 'releaseDate': '2018-03-29T18:48:54Z',\n",
       " 'trackId': 1364696401,\n",
       " 'trackName': 'CTpro: Editor Video Mojo Pro',\n",
       " 'sellerName': 'e-facto',\n",
       " 'isVppDeviceBasedLicensingEnabled': True,\n",
       " 'releaseNotes': 'We are excited to present many powerful capabilities. This is a major update with many exciting new features.\\n- IOS 15 and IPhone 13 Compatibility\\n- 4K recording and editing is supported at 50/60 fps.\\n- Recording in HEVC format is supported with 4K, 50/60 fps.\\n- User can crop & zoom 4K video to extract full HD video.\\n- Many new features are added in camera \\n- A new user friendly workflow for import of assets is available.\\n- A new user friendly workflow for export of assets is available. \\n- Many new features are added in live streaming.\\n- Now user can also import VoiceOver other than recording. \\n- Latest models of Sandisk are supported.\\n- A video based embedded tutorial is provided.\\n- There are many more improvements and enhancement for you to discover.\\n-New remote features for facebook live\\n\\n-Camera at 25 fps debug\\n-Sftp debug',\n",
       " 'primaryGenreName': 'Photo & Video',\n",
       " 'primaryGenreId': 6008,\n",
       " 'currency': 'USD',\n",
       " 'version': '6.1',\n",
       " 'wrapperType': 'software',\n",
       " 'userRatingCount': 7}"
      ]
     },
     "execution_count": 32,
     "metadata": {},
     "output_type": "execute_result"
    }
   ],
   "source": [
    "appdata = requests.get(url=baseurl, params=params)\n",
    "\n",
    "\n"
   ]
  },
  {
   "cell_type": "code",
   "execution_count": 37,
   "metadata": {},
   "outputs": [],
   "source": [
    "results = appdata.json()\n",
    "data = results['results'][0]\n",
    "fp = \"notes/appdata.csv\"\n",
    "vars = []\n",
    "types = []\n",
    "for k,v in data.items():\n",
    "    vars.append(k), types.append(type(v))\n",
    "metadata = pd.DataFrame(data={'variable': vars, 'dtypes': types})\n",
    "metadata.head()\n",
    "metadata.to_csv(fp)"
   ]
  },
  {
   "cell_type": "code",
   "execution_count": 5,
   "metadata": {},
   "outputs": [],
   "source": [
    "FP = \"tests/data/appdata.json\""
   ]
  },
  {
   "cell_type": "code",
   "execution_count": 6,
   "metadata": {},
   "outputs": [],
   "source": [
    "results = appdata.json()\n",
    "results = json.dumps(results)\n",
    "with open(FP, \"w\") as file:\n",
    "    file.write(results)"
   ]
  },
  {
   "cell_type": "code",
   "execution_count": 9,
   "metadata": {},
   "outputs": [
    {
     "ename": "TypeError",
     "evalue": "string indices must be integers",
     "output_type": "error",
     "traceback": [
      "\u001b[0;31m---------------------------------------------------------------------------\u001b[0m",
      "\u001b[0;31mTypeError\u001b[0m                                 Traceback (most recent call last)",
      "Cell \u001b[0;32mIn[9], line 1\u001b[0m\n\u001b[0;32m----> 1\u001b[0m \u001b[43mresults\u001b[49m\u001b[43m[\u001b[49m\u001b[38;5;124;43m\"\u001b[39;49m\u001b[38;5;124;43mresults\u001b[39;49m\u001b[38;5;124;43m\"\u001b[39;49m\u001b[43m]\u001b[49m[\u001b[38;5;124m\"\u001b[39m\u001b[38;5;124muserRatingCount\u001b[39m\u001b[38;5;124m\"\u001b[39m]\n",
      "\u001b[0;31mTypeError\u001b[0m: string indices must be integers"
     ]
    }
   ],
   "source": [
    "results[\"results\"][\"userRatingCount\"]"
   ]
  },
  {
   "cell_type": "markdown",
   "metadata": {},
   "source": [
    "## Reviews"
   ]
  },
  {
   "cell_type": "code",
   "execution_count": 10,
   "metadata": {},
   "outputs": [],
   "source": [
    "ids = {\"youtube\": \"544007664\", \"contraction_counter\": \"877303791\"}\n",
    "start = 0\n",
    "end = 100\n",
    "url = f\"https://itunes.apple.com/WebObjects/MZStore.woa/wa/userReviewsRow?id={ids['youtube']}&displayable-kind=11&startIndex={start}&endIndex={end}&sort=1\""
   ]
  },
  {
   "cell_type": "code",
   "execution_count": 11,
   "metadata": {},
   "outputs": [
    {
     "data": {
      "text/plain": [
       "<Response [200]>"
      ]
     },
     "execution_count": 11,
     "metadata": {},
     "output_type": "execute_result"
    }
   ],
   "source": [
    "reviews = requests.get(url=url, headers={\"X-Apple-Store-Front\": \"143441-1,29\"})\n",
    "reviews"
   ]
  },
  {
   "cell_type": "code",
   "execution_count": 12,
   "metadata": {},
   "outputs": [],
   "source": [
    "result = reviews.json()"
   ]
  },
  {
   "cell_type": "code",
   "execution_count": 13,
   "metadata": {},
   "outputs": [],
   "source": [
    "FP = \"tests/data/reviews.json\""
   ]
  },
  {
   "cell_type": "code",
   "execution_count": 14,
   "metadata": {},
   "outputs": [],
   "source": [
    "results = json.dumps(result)\n",
    "with open(FP, \"w\") as file:\n",
    "    file.write(results)"
   ]
  }
 ],
 "metadata": {
  "kernelspec": {
   "display_name": "appvocai",
   "language": "python",
   "name": "python3"
  },
  "language_info": {
   "codemirror_mode": {
    "name": "ipython",
    "version": 3
   },
   "file_extension": ".py",
   "mimetype": "text/x-python",
   "name": "python",
   "nbconvert_exporter": "python",
   "pygments_lexer": "ipython3",
   "version": "3.10.14"
  }
 },
 "nbformat": 4,
 "nbformat_minor": 2
}
