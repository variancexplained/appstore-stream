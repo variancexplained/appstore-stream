{
 "cells": [
  {
   "cell_type": "markdown",
   "metadata": {},
   "source": [
    "# Request Lab"
   ]
  },
  {
   "cell_type": "markdown",
   "metadata": {},
   "source": [
    "## AppData Requests"
   ]
  },
  {
   "cell_type": "code",
   "execution_count": 1,
   "metadata": {},
   "outputs": [],
   "source": [
    "import requests\n",
    "import aiohttp\n",
    "import numpy as np\n",
    "import json"
   ]
  },
  {
   "cell_type": "code",
   "execution_count": 2,
   "metadata": {},
   "outputs": [],
   "source": [
    "baseurl = \"https://itunes.apple.com/search?\"\n",
    "params = {\n",
    "    \"media\": \"software\",\n",
    "    \"term\": \"app\",\n",
    "    \"genreId\": 6018,\n",
    "    \"country\": \"us\",\n",
    "    \"lang\": \"en-us\",\n",
    "    \"explicit\": \"yes\",\n",
    "    \"limit\": 10,\n",
    "    \"offset\": 200,\n",
    "}"
   ]
  },
  {
   "cell_type": "code",
   "execution_count": 3,
   "metadata": {},
   "outputs": [],
   "source": [
    "param_list = []\n",
    "for i in range(0, 1000, 200):\n",
    "    params[\"offset\"] = i\n",
    "    param_list.append(params)"
   ]
  },
  {
   "cell_type": "code",
   "execution_count": 8,
   "metadata": {},
   "outputs": [
    {
     "data": {
      "text/plain": [
       "{'x-apple-jingle-correlation-key': 'PZC4AOCKWKRTXQTGZPV7SQSXKQ', 'x-apple-request-uuid': '7e45c038-4ab2-a33b-c266-cbebf9425754', 'x-apple-translated-wo-url': '/WebObjects/MZStoreServices.woa/ws/wsSearch?media=software&term=app&genreId=6018&country=us&lang=en-us&explicit=yes&limit=10&offset=800&urlDesc=', 'apple-tk': 'false', 'x-b3-spanid': '121b5e5fd0185f7e', 'Content-Type': 'text/javascript; charset=utf-8', 'b3': '7e45c0384ab2a33bc266cbebf9425754-121b5e5fd0185f7e', 'x-content-type-options': 'nosniff', 'x-b3-traceid': '7e45c0384ab2a33bc266cbebf9425754', 'x-webobjects-loadaverage': '0', 'x-responding-instance': 'MZStoreServices:2006218:::', 'apple-seq': '0', 'content-disposition': 'attachment; filename=1.txt', 'apple-originating-system': 'MZStoreServices', 'Content-Encoding': 'gzip', 'strict-transport-security': 'max-age=31536000', 'x-apple-orig-url': 'https://mzstoreservices-int-st.itunes.apple.com/search?media=software&term=app&genreId=6018&country=us&lang=en-us&explicit=yes&limit=10&offset=800', 'x-apple-application-site': 'ST11', 'apple-timing-app': '349 ms', 'x-apple-application-instance': '2006218', 'Content-Length': '19663', 'Vary': 'Accept-Encoding', 'Cache-Control': 'max-age=86290', 'Date': 'Thu, 22 Aug 2024 17:17:05 GMT', 'X-Cache': 'TCP_MEM_HIT from a23-53-123-81.deploy.akamaitechnologies.com (AkamaiGHost/11.6.1.1-c253c574b3c2af32d59c15ea70b89e46) (-)', 'X-True-Cache-Key': '/L/itunes.apple.com/search vcd=2897 ci2=country=us&explicit=yes&genreId=6018&lang=en-us&limit=10&media=software&offset=800&term=app///', 'Connection': 'keep-alive', 'X-Apple-Partner': 'origin.0'}"
      ]
     },
     "execution_count": 8,
     "metadata": {},
     "output_type": "execute_result"
    }
   ],
   "source": [
    "appdata = requests.get(url=baseurl, params=params)\n",
    "appdata.json()\n",
    "appdata.headers"
   ]
  },
  {
   "cell_type": "code",
   "execution_count": null,
   "metadata": {},
   "outputs": [],
   "source": [
    "FP = \"tests/data/appdata.json\""
   ]
  },
  {
   "cell_type": "code",
   "execution_count": null,
   "metadata": {},
   "outputs": [],
   "source": [
    "results = appdata.json()\n",
    "results = json.dumps(results)\n",
    "with open(FP, \"w\") as file:\n",
    "    file.write(results)"
   ]
  },
  {
   "cell_type": "code",
   "execution_count": null,
   "metadata": {},
   "outputs": [],
   "source": [
    "results[\"results\"][0][\"userRatingCount\"]"
   ]
  },
  {
   "cell_type": "markdown",
   "metadata": {},
   "source": [
    "## Reviews"
   ]
  },
  {
   "cell_type": "code",
   "execution_count": null,
   "metadata": {},
   "outputs": [],
   "source": [
    "ids = {\"youtube\": \"544007664\", \"contraction_counter\": \"877303791\"}\n",
    "start = 0\n",
    "end = 100\n",
    "url = f\"https://itunes.apple.com/WebObjects/MZStore.woa/wa/userReviewsRow?id={ids['youtube']}&displayable-kind=11&startIndex={start}&endIndex={end}&sort=1\""
   ]
  },
  {
   "cell_type": "code",
   "execution_count": null,
   "metadata": {},
   "outputs": [],
   "source": [
    "reviews = requests.get(url=url, headers={\"X-Apple-Store-Front\": \"143441-1,29\"})\n",
    "reviews"
   ]
  },
  {
   "cell_type": "code",
   "execution_count": null,
   "metadata": {},
   "outputs": [],
   "source": [
    "result = reviews.json()"
   ]
  },
  {
   "cell_type": "code",
   "execution_count": null,
   "metadata": {},
   "outputs": [],
   "source": [
    "FP = \"tests/data/reviews.json\""
   ]
  },
  {
   "cell_type": "code",
   "execution_count": null,
   "metadata": {},
   "outputs": [],
   "source": [
    "results = json.dumps(result)\n",
    "with open(FP, \"w\") as file:\n",
    "    file.write(results)"
   ]
  }
 ],
 "metadata": {
  "kernelspec": {
   "display_name": "appvocai",
   "language": "python",
   "name": "python3"
  },
  "language_info": {
   "codemirror_mode": {
    "name": "ipython",
    "version": 3
   },
   "file_extension": ".py",
   "mimetype": "text/x-python",
   "name": "python",
   "nbconvert_exporter": "python",
   "pygments_lexer": "ipython3",
   "version": "3.10.14"
  }
 },
 "nbformat": 4,
 "nbformat_minor": 2
}
