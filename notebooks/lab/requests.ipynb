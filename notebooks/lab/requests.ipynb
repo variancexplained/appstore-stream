{
 "cells": [
  {
   "cell_type": "markdown",
   "metadata": {},
   "source": [
    "# Request Lab"
   ]
  },
  {
   "cell_type": "markdown",
   "metadata": {},
   "source": [
    "## AppData Requests"
   ]
  },
  {
   "cell_type": "code",
   "execution_count": 1,
   "metadata": {},
   "outputs": [],
   "source": [
    "import requests"
   ]
  },
  {
   "cell_type": "code",
   "execution_count": 2,
   "metadata": {},
   "outputs": [],
   "source": [
    "baseurl = \"https://itunes.apple.com/search?\"\n",
    "params = {\n",
    "    \"media\": \"software\",\n",
    "    \"term\": \"app\",\n",
    "    \"genreId\": 6018,\n",
    "    \"country\": \"us\",\n",
    "    \"lang\": \"en-us\",\n",
    "    \"explicit\": \"yes\",\n",
    "    \"limit\": 1,\n",
    "    \"offset\": 200\n",
    "}"
   ]
  },
  {
   "cell_type": "code",
   "execution_count": 3,
   "metadata": {},
   "outputs": [
    {
     "data": {
      "text/plain": [
       "<Response [200]>"
      ]
     },
     "execution_count": 3,
     "metadata": {},
     "output_type": "execute_result"
    }
   ],
   "source": [
    "appdata = requests.get(url=baseurl, params=params)\n",
    "appdata"
   ]
  },
  {
   "cell_type": "code",
   "execution_count": 4,
   "metadata": {},
   "outputs": [
    {
     "data": {
      "text/plain": [
       "{'resultCount': 1,\n",
       " 'results': [{'features': ['iosUniversal'],\n",
       "   'isGameCenterEnabled': False,\n",
       "   'supportedDevices': ['iPhone5s-iPhone5s',\n",
       "    'iPadAir-iPadAir',\n",
       "    'iPadAirCellular-iPadAirCellular',\n",
       "    'iPadMiniRetina-iPadMiniRetina',\n",
       "    'iPadMiniRetinaCellular-iPadMiniRetinaCellular',\n",
       "    'iPhone6-iPhone6',\n",
       "    'iPhone6Plus-iPhone6Plus',\n",
       "    'iPadAir2-iPadAir2',\n",
       "    'iPadAir2Cellular-iPadAir2Cellular',\n",
       "    'iPadMini3-iPadMini3',\n",
       "    'iPadMini3Cellular-iPadMini3Cellular',\n",
       "    'iPodTouchSixthGen-iPodTouchSixthGen',\n",
       "    'iPhone6s-iPhone6s',\n",
       "    'iPhone6sPlus-iPhone6sPlus',\n",
       "    'iPadMini4-iPadMini4',\n",
       "    'iPadMini4Cellular-iPadMini4Cellular',\n",
       "    'iPadPro-iPadPro',\n",
       "    'iPadProCellular-iPadProCellular',\n",
       "    'iPadPro97-iPadPro97',\n",
       "    'iPadPro97Cellular-iPadPro97Cellular',\n",
       "    'iPhoneSE-iPhoneSE',\n",
       "    'iPhone7-iPhone7',\n",
       "    'iPhone7Plus-iPhone7Plus',\n",
       "    'iPad611-iPad611',\n",
       "    'iPad612-iPad612',\n",
       "    'iPad71-iPad71',\n",
       "    'iPad72-iPad72',\n",
       "    'iPad73-iPad73',\n",
       "    'iPad74-iPad74',\n",
       "    'iPhone8-iPhone8',\n",
       "    'iPhone8Plus-iPhone8Plus',\n",
       "    'iPhoneX-iPhoneX',\n",
       "    'iPad75-iPad75',\n",
       "    'iPad76-iPad76',\n",
       "    'iPhoneXS-iPhoneXS',\n",
       "    'iPhoneXSMax-iPhoneXSMax',\n",
       "    'iPhoneXR-iPhoneXR',\n",
       "    'iPad812-iPad812',\n",
       "    'iPad834-iPad834',\n",
       "    'iPad856-iPad856',\n",
       "    'iPad878-iPad878',\n",
       "    'iPadMini5-iPadMini5',\n",
       "    'iPadMini5Cellular-iPadMini5Cellular',\n",
       "    'iPadAir3-iPadAir3',\n",
       "    'iPadAir3Cellular-iPadAir3Cellular',\n",
       "    'iPodTouchSeventhGen-iPodTouchSeventhGen',\n",
       "    'iPhone11-iPhone11',\n",
       "    'iPhone11Pro-iPhone11Pro',\n",
       "    'iPadSeventhGen-iPadSeventhGen',\n",
       "    'iPadSeventhGenCellular-iPadSeventhGenCellular',\n",
       "    'iPhone11ProMax-iPhone11ProMax',\n",
       "    'iPhoneSESecondGen-iPhoneSESecondGen',\n",
       "    'iPadProSecondGen-iPadProSecondGen',\n",
       "    'iPadProSecondGenCellular-iPadProSecondGenCellular',\n",
       "    'iPadProFourthGen-iPadProFourthGen',\n",
       "    'iPadProFourthGenCellular-iPadProFourthGenCellular',\n",
       "    'iPhone12Mini-iPhone12Mini',\n",
       "    'iPhone12-iPhone12',\n",
       "    'iPhone12Pro-iPhone12Pro',\n",
       "    'iPhone12ProMax-iPhone12ProMax',\n",
       "    'iPadAir4-iPadAir4',\n",
       "    'iPadAir4Cellular-iPadAir4Cellular',\n",
       "    'iPadEighthGen-iPadEighthGen',\n",
       "    'iPadEighthGenCellular-iPadEighthGenCellular',\n",
       "    'iPadProThirdGen-iPadProThirdGen',\n",
       "    'iPadProThirdGenCellular-iPadProThirdGenCellular',\n",
       "    'iPadProFifthGen-iPadProFifthGen',\n",
       "    'iPadProFifthGenCellular-iPadProFifthGenCellular',\n",
       "    'iPhone13Pro-iPhone13Pro',\n",
       "    'iPhone13ProMax-iPhone13ProMax',\n",
       "    'iPhone13Mini-iPhone13Mini',\n",
       "    'iPhone13-iPhone13',\n",
       "    'iPadMiniSixthGen-iPadMiniSixthGen',\n",
       "    'iPadMiniSixthGenCellular-iPadMiniSixthGenCellular',\n",
       "    'iPadNinthGen-iPadNinthGen',\n",
       "    'iPadNinthGenCellular-iPadNinthGenCellular',\n",
       "    'iPhoneSEThirdGen-iPhoneSEThirdGen',\n",
       "    'iPadAirFifthGen-iPadAirFifthGen',\n",
       "    'iPadAirFifthGenCellular-iPadAirFifthGenCellular',\n",
       "    'iPhone14-iPhone14',\n",
       "    'iPhone14Plus-iPhone14Plus',\n",
       "    'iPhone14Pro-iPhone14Pro',\n",
       "    'iPhone14ProMax-iPhone14ProMax',\n",
       "    'iPadTenthGen-iPadTenthGen',\n",
       "    'iPadTenthGenCellular-iPadTenthGenCellular',\n",
       "    'iPadPro11FourthGen-iPadPro11FourthGen',\n",
       "    'iPadPro11FourthGenCellular-iPadPro11FourthGenCellular',\n",
       "    'iPadProSixthGen-iPadProSixthGen',\n",
       "    'iPadProSixthGenCellular-iPadProSixthGenCellular',\n",
       "    'iPhone15-iPhone15',\n",
       "    'iPhone15Plus-iPhone15Plus',\n",
       "    'iPhone15Pro-iPhone15Pro',\n",
       "    'iPhone15ProMax-iPhone15ProMax',\n",
       "    'iPadAir11M2-iPadAir11M2',\n",
       "    'iPadAir11M2Cellular-iPadAir11M2Cellular',\n",
       "    'iPadAir13M2-iPadAir13M2',\n",
       "    'iPadAir13M2Cellular-iPadAir13M2Cellular',\n",
       "    'iPadPro11M4-iPadPro11M4',\n",
       "    'iPadPro11M4Cellular-iPadPro11M4Cellular',\n",
       "    'iPadPro13M4-iPadPro13M4',\n",
       "    'iPadPro13M4Cellular-iPadPro13M4Cellular'],\n",
       "   'advisories': ['Frequent/Intense Mature/Suggestive Themes'],\n",
       "   'appletvScreenshotUrls': [],\n",
       "   'artworkUrl512': 'https://is1-ssl.mzstatic.com/image/thumb/Purple221/v4/65/9b/04/659b04fe-03ad-e0a1-02a1-49295fae0f22/AppIcon-0-0-1x_U007emarketing-0-10-0-sRGB-85-220.png/512x512bb.jpg',\n",
       "   'screenshotUrls': ['https://is1-ssl.mzstatic.com/image/thumb/PurpleSource221/v4/b9/f9/0e/b9f90ea5-cd69-35df-7f37-e459184c3ccd/c17f693f-4521-4792-b65b-7d7063b2b191_Simulator_Screenshot_-_iPhone_SE__U00282nd_generation_U0029_-_2024-07-02_at_09.41.15.png/392x696bb.png',\n",
       "    'https://is1-ssl.mzstatic.com/image/thumb/PurpleSource211/v4/a1/a4/d5/a1a4d561-08a0-19e8-7f2e-f99347cdadcf/cba7c297-2126-4407-a42b-2ab9f52c5b17_Simulator_Screenshot_-_iPhone_SE__U00282nd_generation_U0029_-_2024-07-02_at_09.41.45.png/392x696bb.png',\n",
       "    'https://is1-ssl.mzstatic.com/image/thumb/PurpleSource221/v4/fd/f5/c1/fdf5c158-07d2-885f-5484-8ccfef9de6e6/2b92fbd3-2309-4138-a2d3-423909e4f552_Simulator_Screenshot_-_iPhone_SE__U00282nd_generation_U0029_-_2024-07-02_at_09.41.10.png/392x696bb.png'],\n",
       "   'ipadScreenshotUrls': ['https://is1-ssl.mzstatic.com/image/thumb/PurpleSource221/v4/4d/6f/33/4d6f3313-84a8-0a7e-dd7c-1f1f66bcf415/5e71d97e-93d2-45b0-9006-57755866f40d_Simulator_Screenshot_-_iPad_Pro__U002812.9-inch_U0029__U00286th_generation_U0029_-_2024-07-02_at_09.41.16.png/576x768bb.png',\n",
       "    'https://is1-ssl.mzstatic.com/image/thumb/PurpleSource221/v4/b1/75/74/b17574b6-abfb-4dba-b22c-a82d661c61c3/226df26f-ab09-48d8-a701-3078a80fcd21_Simulator_Screenshot_-_iPad_Pro__U002812.9-inch_U0029__U00286th_generation_U0029_-_2024-07-02_at_09.41.43.png/576x768bb.png',\n",
       "    'https://is1-ssl.mzstatic.com/image/thumb/PurpleSource211/v4/e7/47/f2/e747f245-347d-f4bc-879a-050a34870182/09ae775c-3569-4f3d-a996-52ff554589e4_Simulator_Screenshot_-_iPad_Pro__U002812.9-inch_U0029__U00286th_generation_U0029_-_2024-07-02_at_09.41.06.png/576x768bb.png'],\n",
       "   'artistViewUrl': 'https://apps.apple.com/us/developer/nguyen-minh-hang/id1688112616?uo=4',\n",
       "   'artworkUrl60': 'https://is1-ssl.mzstatic.com/image/thumb/Purple221/v4/65/9b/04/659b04fe-03ad-e0a1-02a1-49295fae0f22/AppIcon-0-0-1x_U007emarketing-0-10-0-sRGB-85-220.png/60x60bb.jpg',\n",
       "   'artworkUrl100': 'https://is1-ssl.mzstatic.com/image/thumb/Purple221/v4/65/9b/04/659b04fe-03ad-e0a1-02a1-49295fae0f22/AppIcon-0-0-1x_U007emarketing-0-10-0-sRGB-85-220.png/100x100bb.jpg',\n",
       "   'kind': 'software',\n",
       "   'currentVersionReleaseDate': '2024-07-20T01:47:04Z',\n",
       "   'releaseNotes': '- Optimize application performance, fix minor errors.',\n",
       "   'minimumOsVersion': '14.0',\n",
       "   'artistId': 1688112616,\n",
       "   'artistName': 'Nguyen Minh Hang',\n",
       "   'genres': ['Books'],\n",
       "   'price': 0.0,\n",
       "   'description': \"Manga Man, an application dedicated to comic enthusiasts, offers an immersive experience in the world of manga and comics. As soon as you launch the app, you're greeted with a sleek and visually appealing interface that sets the stage for an incredible reading journey.\\n\\nThe home screen of Manga Man is thoughtfully designed, featuring vibrant thumbnails of the latest and most popular manga series. With just a tap, you can explore a vast library of manga from various genres, including action, romance, fantasy, and more. The app boasts an extensive collection, catering to diverse tastes and ensuring there's something for everyone.\\n\\nNavigating through the chapters and pages of a manga is a breeze with Manga Man's intuitive and user-friendly interface. You can swipe left or right to effortlessly flip through the pages or use the convenient navigation bar to jump to a specific chapter. The seamless reading experience, coupled with high-resolution images, brings the captivating artwork and storytelling to life on your screen.\\n\\nManga Man also offers personalized features to enhance your reading experience. You can create your own library, bookmark your favorite series, and receive notifications when new chapters are released. The app's recommendation system intelligently suggests similar manga based on your preferences, allowing you to discover exciting titles that align with your interests.\\n\\nFurthermore, Manga Man provides a platform for manga enthusiasts to connect and engage with each other. You can join vibrant communities, discuss your favorite series, and share recommendations with like-minded readers. The app fosters a sense of camaraderie among manga fans, creating a lively and interactive environment.\\n\\nWith its vast manga collection, user-friendly interface, and engaging community features, Manga Man stands out as a premier application for comic lovers. Whether you're a long-time manga enthusiast or just dipping your toes into the world of comics, Manga Man promises an unforgettable reading experience right at your fingertips.\",\n",
       "   'trackId': 6449206853,\n",
       "   'trackName': 'Manga Reader - Best Manga Man',\n",
       "   'currency': 'USD',\n",
       "   'bundleId': 'minhhangnguyen.ios.mangaman',\n",
       "   'releaseDate': '2023-05-24T07:00:00Z',\n",
       "   'primaryGenreName': 'Book',\n",
       "   'primaryGenreId': 6018,\n",
       "   'genreIds': ['6018'],\n",
       "   'sellerName': 'Nguyen Minh Hang',\n",
       "   'isVppDeviceBasedLicensingEnabled': True,\n",
       "   'formattedPrice': 'Free',\n",
       "   'averageUserRatingForCurrentVersion': 4.54661,\n",
       "   'userRatingCountForCurrentVersion': 472,\n",
       "   'languageCodesISO2A': ['EN'],\n",
       "   'fileSizeBytes': '32007168',\n",
       "   'sellerUrl': 'https://mangaman-topmangareader.web.app/',\n",
       "   'trackContentRating': '17+',\n",
       "   'contentAdvisoryRating': '17+',\n",
       "   'averageUserRating': 4.54661,\n",
       "   'trackCensoredName': 'Manga Reader - Best Manga Man',\n",
       "   'trackViewUrl': 'https://apps.apple.com/us/app/manga-reader-best-manga-man/id6449206853?uo=4',\n",
       "   'version': '1.5',\n",
       "   'wrapperType': 'software',\n",
       "   'userRatingCount': 472}]}"
      ]
     },
     "execution_count": 4,
     "metadata": {},
     "output_type": "execute_result"
    }
   ],
   "source": [
    "results = appdata.json()\n",
    "results"
   ]
  },
  {
   "cell_type": "code",
   "execution_count": 5,
   "metadata": {},
   "outputs": [
    {
     "data": {
      "text/plain": [
       "472"
      ]
     },
     "execution_count": 5,
     "metadata": {},
     "output_type": "execute_result"
    }
   ],
   "source": [
    "results[\"results\"][0][\"userRatingCount\"]\n"
   ]
  },
  {
   "cell_type": "markdown",
   "metadata": {},
   "source": [
    "## Reviews"
   ]
  },
  {
   "cell_type": "code",
   "execution_count": 6,
   "metadata": {},
   "outputs": [],
   "source": [
    "ids = {\"youtube\":\"544007664\", \"contraction_counter\":\"877303791\"}\n",
    "start = 0\n",
    "end=1\n",
    "url = f\"https://itunes.apple.com/WebObjects/MZStore.woa/wa/userReviewsRow?id={ids['youtube']}&displayable-kind=11&startIndex={start}&endIndex={end}&sort=1\"\n"
   ]
  },
  {
   "cell_type": "code",
   "execution_count": 7,
   "metadata": {},
   "outputs": [
    {
     "data": {
      "text/plain": [
       "<Response [200]>"
      ]
     },
     "execution_count": 7,
     "metadata": {},
     "output_type": "execute_result"
    }
   ],
   "source": [
    "reviews = requests.get(url=url, headers={\"X-Apple-Store-Front\": \"143441-1,29\"})\n",
    "reviews"
   ]
  },
  {
   "cell_type": "code",
   "execution_count": 8,
   "metadata": {},
   "outputs": [],
   "source": [
    "result = reviews.json()"
   ]
  },
  {
   "cell_type": "code",
   "execution_count": 9,
   "metadata": {},
   "outputs": [
    {
     "data": {
      "text/plain": [
       "{'userReviewId': '11454899226',\n",
       " 'body': 'I enjoy so much all the different channels on how to do this how to do that. From cooking, gardening and  home decorating - so many talented people out there that share their talent. I would had gave it five stars but they need to have more employees or employees that know how to do their job in deleting and removing problematic comments . For example when people report these horrific bullying comments that they will take those comments down or maybe even take those peoples ability to comment away. There’s a fine line between allowing people to comment their opinion and people just outright being mean rude violating civil liberties, as well as laws with their comments ! but yet they stay up for months. Maybe  it’s just overwhelming the amount of negative comments that are out there. I have read comments  were the ask people to was their kids on camera. ( more graphic than what I am saying now believe you  ) so vulgar and you reported and reported and reported and the comments are still up. There is disgusting to accidentally have to read things like that or comments where they put women down. Please you tube work on improving this department. With that said,  for the most part it is an enjoyable place to visit just don’t read the comment section I guess.',\n",
       " 'date': '2024-07-04T09:53:37Z',\n",
       " 'name': 'Jan Arlene T',\n",
       " 'rating': 4,\n",
       " 'title': 'Getting there',\n",
       " 'voteCount': 184,\n",
       " 'voteSum': 100,\n",
       " 'isEdited': False,\n",
       " 'viewUsersUserReviewsUrl': 'https://itunes.apple.com/us/reviews?userProfileId=1653948053',\n",
       " 'voteUrl': 'https://userpub.itunes.apple.com/WebObjects/MZUserPublishing.woa/wa/rateUserReview?userReviewId=11454899226',\n",
       " 'reportConcernUrl': 'https://userpub.itunes.apple.com/WebObjects/MZUserPublishing.woa/wa/reportAConcernSubmit?cc=us',\n",
       " 'reportConcernExplanation': 'Tell us a little more (Optional)',\n",
       " 'customerType': 'Customers',\n",
       " 'reportConcernReasons': [{'reasonId': '1',\n",
       "   'name': 'It contains offensive material',\n",
       "   'upperCaseName': 'IT CONTAINS OFFENSIVE MATERIAL'},\n",
       "  {'reasonId': '8',\n",
       "   'name': 'It’s off-topic',\n",
       "   'upperCaseName': 'IT’S OFF-TOPIC'},\n",
       "  {'reasonId': '111003',\n",
       "   'name': 'It looks like spam',\n",
       "   'upperCaseName': 'IT LOOKS LIKE SPAM'},\n",
       "  {'reasonId': '7',\n",
       "   'name': 'Something else',\n",
       "   'upperCaseName': 'SOMETHING ELSE'}]}"
      ]
     },
     "execution_count": 9,
     "metadata": {},
     "output_type": "execute_result"
    }
   ],
   "source": [
    "result[\"userReviewList\"][0]"
   ]
  }
 ],
 "metadata": {
  "kernelspec": {
   "display_name": "appstorestream",
   "language": "python",
   "name": "python3"
  },
  "language_info": {
   "codemirror_mode": {
    "name": "ipython",
    "version": 3
   },
   "file_extension": ".py",
   "mimetype": "text/x-python",
   "name": "python",
   "nbconvert_exporter": "python",
   "pygments_lexer": "ipython3",
   "version": "3.10.14"
  }
 },
 "nbformat": 4,
 "nbformat_minor": 2
}
