{
 "cells": [
  {
   "cell_type": "markdown",
   "metadata": {},
   "source": [
    "# Request Lab"
   ]
  },
  {
   "cell_type": "markdown",
   "metadata": {},
   "source": [
    "## AppData Requests"
   ]
  },
  {
   "cell_type": "code",
   "execution_count": 2,
   "metadata": {},
   "outputs": [],
   "source": [
    "import requests\n",
    "import aiohttp\n",
    "import numpy as np\n",
    "import pandas as pd\n",
    "import json\n",
    "from appvocai.toolkit.print import Printer"
   ]
  },
  {
   "cell_type": "code",
   "execution_count": 3,
   "metadata": {},
   "outputs": [],
   "source": [
    "printer = Printer()"
   ]
  },
  {
   "cell_type": "code",
   "execution_count": 4,
   "metadata": {},
   "outputs": [],
   "source": [
    "connect_url = \"https://api.appstoreconnect.apple.com/v1/salesReports\"\n",
    "baseurl = \"https://itunes.apple.com/search?\"\n",
    "params = {\n",
    "    \"media\": \"software\",\n",
    "    \"term\": \"amazon\",\n",
    "    \"genreId\": 6024,\n",
    "    \"country\": \"us\",\n",
    "    \"lang\": \"en-us\",\n",
    "    \"explicit\": \"yes\",\n",
    "    \"limit\": 1,\n",
    "    \"offset\": 0,\n",
    "}"
   ]
  },
  {
   "cell_type": "code",
   "execution_count": 5,
   "metadata": {},
   "outputs": [],
   "source": [
    "param_list = []\n",
    "for i in range(0, 1000, 200):\n",
    "    params[\"offset\"] = i\n",
    "    param_list.append(params)"
   ]
  },
  {
   "cell_type": "code",
   "execution_count": 6,
   "metadata": {},
   "outputs": [
    {
     "data": {
      "text/plain": [
       "<Response [401]>"
      ]
     },
     "execution_count": 6,
     "metadata": {},
     "output_type": "execute_result"
    }
   ],
   "source": [
    "dldata = requests.get(url=connect_url, params={})\n",
    "dldata"
   ]
  },
  {
   "cell_type": "code",
   "execution_count": 7,
   "metadata": {},
   "outputs": [
    {
     "data": {
      "text/plain": [
       "{'resultCount': 1,\n",
       " 'results': [{'screenshotUrls': ['https://is1-ssl.mzstatic.com/image/thumb/PurpleSource221/v4/72/6a/de/726ade53-5a1a-4893-4335-ad42cba38f8a/9b13b71a-0652-4d5a-8183-e9593ff530d5_B9EDUnwwUTLc_1242_2208.png/392x696bb.png',\n",
       "    'https://is1-ssl.mzstatic.com/image/thumb/PurpleSource211/v4/6a/9f/c1/6a9fc158-6c30-b4c3-aeb5-3e0cc179554a/b0d17cc5-63b5-4825-8542-db3119df8d7a_BGCofeTlYdiB_1242_2208.png/392x696bb.png',\n",
       "    'https://is1-ssl.mzstatic.com/image/thumb/PurpleSource211/v4/b2/1c/a2/b21ca2e8-7405-006a-d7d9-e4d9e3924960/73417117-88ce-44f0-a5b8-346d189aa6ce_K3vzMBPY1eR8_1242_2208.png/392x696bb.png',\n",
       "    'https://is1-ssl.mzstatic.com/image/thumb/PurpleSource221/v4/73/b5/2e/73b52e4b-b667-fbed-292f-2f4743a2780e/ac8ca4bb-0c99-4d3b-ae21-5bbb84bfe427_i8RmMXTJLRuN_1242_2208.png/392x696bb.png',\n",
       "    'https://is1-ssl.mzstatic.com/image/thumb/PurpleSource211/v4/82/69/28/826928bc-d3fc-2098-9c06-dd18f68cca06/81022129-4ba9-488c-affa-93bb1420c9e8_kUz4ahK7rusd_1242_2208__U00281_U0029.png/392x696bb.png',\n",
       "    'https://is1-ssl.mzstatic.com/image/thumb/PurpleSource211/v4/9c/9e/33/9c9e3337-5bc2-4952-3552-af002bdc563d/fd46c911-e8e5-4bb4-908e-3d5a2a586958_76bT4vTE5pP0_1242_2208.png/392x696bb.png',\n",
       "    'https://is1-ssl.mzstatic.com/image/thumb/PurpleSource211/v4/94/d3/8f/94d38f85-3196-de76-ed28-8acd5b4d0a79/262ccf27-b198-4586-91e0-a09cf1f6b6db_vlxwTv5mXgqI_1242_2208.png/392x696bb.png'],\n",
       "   'ipadScreenshotUrls': [],\n",
       "   'artworkUrl60': 'https://is1-ssl.mzstatic.com/image/thumb/Purple211/v4/b7/0c/d1/b70cd118-ae4e-3ab0-4517-410ec977f875/AppIcon-1x_U007emarketing-0-10-0-85-220-0.png/60x60bb.jpg',\n",
       "   'artworkUrl512': 'https://is1-ssl.mzstatic.com/image/thumb/Purple211/v4/b7/0c/d1/b70cd118-ae4e-3ab0-4517-410ec977f875/AppIcon-1x_U007emarketing-0-10-0-85-220-0.png/512x512bb.jpg',\n",
       "   'artworkUrl100': 'https://is1-ssl.mzstatic.com/image/thumb/Purple211/v4/b7/0c/d1/b70cd118-ae4e-3ab0-4517-410ec977f875/AppIcon-1x_U007emarketing-0-10-0-85-220-0.png/100x100bb.jpg',\n",
       "   'artistViewUrl': 'https://apps.apple.com/us/developer/rush-materials/id1751380741?uo=4',\n",
       "   'appletvScreenshotUrls': [],\n",
       "   'features': [],\n",
       "   'isGameCenterEnabled': False,\n",
       "   'advisories': [],\n",
       "   'supportedDevices': ['iPhone5s-iPhone5s',\n",
       "    'iPadAir-iPadAir',\n",
       "    'iPadAirCellular-iPadAirCellular',\n",
       "    'iPadMiniRetina-iPadMiniRetina',\n",
       "    'iPadMiniRetinaCellular-iPadMiniRetinaCellular',\n",
       "    'iPhone6-iPhone6',\n",
       "    'iPhone6Plus-iPhone6Plus',\n",
       "    'iPadAir2-iPadAir2',\n",
       "    'iPadAir2Cellular-iPadAir2Cellular',\n",
       "    'iPadMini3-iPadMini3',\n",
       "    'iPadMini3Cellular-iPadMini3Cellular',\n",
       "    'iPodTouchSixthGen-iPodTouchSixthGen',\n",
       "    'iPhone6s-iPhone6s',\n",
       "    'iPhone6sPlus-iPhone6sPlus',\n",
       "    'iPadMini4-iPadMini4',\n",
       "    'iPadMini4Cellular-iPadMini4Cellular',\n",
       "    'iPadPro-iPadPro',\n",
       "    'iPadProCellular-iPadProCellular',\n",
       "    'iPadPro97-iPadPro97',\n",
       "    'iPadPro97Cellular-iPadPro97Cellular',\n",
       "    'iPhoneSE-iPhoneSE',\n",
       "    'iPhone7-iPhone7',\n",
       "    'iPhone7Plus-iPhone7Plus',\n",
       "    'iPad611-iPad611',\n",
       "    'iPad612-iPad612',\n",
       "    'iPad71-iPad71',\n",
       "    'iPad72-iPad72',\n",
       "    'iPad73-iPad73',\n",
       "    'iPad74-iPad74',\n",
       "    'iPhone8-iPhone8',\n",
       "    'iPhone8Plus-iPhone8Plus',\n",
       "    'iPhoneX-iPhoneX',\n",
       "    'iPad75-iPad75',\n",
       "    'iPad76-iPad76',\n",
       "    'iPhoneXS-iPhoneXS',\n",
       "    'iPhoneXSMax-iPhoneXSMax',\n",
       "    'iPhoneXR-iPhoneXR',\n",
       "    'iPad812-iPad812',\n",
       "    'iPad834-iPad834',\n",
       "    'iPad856-iPad856',\n",
       "    'iPad878-iPad878',\n",
       "    'iPadMini5-iPadMini5',\n",
       "    'iPadMini5Cellular-iPadMini5Cellular',\n",
       "    'iPadAir3-iPadAir3',\n",
       "    'iPadAir3Cellular-iPadAir3Cellular',\n",
       "    'iPodTouchSeventhGen-iPodTouchSeventhGen',\n",
       "    'iPhone11-iPhone11',\n",
       "    'iPhone11Pro-iPhone11Pro',\n",
       "    'iPadSeventhGen-iPadSeventhGen',\n",
       "    'iPadSeventhGenCellular-iPadSeventhGenCellular',\n",
       "    'iPhone11ProMax-iPhone11ProMax',\n",
       "    'iPhoneSESecondGen-iPhoneSESecondGen',\n",
       "    'iPadProSecondGen-iPadProSecondGen',\n",
       "    'iPadProSecondGenCellular-iPadProSecondGenCellular',\n",
       "    'iPadProFourthGen-iPadProFourthGen',\n",
       "    'iPadProFourthGenCellular-iPadProFourthGenCellular',\n",
       "    'iPhone12Mini-iPhone12Mini',\n",
       "    'iPhone12-iPhone12',\n",
       "    'iPhone12Pro-iPhone12Pro',\n",
       "    'iPhone12ProMax-iPhone12ProMax',\n",
       "    'iPadAir4-iPadAir4',\n",
       "    'iPadAir4Cellular-iPadAir4Cellular',\n",
       "    'iPadEighthGen-iPadEighthGen',\n",
       "    'iPadEighthGenCellular-iPadEighthGenCellular',\n",
       "    'iPadProThirdGen-iPadProThirdGen',\n",
       "    'iPadProThirdGenCellular-iPadProThirdGenCellular',\n",
       "    'iPadProFifthGen-iPadProFifthGen',\n",
       "    'iPadProFifthGenCellular-iPadProFifthGenCellular',\n",
       "    'iPhone13Pro-iPhone13Pro',\n",
       "    'iPhone13ProMax-iPhone13ProMax',\n",
       "    'iPhone13Mini-iPhone13Mini',\n",
       "    'iPhone13-iPhone13',\n",
       "    'iPadMiniSixthGen-iPadMiniSixthGen',\n",
       "    'iPadMiniSixthGenCellular-iPadMiniSixthGenCellular',\n",
       "    'iPadNinthGen-iPadNinthGen',\n",
       "    'iPadNinthGenCellular-iPadNinthGenCellular',\n",
       "    'iPhoneSEThirdGen-iPhoneSEThirdGen',\n",
       "    'iPadAirFifthGen-iPadAirFifthGen',\n",
       "    'iPadAirFifthGenCellular-iPadAirFifthGenCellular',\n",
       "    'iPhone14-iPhone14',\n",
       "    'iPhone14Plus-iPhone14Plus',\n",
       "    'iPhone14Pro-iPhone14Pro',\n",
       "    'iPhone14ProMax-iPhone14ProMax',\n",
       "    'iPadTenthGen-iPadTenthGen',\n",
       "    'iPadTenthGenCellular-iPadTenthGenCellular',\n",
       "    'iPadPro11FourthGen-iPadPro11FourthGen',\n",
       "    'iPadPro11FourthGenCellular-iPadPro11FourthGenCellular',\n",
       "    'iPadProSixthGen-iPadProSixthGen',\n",
       "    'iPadProSixthGenCellular-iPadProSixthGenCellular',\n",
       "    'iPhone15-iPhone15',\n",
       "    'iPhone15Plus-iPhone15Plus',\n",
       "    'iPhone15Pro-iPhone15Pro',\n",
       "    'iPhone15ProMax-iPhone15ProMax',\n",
       "    'iPadAir11M2-iPadAir11M2',\n",
       "    'iPadAir11M2Cellular-iPadAir11M2Cellular',\n",
       "    'iPadAir13M2-iPadAir13M2',\n",
       "    'iPadAir13M2Cellular-iPadAir13M2Cellular',\n",
       "    'iPadPro11M4-iPadPro11M4',\n",
       "    'iPadPro11M4Cellular-iPadPro11M4Cellular',\n",
       "    'iPadPro13M4-iPadPro13M4',\n",
       "    'iPadPro13M4Cellular-iPadPro13M4Cellular'],\n",
       "   'kind': 'software',\n",
       "   'minimumOsVersion': '12.1',\n",
       "   'currentVersionReleaseDate': '2024-06-26T21:40:39Z',\n",
       "   'averageUserRatingForCurrentVersion': 0,\n",
       "   'averageUserRating': 0,\n",
       "   'trackCensoredName': 'Rush Materials',\n",
       "   'languageCodesISO2A': ['EN'],\n",
       "   'fileSizeBytes': '70337536',\n",
       "   'sellerUrl': 'https://rushmaterialsapp.com/',\n",
       "   'formattedPrice': 'Free',\n",
       "   'contentAdvisoryRating': '17+',\n",
       "   'userRatingCountForCurrentVersion': 0,\n",
       "   'trackViewUrl': 'https://apps.apple.com/us/app/rush-materials/id6504206352?uo=4',\n",
       "   'trackContentRating': '17+',\n",
       "   'artistId': 1751380741,\n",
       "   'artistName': 'Rush Materials',\n",
       "   'genres': ['Shopping', 'Lifestyle'],\n",
       "   'price': 0.0,\n",
       "   'description': 'Welcome to Rush, your one-stop destination for all your construction-based product needs. Whether you’re looking for quality materials, seeking a platform to showcase your products, or a delivery man wanting to be part of a streamlined process, Rush has got you covered.\\n\\nAt Rush, we pride ourselves on offering a seamless online shopping experience tailored specifically for those in the construction industry. What sets Rush apart is our commitment to efficiency and reliability. We understand that time is money in construction, which is why we’ve designed our platform to streamline the purchasing process, making it quick and hassle-free for you to find and order the materials and tools you need to get the job done right. With a vast selection of high-quality products ranging from building materials to tools and equipment, Rush provides unmatched convenience and choice. Our user-friendly interface allows you to browse and purchase products with ease, while our secure payment gateway ensures your transactions are safe and secure.\\n\\nWhether you’re a contractor, builder, or DIY enthusiast, choosing Rush means choosing reliability. Our dedicated delivery network ensures your orders are delivered promptly and securely, so you can focus on your projects with peace of mind.\\n\\nExperience the difference with Rush and discover a new way to shop for construction products. Choose Rush for convenience, reliability, and quality you can trust.',\n",
       "   'bundleId': 'com.gologonow.rushUserApp',\n",
       "   'releaseDate': '2024-06-26T07:00:00Z',\n",
       "   'isVppDeviceBasedLicensingEnabled': True,\n",
       "   'sellerName': 'Rush Materials LLC',\n",
       "   'genreIds': ['6024', '6012'],\n",
       "   'primaryGenreName': 'Shopping',\n",
       "   'primaryGenreId': 6024,\n",
       "   'currency': 'USD',\n",
       "   'trackId': 6504206352,\n",
       "   'trackName': 'Rush Materials',\n",
       "   'version': '1.0',\n",
       "   'wrapperType': 'software',\n",
       "   'userRatingCount': 0}]}"
      ]
     },
     "execution_count": 7,
     "metadata": {},
     "output_type": "execute_result"
    }
   ],
   "source": [
    "appdata = requests.get(url=baseurl, params=params)\n",
    "results = appdata.json()\n",
    "results"
   ]
  },
  {
   "cell_type": "code",
   "execution_count": 7,
   "metadata": {},
   "outputs": [],
   "source": [
    "results = appdata.json()\n",
    "data = results[\"results\"][0]\n",
    "fp = \"notes/appdata.csv\"\n",
    "vars = []\n",
    "types = []\n",
    "for k, v in data.items():\n",
    "    vars.append(k), types.append(type(v))\n",
    "metadata = pd.DataFrame(data={\"variable\": vars, \"dtypes\": types})\n",
    "metadata.head()\n",
    "metadata.to_csv(fp)"
   ]
  },
  {
   "cell_type": "code",
   "execution_count": 8,
   "metadata": {},
   "outputs": [],
   "source": [
    "FP = \"tests/data/appdata.json\""
   ]
  },
  {
   "cell_type": "code",
   "execution_count": 9,
   "metadata": {},
   "outputs": [],
   "source": [
    "results = appdata.json()\n",
    "results = json.dumps(results)\n",
    "with open(FP, \"w\") as file:\n",
    "    file.write(results)"
   ]
  },
  {
   "cell_type": "markdown",
   "metadata": {},
   "source": [
    "## Reviews"
   ]
  },
  {
   "cell_type": "code",
   "execution_count": 10,
   "metadata": {},
   "outputs": [],
   "source": [
    "ids = {\"youtube\": \"544007664\", \"contraction_counter\": \"877303791\"}\n",
    "start = 0\n",
    "end = 1\n",
    "url = f\"https://itunes.apple.com/WebObjects/MZStore.woa/wa/userReviewsRow?id={ids['youtube']}&displayable-kind=11&startIndex={start}&endIndex={end}&sort=1\""
   ]
  },
  {
   "cell_type": "code",
   "execution_count": 11,
   "metadata": {},
   "outputs": [
    {
     "data": {
      "text/plain": [
       "<Response [200]>"
      ]
     },
     "execution_count": 11,
     "metadata": {},
     "output_type": "execute_result"
    }
   ],
   "source": [
    "reviews = requests.get(url=url, headers={\"X-Apple-Store-Front\": \"143441-1,29\"})\n",
    "reviews"
   ]
  },
  {
   "cell_type": "code",
   "execution_count": 19,
   "metadata": {},
   "outputs": [
    {
     "name": "stdout",
     "output_type": "stream",
     "text": [
      "\n",
      "\n",
      "                                 Reviewe Header                                 \n",
      "                                  Server | daiquiri/5\n",
      "                            Content-Type | application/json; charset=UTF-8\n",
      "                          Content-Length | 1135\n",
      "          x-apple-jingle-correlation-key | VQZEEDFD25VJD3DCD2NCJUCRNE\n",
      "                    x-apple-request-uuid | ac32420c-a3d7-6a91-ec62-1e9a24d05169\n",
      "               x-apple-translated-wo-url | /WebObjects/MZStore.woa/wa/userReviewsRow?id=544007664&displayable-kind=11&startIndex=0&endIndex=1&sort=1\n",
      "                                apple-tk | false\n",
      "                             x-b3-spanid | aa09a4bd5e52e054\n",
      "                   x-responding-instance | MZStore:2167002:::\n",
      "                                      b3 | ac32420ca3d76a91ec621e9a24d05169-aa09a4bd5e52e054\n",
      "                            x-b3-traceid | ac32420ca3d76a91ec621e9a24d05169\n",
      "                x-webobjects-loadaverage | 0\n",
      "                           Last-Modified | Sat, 07 Sep 2024 00:45:05 GMT\n",
      "                               apple-seq | 0.0\n",
      "             Access-Control-Allow-Origin | *\n",
      "                apple-originating-system | MZStore\n",
      "                        Content-Encoding | gzip\n",
      "               strict-transport-security | max-age=31536000; includeSubDomains\n",
      "                         x-frame-options | SAMEORIGIN\n",
      "                        x-apple-orig-url | https://itunes.apple.com/WebObjects/MZStore.woa/wa/userReviewsRow?id=544007664&displayable-kind=11&startIndex=0&endIndex=1&sort=1\n",
      "                x-apple-application-site | ST11\n",
      "                        apple-timing-app | 143 ms\n",
      "            x-apple-application-instance | 2167002\n",
      "                     x-daiquiri-instance | daiquiri:41896008:st53p00it-qujn12040101:7987:24RELEASE186:daiquiri-amp-store-l7shared-int-001-st\n",
      "                           Cache-Control | no-transform, max-age=863\n",
      "                                    Date | Sat, 07 Sep 2024 00:45:05 GMT\n",
      "                                 X-Cache | TCP_MISS from a104-119-188-79.deploy.akamaitechnologies.com (AkamaiGHost/11.6.2.1-58447958) (-)\n",
      "                        X-True-Cache-Key | /L/itunes.apple.com/WebObjects/MZStore.woa/wa/userReviewsRow vcd=2897 ci2=displayable-kind=11&endIndex=1&id=544007664&sort=1&startIndex=0//.143441-1,29/\n",
      "                              Connection | keep-alive\n",
      "                                    Vary | Accept-Encoding, X-Apple-Store-Front, Cookie, Accept-Encoding\n",
      "                          X-Cache-Remote | TCP_MISS from a23-192-164-78.deploy.akamaitechnologies.com (AkamaiGHost/11.6.2.1-58447958) (-)\n",
      "                         X-Apple-Partner | origin.0\n",
      "\n",
      "\n"
     ]
    }
   ],
   "source": [
    "printer.print_dict(title=\"Reviewe Header\", data=reviews.headers)"
   ]
  },
  {
   "cell_type": "code",
   "execution_count": 12,
   "metadata": {},
   "outputs": [
    {
     "data": {
      "text/plain": [
       "{'userReviewList': [{'userReviewId': '11617994239',\n",
       "   'body': \"Comments: What's with the comment text field? The text size has been itty bitty, & >half the time, if I type on the same line as a mention, each word overlaps in one spot 2 lines above the @, so I can't read or move the cursor. It took me ages to realize if I line break before typing, it's fine. (Also, bold/italic text is small, like it's squeezing into <its normal amount of space.) — AirPods & Ads: I wish AirPods could skip ads instead of playing a new video. Maybe ads could play as separate videos in Play Now like on other apps? It's inconvenient when I'm doing chores & have to sit through a 5 minute, otherwise skippable ad. — Playback Speed (unsure if it's still valid): Some videos don't have a way to change playback speed on the iOS/iPadOS app, Some videos do, but some don't. When I'm on my iPad I can just use Safari, but on my phone I would like to be able to speed up videos so I don't have to listen to someone talk at snail speed just to find answers to questions that usually take half a video to get to despite it being the topic of the video.\",\n",
       "   'date': '2024-08-16T19:41:55Z',\n",
       "   'name': 'Madison is Great',\n",
       "   'rating': 4,\n",
       "   'title': 'Comment editor, AirPods & skippable ads, playback speed',\n",
       "   'voteCount': 673,\n",
       "   'voteSum': 298,\n",
       "   'isEdited': False,\n",
       "   'viewUsersUserReviewsUrl': 'https://itunes.apple.com/us/reviews?userProfileId=482478151',\n",
       "   'voteUrl': 'https://userpub.itunes.apple.com/WebObjects/MZUserPublishing.woa/wa/rateUserReview?userReviewId=11617994239',\n",
       "   'reportConcernUrl': 'https://userpub.itunes.apple.com/WebObjects/MZUserPublishing.woa/wa/reportAConcernSubmit?cc=us',\n",
       "   'reportConcernExplanation': 'Tell us a little more (Optional)',\n",
       "   'customerType': 'Customers',\n",
       "   'reportConcernReasons': [{'reasonId': '1',\n",
       "     'name': 'It contains offensive material',\n",
       "     'upperCaseName': 'IT CONTAINS OFFENSIVE MATERIAL'},\n",
       "    {'reasonId': '8',\n",
       "     'name': 'It’s off-topic',\n",
       "     'upperCaseName': 'IT’S OFF-TOPIC'},\n",
       "    {'reasonId': '111003',\n",
       "     'name': 'It looks like spam',\n",
       "     'upperCaseName': 'IT LOOKS LIKE SPAM'},\n",
       "    {'reasonId': '7',\n",
       "     'name': 'Something else',\n",
       "     'upperCaseName': 'SOMETHING ELSE'}]}]}"
      ]
     },
     "execution_count": 12,
     "metadata": {},
     "output_type": "execute_result"
    }
   ],
   "source": [
    "result = reviews.json()\n",
    "result"
   ]
  },
  {
   "cell_type": "code",
   "execution_count": 13,
   "metadata": {},
   "outputs": [],
   "source": [
    "data = result[\"userReviewList\"][0]\n",
    "fp = \"notes/appreviews.csv\"\n",
    "vars = []\n",
    "types = []\n",
    "for k, v in data.items():\n",
    "    vars.append(k), types.append(type(v))\n",
    "metadata = pd.DataFrame(data={\"variable\": vars, \"dtypes\": types})\n",
    "metadata.head()\n",
    "metadata.to_csv(fp)"
   ]
  },
  {
   "cell_type": "code",
   "execution_count": 14,
   "metadata": {},
   "outputs": [],
   "source": [
    "FP = \"tests/data/reviews.json\""
   ]
  },
  {
   "cell_type": "code",
   "execution_count": 15,
   "metadata": {},
   "outputs": [],
   "source": [
    "results = json.dumps(result)\n",
    "with open(FP, \"w\") as file:\n",
    "    file.write(results)"
   ]
  }
 ],
 "metadata": {
  "kernelspec": {
   "display_name": "appvocai",
   "language": "python",
   "name": "python3"
  },
  "language_info": {
   "codemirror_mode": {
    "name": "ipython",
    "version": 3
   },
   "file_extension": ".py",
   "mimetype": "text/x-python",
   "name": "python",
   "nbconvert_exporter": "python",
   "pygments_lexer": "ipython3",
   "version": "3.10.14"
  }
 },
 "nbformat": 4,
 "nbformat_minor": 2
}
