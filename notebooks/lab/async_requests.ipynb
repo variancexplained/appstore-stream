{
 "cells": [
  {
   "cell_type": "markdown",
   "metadata": {},
   "source": [
    "# Async Request Lab"
   ]
  },
  {
   "cell_type": "code",
   "execution_count": 1,
   "metadata": {},
   "outputs": [],
   "source": [
    "import asyncio\n",
    "import json\n",
    "import logging\n",
    "from random import random\n",
    "import aiohttp\n",
    "\n",
    "from appvocai.domain.request.appdata import RequestAppData, RequestAppDataGen\n",
    "from appvocai.domain.request.review import RequestAppReview, RequestAppReviewGen, AsyncRequestAppReview\n",
    "from appvocai.domain.response.appdata import ResponseAppData\n",
    "from appvocai.domain.response.review import ResponseAppReview\n",
    "from appvocai.infra.base.config import Config\n",
    "from appvocai.toolkit.print import Printer\n"
   ]
  },
  {
   "cell_type": "code",
   "execution_count": 2,
   "metadata": {},
   "outputs": [],
   "source": [
    "logger = logging.getLogger(__name__)"
   ]
  },
  {
   "cell_type": "markdown",
   "metadata": {},
   "source": [
    "## Session"
   ]
  },
  {
   "cell_type": "code",
   "execution_count": 3,
   "metadata": {},
   "outputs": [],
   "source": [
    "CONCURRENCY=5\n",
    "TIMEOUT=30\n",
    "RETRIES = 3"
   ]
  },
  {
   "cell_type": "code",
   "execution_count": 4,
   "metadata": {},
   "outputs": [],
   "source": [
    "connector = aiohttp.TCPConnector()\n",
    "concurrency = asyncio.Semaphore(CONCURRENCY)\n",
    "timeout = aiohttp.ClientTimeout(total=TIMEOUT)"
   ]
  },
  {
   "cell_type": "raw",
   "metadata": {
    "vscode": {
     "languageId": "raw"
    }
   },
   "source": [
    "CONCURRENCY=5\n",
    "TIMEOUT=30\n",
    "RETRIES = 3\n",
    "\n",
    "connector = aiohttp.TCPConnector()\n",
    "concurrency = asyncio.Semaphore(CONCURRENCY)\n",
    "timeout = aiohttp.ClientTimeout(total=TIMEOUT)\n",
    "\n",
    "def create_session(concurrency, timeout)\n",
    "\n",
    "async def make_request(session, request, concurrency, throttle: bool = True):\n",
    "    attempts = 0\n",
    "    async with concurrency:\n",
    "        while attempts < RETRIES:\n",
    "            try:\n",
    "                aresponse = ResponseAppReview()\n",
    "                aresponse.parse_request(request=request)\n",
    "                async with session.get(url=request.baseurl,ssl=False, params=request.params) as response:\n",
    "                    if throttle:\n",
    "                        await asyncio.sleep(random())\n",
    "                    response.raise_for_status()\n",
    "                    return await aresponse.parse_response(response=response)\n",
    "            except aiohttp.ClientError as e:  # Specific aiohttp exceptions\n",
    "                logger.warning(f\"Attempt {attempts + 1} failed: {e}\")\n",
    "                attempts += 1\n",
    "                if attempts >= RETRIES:\n",
    "                    logger.error(f\"All {RETRIES} attempts failed for request: {request}\")\n",
    "                    raise\n",
    "            except Exception as e:  # Handle unexpected exceptions\n",
    "                logger.exception(f\"Unexpected error: {e}\")\n",
    "                raise\n",
    "            else:\n",
    "                break  # Break out of the loop if successful\n",
    "            finally:\n",
    "                attempts += 1\n",
    "\n",
    "async def make_requests(async_request):\n",
    "    async with aiohttp.ClientSession(\n",
    "        headers=async_request.requests[0].headers,\n",
    "        connector=connector,\n",
    "        trust_env=True,\n",
    "        raise_for_status=True,\n",
    "        timeout=timeout) as session:\n",
    "\n",
    "        tasks = [make_request(session=session, request=request, concurrency=concurrency) for request in async_request.requests]\n",
    "        return await asyncio.gather(*tasks, return_exceptions=False)"
   ]
  },
  {
   "cell_type": "raw",
   "metadata": {
    "vscode": {
     "languageId": "raw"
    }
   },
   "source": [
    "async def make_requests(async_request):\n",
    "    async with aiohttp.ClientSession(\n",
    "        headers=async_request.requests[0].headers,\n",
    "        connector=connector,\n",
    "        trust_env=True,\n",
    "        raise_for_status=True,\n",
    "        timeout=timeout) as session:\n",
    "\n",
    "        tasks = [make_request(session=session, request=request, concurrency=concurrency) for request in async_request.requests]\n",
    "        return await asyncio.gather(*tasks, return_exceptions=False)\n"
   ]
  },
  {
   "cell_type": "markdown",
   "metadata": {},
   "source": [
    "## AppData"
   ]
  },
  {
   "cell_type": "code",
   "execution_count": 5,
   "metadata": {},
   "outputs": [],
   "source": [
    "CATEGORY = 6018\n",
    "MAX_REQUESTS = 10\n",
    "BATCH_SIZE = 2\n",
    "PAGE = 2\n",
    "LIMIT = 2\n",
    "OFFSET = 0\n",
    "START_IDX = 0\n"
   ]
  },
  {
   "cell_type": "markdown",
   "metadata": {},
   "source": [
    "### AppData Generate Requests"
   ]
  },
  {
   "cell_type": "raw",
   "metadata": {
    "vscode": {
     "languageId": "raw"
    }
   },
   "source": [
    "appdata_rgen = RequestAppDataGen(category_id=CATEGORY, max_requests=MAX_REQUESTS, batch_size=BATCH_SIZE, start_page=START_IDX, limit=LIMIT)\n",
    "assert isinstance(appdata_rgen, RequestAppDataGen)\n",
    "\n",
    "for arequest in appdata_rgen:\n",
    "    aresponse = await get_response(async_request=arequest)\n",
    "    for response in aresponse:\n",
    "        print(response)"
   ]
  },
  {
   "cell_type": "markdown",
   "metadata": {},
   "source": [
    "## AppReviews"
   ]
  },
  {
   "cell_type": "code",
   "execution_count": 6,
   "metadata": {},
   "outputs": [],
   "source": [
    "APP_ID = 544007664"
   ]
  },
  {
   "cell_type": "code",
   "execution_count": 7,
   "metadata": {},
   "outputs": [],
   "source": [
    "# appreview_rgen = RequestAppReviewGen(app_id=APP_ID, max_requests=MAX_REQUESTS, batch_size=BATCH_SIZE, start_page=START_IDX, limit=LIMIT)\n",
    "# assert isinstance(appreview_rgen, RequestAppReviewGen)"
   ]
  },
  {
   "cell_type": "code",
   "execution_count": 8,
   "metadata": {},
   "outputs": [],
   "source": [
    "# for arequest in appreview_rgen:\n",
    "#     assert isinstance(arequest, AsyncRequestAppReview)\n",
    "#     aresponse = await make_requests(async_request=arequest)\n",
    "#     for response in aresponse:\n",
    "#         print(response)\n",
    "#         break"
   ]
  },
  {
   "cell_type": "code",
   "execution_count": 9,
   "metadata": {},
   "outputs": [
    {
     "name": "stderr",
     "output_type": "stream",
     "text": [
      "Failed to parse JSON response: Expecting value: line 1 column 1 (char 0)\n",
      "ERROR:__main__:Unexpected error: Expecting value: line 1 column 1 (char 0)\n",
      "Traceback (most recent call last):\n",
      "  File \"/tmp/ipykernel_619839/3127548050.py\", line 43, in make_request\n",
      "    result = await aresponse.parse_response(response=response)\n",
      "  File \"/home/john/projects/appvocai-acquire/appvocai/domain/response/review.py\", line 42, in parse_response\n",
      "    content = await response.json(content_type=None)\n",
      "  File \"/home/john/miniconda3/envs/appvocai/lib/python3.10/site-packages/aiohttp/client_reqrep.py\", line 1192, in json\n",
      "    return loads(stripped.decode(encoding))\n",
      "  File \"/home/john/miniconda3/envs/appvocai/lib/python3.10/json/__init__.py\", line 346, in loads\n",
      "    return _default_decoder.decode(s)\n",
      "  File \"/home/john/miniconda3/envs/appvocai/lib/python3.10/json/decoder.py\", line 337, in decode\n",
      "    obj, end = self.raw_decode(s, idx=_w(s, 0).end())\n",
      "  File \"/home/john/miniconda3/envs/appvocai/lib/python3.10/json/decoder.py\", line 355, in raw_decode\n",
      "    raise JSONDecodeError(\"Expecting value\", s, err.value) from None\n",
      "json.decoder.JSONDecodeError: Expecting value: line 1 column 1 (char 0)\n"
     ]
    },
    {
     "ename": "JSONDecodeError",
     "evalue": "Expecting value: line 1 column 1 (char 0)",
     "output_type": "error",
     "traceback": [
      "\u001b[0;31m---------------------------------------------------------------------------\u001b[0m",
      "\u001b[0;31mJSONDecodeError\u001b[0m                           Traceback (most recent call last)",
      "Cell \u001b[0;32mIn[9], line 80\u001b[0m\n\u001b[1;32m     77\u001b[0m                 \u001b[38;5;28mprint\u001b[39m(response)\n\u001b[1;32m     79\u001b[0m \u001b[38;5;66;03m# Running the code in Jupyter\u001b[39;00m\n\u001b[0;32m---> 80\u001b[0m \u001b[38;5;28;01mawait\u001b[39;00m main()\n",
      "Cell \u001b[0;32mIn[9], line 75\u001b[0m, in \u001b[0;36mmain\u001b[0;34m()\u001b[0m\n\u001b[1;32m     73\u001b[0m \u001b[38;5;28;01mfor\u001b[39;00m arequest \u001b[38;5;129;01min\u001b[39;00m appreview_rgen:\n\u001b[1;32m     74\u001b[0m     \u001b[38;5;28;01massert\u001b[39;00m \u001b[38;5;28misinstance\u001b[39m(arequest, AsyncRequestAppReview)\n\u001b[0;32m---> 75\u001b[0m     aresponse \u001b[38;5;241m=\u001b[39m \u001b[38;5;28;01mawait\u001b[39;00m make_requests(session\u001b[38;5;241m=\u001b[39msession, async_request\u001b[38;5;241m=\u001b[39marequest)\n\u001b[1;32m     76\u001b[0m     \u001b[38;5;28;01mfor\u001b[39;00m response \u001b[38;5;129;01min\u001b[39;00m aresponse:\n\u001b[1;32m     77\u001b[0m         \u001b[38;5;28mprint\u001b[39m(response)\n",
      "Cell \u001b[0;32mIn[9], line 63\u001b[0m, in \u001b[0;36mmake_requests\u001b[0;34m(session, async_request)\u001b[0m\n\u001b[1;32m     58\u001b[0m \u001b[38;5;28;01masync\u001b[39;00m \u001b[38;5;28;01mdef\u001b[39;00m \u001b[38;5;21mmake_requests\u001b[39m(session, async_request):\n\u001b[1;32m     59\u001b[0m     tasks \u001b[38;5;241m=\u001b[39m [\n\u001b[1;32m     60\u001b[0m         make_request(session\u001b[38;5;241m=\u001b[39msession, request\u001b[38;5;241m=\u001b[39mrequest, concurrency\u001b[38;5;241m=\u001b[39mconcurrency)\n\u001b[1;32m     61\u001b[0m         \u001b[38;5;28;01mfor\u001b[39;00m request \u001b[38;5;129;01min\u001b[39;00m async_request\u001b[38;5;241m.\u001b[39mrequests\n\u001b[1;32m     62\u001b[0m     ]\n\u001b[0;32m---> 63\u001b[0m     \u001b[38;5;28;01mreturn\u001b[39;00m \u001b[38;5;28;01mawait\u001b[39;00m asyncio\u001b[38;5;241m.\u001b[39mgather(\u001b[38;5;241m*\u001b[39mtasks, return_exceptions\u001b[38;5;241m=\u001b[39m\u001b[38;5;28;01mFalse\u001b[39;00m)\n",
      "File \u001b[0;32m~/miniconda3/envs/appvocai/lib/python3.10/asyncio/tasks.py:232\u001b[0m, in \u001b[0;36mTask.__step\u001b[0;34m(***failed resolving arguments***)\u001b[0m\n\u001b[1;32m    228\u001b[0m \u001b[38;5;28;01mtry\u001b[39;00m:\n\u001b[1;32m    229\u001b[0m     \u001b[38;5;28;01mif\u001b[39;00m exc \u001b[38;5;129;01mis\u001b[39;00m \u001b[38;5;28;01mNone\u001b[39;00m:\n\u001b[1;32m    230\u001b[0m         \u001b[38;5;66;03m# We use the `send` method directly, because coroutines\u001b[39;00m\n\u001b[1;32m    231\u001b[0m         \u001b[38;5;66;03m# don't have `__iter__` and `__next__` methods.\u001b[39;00m\n\u001b[0;32m--> 232\u001b[0m         result \u001b[38;5;241m=\u001b[39m \u001b[43mcoro\u001b[49m\u001b[38;5;241;43m.\u001b[39;49m\u001b[43msend\u001b[49m\u001b[43m(\u001b[49m\u001b[38;5;28;43;01mNone\u001b[39;49;00m\u001b[43m)\u001b[49m\n\u001b[1;32m    233\u001b[0m     \u001b[38;5;28;01melse\u001b[39;00m:\n\u001b[1;32m    234\u001b[0m         result \u001b[38;5;241m=\u001b[39m coro\u001b[38;5;241m.\u001b[39mthrow(exc)\n",
      "Cell \u001b[0;32mIn[9], line 43\u001b[0m, in \u001b[0;36mmake_request\u001b[0;34m(session, request, concurrency, throttle)\u001b[0m\n\u001b[1;32m     40\u001b[0m             \u001b[38;5;28;01mawait\u001b[39;00m asyncio\u001b[38;5;241m.\u001b[39msleep(random\u001b[38;5;241m.\u001b[39mrandom())\n\u001b[1;32m     42\u001b[0m         response\u001b[38;5;241m.\u001b[39mraise_for_status()\n\u001b[0;32m---> 43\u001b[0m         result \u001b[38;5;241m=\u001b[39m \u001b[38;5;28;01mawait\u001b[39;00m aresponse\u001b[38;5;241m.\u001b[39mparse_response(response\u001b[38;5;241m=\u001b[39mresponse)\n\u001b[1;32m     44\u001b[0m         \u001b[38;5;28;01mreturn\u001b[39;00m result\n\u001b[1;32m     46\u001b[0m \u001b[38;5;28;01mexcept\u001b[39;00m aiohttp\u001b[38;5;241m.\u001b[39mClientError \u001b[38;5;28;01mas\u001b[39;00m e:\n",
      "File \u001b[0;32m~/projects/appvocai-acquire/appvocai/domain/response/review.py:42\u001b[0m, in \u001b[0;36mResponseAppReview.parse_response\u001b[0;34m(self, response)\u001b[0m\n\u001b[1;32m     40\u001b[0m \u001b[38;5;250m\u001b[39m\u001b[38;5;124;03m\"\"\"Parses the response and populates member variables.\"\"\"\u001b[39;00m\n\u001b[1;32m     41\u001b[0m \u001b[38;5;28;01mawait\u001b[39;00m \u001b[38;5;28msuper\u001b[39m()\u001b[38;5;241m.\u001b[39mparse_response(response\u001b[38;5;241m=\u001b[39mresponse)\n\u001b[0;32m---> 42\u001b[0m content \u001b[38;5;241m=\u001b[39m \u001b[38;5;28;01mawait\u001b[39;00m response\u001b[38;5;241m.\u001b[39mjson(content_type\u001b[38;5;241m=\u001b[39m\u001b[38;5;28;01mNone\u001b[39;00m)\n\u001b[1;32m     43\u001b[0m \u001b[38;5;28mself\u001b[39m\u001b[38;5;241m.\u001b[39mn \u001b[38;5;241m=\u001b[39m \u001b[38;5;28mlen\u001b[39m(content\u001b[38;5;241m.\u001b[39mget(\u001b[38;5;124m\"\u001b[39m\u001b[38;5;124muserReviewList\u001b[39m\u001b[38;5;124m\"\u001b[39m,\u001b[38;5;241m0\u001b[39m))\n",
      "File \u001b[0;32m~/miniconda3/envs/appvocai/lib/python3.10/site-packages/aiohttp/client_reqrep.py:1192\u001b[0m, in \u001b[0;36mClientResponse.json\u001b[0;34m(self, encoding, loads, content_type)\u001b[0m\n\u001b[1;32m   1189\u001b[0m \u001b[38;5;28;01mif\u001b[39;00m encoding \u001b[38;5;129;01mis\u001b[39;00m \u001b[38;5;28;01mNone\u001b[39;00m:\n\u001b[1;32m   1190\u001b[0m     encoding \u001b[38;5;241m=\u001b[39m \u001b[38;5;28mself\u001b[39m\u001b[38;5;241m.\u001b[39mget_encoding()\n\u001b[0;32m-> 1192\u001b[0m \u001b[38;5;28;01mreturn\u001b[39;00m \u001b[43mloads\u001b[49m\u001b[43m(\u001b[49m\u001b[43mstripped\u001b[49m\u001b[38;5;241;43m.\u001b[39;49m\u001b[43mdecode\u001b[49m\u001b[43m(\u001b[49m\u001b[43mencoding\u001b[49m\u001b[43m)\u001b[49m\u001b[43m)\u001b[49m\n",
      "File \u001b[0;32m~/miniconda3/envs/appvocai/lib/python3.10/json/__init__.py:346\u001b[0m, in \u001b[0;36mloads\u001b[0;34m(s, cls, object_hook, parse_float, parse_int, parse_constant, object_pairs_hook, **kw)\u001b[0m\n\u001b[1;32m    341\u001b[0m     s \u001b[38;5;241m=\u001b[39m s\u001b[38;5;241m.\u001b[39mdecode(detect_encoding(s), \u001b[38;5;124m'\u001b[39m\u001b[38;5;124msurrogatepass\u001b[39m\u001b[38;5;124m'\u001b[39m)\n\u001b[1;32m    343\u001b[0m \u001b[38;5;28;01mif\u001b[39;00m (\u001b[38;5;28mcls\u001b[39m \u001b[38;5;129;01mis\u001b[39;00m \u001b[38;5;28;01mNone\u001b[39;00m \u001b[38;5;129;01mand\u001b[39;00m object_hook \u001b[38;5;129;01mis\u001b[39;00m \u001b[38;5;28;01mNone\u001b[39;00m \u001b[38;5;129;01mand\u001b[39;00m\n\u001b[1;32m    344\u001b[0m         parse_int \u001b[38;5;129;01mis\u001b[39;00m \u001b[38;5;28;01mNone\u001b[39;00m \u001b[38;5;129;01mand\u001b[39;00m parse_float \u001b[38;5;129;01mis\u001b[39;00m \u001b[38;5;28;01mNone\u001b[39;00m \u001b[38;5;129;01mand\u001b[39;00m\n\u001b[1;32m    345\u001b[0m         parse_constant \u001b[38;5;129;01mis\u001b[39;00m \u001b[38;5;28;01mNone\u001b[39;00m \u001b[38;5;129;01mand\u001b[39;00m object_pairs_hook \u001b[38;5;129;01mis\u001b[39;00m \u001b[38;5;28;01mNone\u001b[39;00m \u001b[38;5;129;01mand\u001b[39;00m \u001b[38;5;129;01mnot\u001b[39;00m kw):\n\u001b[0;32m--> 346\u001b[0m     \u001b[38;5;28;01mreturn\u001b[39;00m \u001b[43m_default_decoder\u001b[49m\u001b[38;5;241;43m.\u001b[39;49m\u001b[43mdecode\u001b[49m\u001b[43m(\u001b[49m\u001b[43ms\u001b[49m\u001b[43m)\u001b[49m\n\u001b[1;32m    347\u001b[0m \u001b[38;5;28;01mif\u001b[39;00m \u001b[38;5;28mcls\u001b[39m \u001b[38;5;129;01mis\u001b[39;00m \u001b[38;5;28;01mNone\u001b[39;00m:\n\u001b[1;32m    348\u001b[0m     \u001b[38;5;28mcls\u001b[39m \u001b[38;5;241m=\u001b[39m JSONDecoder\n",
      "File \u001b[0;32m~/miniconda3/envs/appvocai/lib/python3.10/json/decoder.py:337\u001b[0m, in \u001b[0;36mJSONDecoder.decode\u001b[0;34m(self, s, _w)\u001b[0m\n\u001b[1;32m    332\u001b[0m \u001b[38;5;28;01mdef\u001b[39;00m \u001b[38;5;21mdecode\u001b[39m(\u001b[38;5;28mself\u001b[39m, s, _w\u001b[38;5;241m=\u001b[39mWHITESPACE\u001b[38;5;241m.\u001b[39mmatch):\n\u001b[1;32m    333\u001b[0m \u001b[38;5;250m    \u001b[39m\u001b[38;5;124;03m\"\"\"Return the Python representation of ``s`` (a ``str`` instance\u001b[39;00m\n\u001b[1;32m    334\u001b[0m \u001b[38;5;124;03m    containing a JSON document).\u001b[39;00m\n\u001b[1;32m    335\u001b[0m \n\u001b[1;32m    336\u001b[0m \u001b[38;5;124;03m    \"\"\"\u001b[39;00m\n\u001b[0;32m--> 337\u001b[0m     obj, end \u001b[38;5;241m=\u001b[39m \u001b[38;5;28;43mself\u001b[39;49m\u001b[38;5;241;43m.\u001b[39;49m\u001b[43mraw_decode\u001b[49m\u001b[43m(\u001b[49m\u001b[43ms\u001b[49m\u001b[43m,\u001b[49m\u001b[43m \u001b[49m\u001b[43midx\u001b[49m\u001b[38;5;241;43m=\u001b[39;49m\u001b[43m_w\u001b[49m\u001b[43m(\u001b[49m\u001b[43ms\u001b[49m\u001b[43m,\u001b[49m\u001b[43m \u001b[49m\u001b[38;5;241;43m0\u001b[39;49m\u001b[43m)\u001b[49m\u001b[38;5;241;43m.\u001b[39;49m\u001b[43mend\u001b[49m\u001b[43m(\u001b[49m\u001b[43m)\u001b[49m\u001b[43m)\u001b[49m\n\u001b[1;32m    338\u001b[0m     end \u001b[38;5;241m=\u001b[39m _w(s, end)\u001b[38;5;241m.\u001b[39mend()\n\u001b[1;32m    339\u001b[0m     \u001b[38;5;28;01mif\u001b[39;00m end \u001b[38;5;241m!=\u001b[39m \u001b[38;5;28mlen\u001b[39m(s):\n",
      "File \u001b[0;32m~/miniconda3/envs/appvocai/lib/python3.10/json/decoder.py:355\u001b[0m, in \u001b[0;36mJSONDecoder.raw_decode\u001b[0;34m(self, s, idx)\u001b[0m\n\u001b[1;32m    353\u001b[0m     obj, end \u001b[38;5;241m=\u001b[39m \u001b[38;5;28mself\u001b[39m\u001b[38;5;241m.\u001b[39mscan_once(s, idx)\n\u001b[1;32m    354\u001b[0m \u001b[38;5;28;01mexcept\u001b[39;00m \u001b[38;5;167;01mStopIteration\u001b[39;00m \u001b[38;5;28;01mas\u001b[39;00m err:\n\u001b[0;32m--> 355\u001b[0m     \u001b[38;5;28;01mraise\u001b[39;00m JSONDecodeError(\u001b[38;5;124m\"\u001b[39m\u001b[38;5;124mExpecting value\u001b[39m\u001b[38;5;124m\"\u001b[39m, s, err\u001b[38;5;241m.\u001b[39mvalue) \u001b[38;5;28;01mfrom\u001b[39;00m \u001b[38;5;28;01mNone\u001b[39;00m\n\u001b[1;32m    356\u001b[0m \u001b[38;5;28;01mreturn\u001b[39;00m obj, end\n",
      "\u001b[0;31mJSONDecodeError\u001b[0m: Expecting value: line 1 column 1 (char 0)"
     ]
    },
    {
     "name": "stderr",
     "output_type": "stream",
     "text": [
      "WARNING:__main__:Attempt 1 failed: [Errno 1] [SSL: APPLICATION_DATA_AFTER_CLOSE_NOTIFY] application data after close notify (_ssl.c:2702)\n",
      "ERROR:__main__:Unexpected error: Session is closed\n",
      "Traceback (most recent call last):\n",
      "  File \"/home/john/miniconda3/envs/appvocai/lib/python3.10/asyncio/sslproto.py\", line 534, in data_received\n",
      "    ssldata, appdata = self._sslpipe.feed_ssldata(data)\n",
      "  File \"/home/john/miniconda3/envs/appvocai/lib/python3.10/asyncio/sslproto.py\", line 206, in feed_ssldata\n",
      "    self._sslobj.unwrap()\n",
      "  File \"/home/john/miniconda3/envs/appvocai/lib/python3.10/ssl.py\", line 979, in unwrap\n",
      "    return self._sslobj.shutdown()\n",
      "ssl.SSLError: [SSL: APPLICATION_DATA_AFTER_CLOSE_NOTIFY] application data after close notify (_ssl.c:2702)\n",
      "\n",
      "The above exception was the direct cause of the following exception:\n",
      "\n",
      "Traceback (most recent call last):\n",
      "  File \"/tmp/ipykernel_619839/3127548050.py\", line 32, in make_request\n",
      "    async with session.get(\n",
      "  File \"/home/john/miniconda3/envs/appvocai/lib/python3.10/site-packages/aiohttp/client.py\", line 1197, in __aenter__\n",
      "    self._resp = await self._coro\n",
      "  File \"/home/john/miniconda3/envs/appvocai/lib/python3.10/site-packages/aiohttp/client.py\", line 608, in _request\n",
      "    await resp.start(conn)\n",
      "  File \"/home/john/miniconda3/envs/appvocai/lib/python3.10/site-packages/aiohttp/client_reqrep.py\", line 976, in start\n",
      "    message, payload = await protocol.read()  # type: ignore[union-attr]\n",
      "  File \"/home/john/miniconda3/envs/appvocai/lib/python3.10/site-packages/aiohttp/streams.py\", line 640, in read\n",
      "    await self._waiter\n",
      "  File \"/home/john/miniconda3/envs/appvocai/lib/python3.10/asyncio/futures.py\", line 285, in __await__\n",
      "    yield self  # This tells Task to wait for completion.\n",
      "  File \"/home/john/miniconda3/envs/appvocai/lib/python3.10/asyncio/tasks.py\", line 304, in __wakeup\n",
      "    future.result()\n",
      "  File \"/home/john/miniconda3/envs/appvocai/lib/python3.10/asyncio/futures.py\", line 201, in result\n",
      "    raise self._exception.with_traceback(self._exception_tb)\n",
      "aiohttp.client_exceptions.ClientOSError: [Errno 1] [SSL: APPLICATION_DATA_AFTER_CLOSE_NOTIFY] application data after close notify (_ssl.c:2702)\n",
      "\n",
      "During handling of the above exception, another exception occurred:\n",
      "\n",
      "Traceback (most recent call last):\n",
      "  File \"/tmp/ipykernel_619839/3127548050.py\", line 32, in make_request\n",
      "    async with session.get(\n",
      "  File \"/home/john/miniconda3/envs/appvocai/lib/python3.10/site-packages/aiohttp/client.py\", line 1197, in __aenter__\n",
      "    self._resp = await self._coro\n",
      "  File \"/home/john/miniconda3/envs/appvocai/lib/python3.10/site-packages/aiohttp/client.py\", line 428, in _request\n",
      "    raise RuntimeError(\"Session is closed\")\n",
      "RuntimeError: Session is closed\n"
     ]
    }
   ],
   "source": [
    "import aiohttp\n",
    "import asyncio\n",
    "import nest_asyncio\n",
    "import logging\n",
    "import random\n",
    "from datetime import datetime\n",
    "from aiohttp import ClientSession\n",
    "\n",
    "from appvocai.domain.request.review import RequestAppReview, RequestAppReviewGen, AsyncRequestAppReview\n",
    "\n",
    "# Apply the nest_asyncio patch to allow nested asyncio.run calls in Jupyter\n",
    "nest_asyncio.apply()\n",
    "\n",
    "# Mocked or example settings\n",
    "RETRIES = 3\n",
    "concurrency = asyncio.Semaphore(10)  # Limit to 10 concurrent requests\n",
    "connector = aiohttp.TCPConnector(limit=10)  # Limit TCP connections\n",
    "timeout = aiohttp.ClientTimeout(total=60)  # 60 seconds timeout\n",
    "\n",
    "\n",
    "# Replace with your actual request generator\n",
    "appreview_rgen = RequestAppReviewGen(app_id=APP_ID, max_requests=MAX_REQUESTS, batch_size=BATCH_SIZE, start_page=START_IDX, limit=LIMIT)\n",
    "\n",
    "async def make_request(session, request, concurrency, throttle: bool = True):\n",
    "    attempts = 0\n",
    "    async with concurrency:\n",
    "        while attempts < RETRIES:\n",
    "            try:\n",
    "                aresponse = ResponseAppReview()\n",
    "                aresponse.parse_request(request=request)\n",
    "\n",
    "                async with session.get(\n",
    "                    url=request.baseurl,\n",
    "                    ssl=False,\n",
    "                    params=request.params,\n",
    "                    proxy=Config().proxy\n",
    "                ) as response:\n",
    "\n",
    "                    if throttle:\n",
    "                        await asyncio.sleep(random.random())\n",
    "\n",
    "                    response.raise_for_status()\n",
    "                    result = await aresponse.parse_response(response=response)\n",
    "                    return result\n",
    "\n",
    "            except aiohttp.ClientError as e:\n",
    "                logger.warning(f\"Attempt {attempts + 1} failed: {e}\")\n",
    "                attempts += 1\n",
    "                if attempts >= RETRIES:\n",
    "                    logger.error(f\"All {RETRIES} attempts failed for request: {request}\")\n",
    "                    raise\n",
    "            except Exception as e:\n",
    "                logger.exception(f\"Unexpected error: {e}\")\n",
    "                raise\n",
    "            else:\n",
    "                break\n",
    "\n",
    "async def make_requests(session, async_request):\n",
    "    tasks = [\n",
    "        make_request(session=session, request=request, concurrency=concurrency)\n",
    "        for request in async_request.requests\n",
    "    ]\n",
    "    return await asyncio.gather(*tasks, return_exceptions=False)\n",
    "\n",
    "async def main():\n",
    "    async with aiohttp.ClientSession(\n",
    "        connector=connector,\n",
    "        trust_env=True,\n",
    "        raise_for_status=True,\n",
    "        timeout=timeout\n",
    "    ) as session:\n",
    "\n",
    "        for arequest in appreview_rgen:\n",
    "            assert isinstance(arequest, AsyncRequestAppReview)\n",
    "            aresponse = await make_requests(session=session, async_request=arequest)\n",
    "            for response in aresponse:\n",
    "                print(response)\n",
    "\n",
    "# Running the code in Jupyter\n",
    "await main()\n",
    "\n"
   ]
  }
 ],
 "metadata": {
  "kernelspec": {
   "display_name": "appvocai",
   "language": "python",
   "name": "python3"
  },
  "language_info": {
   "codemirror_mode": {
    "name": "ipython",
    "version": 3
   },
   "file_extension": ".py",
   "mimetype": "text/x-python",
   "name": "python",
   "nbconvert_exporter": "python",
   "pygments_lexer": "ipython3",
   "version": "3.10.14"
  }
 },
 "nbformat": 4,
 "nbformat_minor": 2
}
