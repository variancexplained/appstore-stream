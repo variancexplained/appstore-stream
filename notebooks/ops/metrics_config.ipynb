{
 "cells": [
  {
   "cell_type": "markdown",
   "metadata": {},
   "source": [
    "# Metrics Config"
   ]
  },
  {
   "cell_type": "code",
   "execution_count": 1,
   "metadata": {},
   "outputs": [],
   "source": [
    "import os\n",
    "import ruamel.yaml\n",
    "import pandas as pd"
   ]
  },
  {
   "cell_type": "markdown",
   "metadata": {},
   "source": [
    "## Filepaths"
   ]
  },
  {
   "cell_type": "code",
   "execution_count": 2,
   "metadata": {},
   "outputs": [],
   "source": [
    "CONFIG_FILEPATH_EXTRACT = \"config/metrics/extract.yaml\"\n",
    "CONFIG_FILEPATH_TRANSFORM = \"config/metrics/transform.yaml\"\n",
    "CONFIG_FILEPATH_LOAD = \"config/metrics/load.yaml\"\n",
    "CONFIG_FILEPATH_TASK = \"config/metrics/task.yaml\"\n",
    "CONFIG_FILEPATH_SYSTEM = \"config/metrics/system.yaml\"\n",
    "os.makedirs(os.path.dirname(CONFIG_FILEPATH_EXTRACT), exist_ok=True)"
   ]
  },
  {
   "cell_type": "markdown",
   "metadata": {},
   "source": [
    "## Yaml Loader"
   ]
  },
  {
   "cell_type": "code",
   "execution_count": 3,
   "metadata": {},
   "outputs": [],
   "source": [
    "yaml = ruamel.yaml.YAML()"
   ]
  },
  {
   "cell_type": "markdown",
   "metadata": {},
   "source": [
    "## Load Metric Config"
   ]
  },
  {
   "cell_type": "code",
   "execution_count": 4,
   "metadata": {},
   "outputs": [
    {
     "name": "stdout",
     "output_type": "stream",
     "text": [
      "                                                     Category  \\\n",
      "Metric                                                          \n",
      "appstorestream_extract_runtime_start_timestamp_...    extract   \n",
      "appstorestream_extract_runtime_stop_timestamp_s...    extract   \n",
      "appstorestream_extract_runtime_duration_seconds       extract   \n",
      "appstorestream_extract_runtime_duration_seconds...    extract   \n",
      "appstorestream_extract_request_count_total            extract   \n",
      "appstorestream_extract_request_per_second_ratio       extract   \n",
      "appstorestream_extract_response_count_total           extract   \n",
      "appstorestream_extract_response_per_second_ratio      extract   \n",
      "appstorestream_extract_response_average_latency...    extract   \n",
      "appstorestream_extract_response_latency_seconds...    extract   \n",
      "appstorestream_extract_response_average_size_bytes    extract   \n",
      "appstorestream_extract_response_size_bytes_total      extract   \n",
      "appstorestream_extract_success_failure_retries_...    extract   \n",
      "appstorestream_extract_success_failure_errors_t...    extract   \n",
      "appstorestream_extract_success_failure_client_e...    extract   \n",
      "appstorestream_extract_success_failure_server_e...    extract   \n",
      "appstorestream_extract_success_failure_redirect...    extract   \n",
      "appstorestream_extract_success_failure_unknown_...    extract   \n",
      "appstorestream_extract_success_failure_request_...    extract   \n",
      "appstorestream_extract_success_failure_request_...    extract   \n",
      "appstorestream_extract_throttle_concurrency_eff...    extract   \n",
      "appstorestream_extract_throttle_average_latency...    extract   \n",
      "appstorestream_extract_throttle_total_latency_e...    extract   \n",
      "appstorestream_transform_runtime_start_timestam...  transform   \n",
      "appstorestream_transform_runtime_stop_timestamp...  transform   \n",
      "appstorestream_transform_runtime_duration_seconds   transform   \n",
      "appstorestream_transform_runtime_duration_secon...  transform   \n",
      "appstorestream_transform_record_count               transform   \n",
      "appstorestream_transform_record_count_total         transform   \n",
      "appstorestream_transform_record_size_bytes          transform   \n",
      "appstorestream_transform_record_size_bytes_total    transform   \n",
      "appstorestream_transform_record_per_second_ratio    transform   \n",
      "appstorestream_transform_success_failure_data_e...  transform   \n",
      "appstorestream_transform_success_failure_data_e...  transform   \n",
      "appstorestream_transform_success_failure_record...  transform   \n",
      "appstorestream_load_runtime_start_timestamp_sec...       load   \n",
      "appstorestream_load_runtime_stop_timestamp_seconds       load   \n",
      "appstorestream_load_runtime_duration_seconds             load   \n",
      "appstorestream_load_runtime_duration_seconds_total       load   \n",
      "appstorestream_load_record_count                         load   \n",
      "appstorestream_load_record_count_total                   load   \n",
      "appstorestream_load_record_size_bytes                    load   \n",
      "appstorestream_load_record_size_bytes_total              load   \n",
      "appstorestream_load_record_per_second_ratio              load   \n",
      "appstorestream_task_runtime_start_timestamp_sec...       task   \n",
      "appstorestream_task_runtime_stop_timestamp_seconds       task   \n",
      "appstorestream_task_runtime_duration_seconds             task   \n",
      "appstorestream_task_runtime_duration_seconds_total       task   \n",
      "appstorestream_task_record_count_total                   task   \n",
      "appstorestream_task_record_per_second_ratio              task   \n",
      "appstorestream_system_network_io_bytes                 system   \n",
      "appstorestream_system_disk_io_bytes                    system   \n",
      "appstorestream_system_size_db_bytes                    system   \n",
      "appstorestream_system_cpu_average_pct_ratio            system   \n",
      "appstorestream_system_memory_average_pct_ratio         system   \n",
      "\n",
      "                                                                                          Description  \\\n",
      "Metric                                                                                                  \n",
      "appstorestream_extract_runtime_start_timestamp_...                 Extract start timestamp in seconds   \n",
      "appstorestream_extract_runtime_stop_timestamp_s...                  Extract stop timestamp in seconds   \n",
      "appstorestream_extract_runtime_duration_seconds                              Extract session duration   \n",
      "appstorestream_extract_runtime_duration_seconds...                     Extract session duration total   \n",
      "appstorestream_extract_request_count_total                              Extract session request count   \n",
      "appstorestream_extract_request_per_second_ratio                   Extract session requests per second   \n",
      "appstorestream_extract_response_count_total                            Extract session response count   \n",
      "appstorestream_extract_response_per_second_ratio                 Extract session responses per second   \n",
      "appstorestream_extract_response_average_latency...           Extract session average response latency   \n",
      "appstorestream_extract_response_latency_seconds...     Extract session average response latency total   \n",
      "appstorestream_extract_response_average_size_bytes     Extract session average response size in bytes   \n",
      "appstorestream_extract_response_size_bytes_total         Extract session total response size in bytes   \n",
      "appstorestream_extract_success_failure_retries_...                        Extract session retry count   \n",
      "appstorestream_extract_success_failure_errors_t...                        Extract session error count   \n",
      "appstorestream_extract_success_failure_client_e...                 Extract Session Client Error Count   \n",
      "appstorestream_extract_success_failure_server_e...                 Extract Session Server Error Count   \n",
      "appstorestream_extract_success_failure_redirect...               Extract Session Redirect Error Count   \n",
      "appstorestream_extract_success_failure_unknown_...                Extract Session Unknown Error Count   \n",
      "appstorestream_extract_success_failure_request_...                  Extract Session Errors / Requests   \n",
      "appstorestream_extract_success_failure_request_...                   Extract Session 1 - Failure_Rate   \n",
      "appstorestream_extract_throttle_concurrency_eff...  Extract Session Average Latency / (Duration / ...   \n",
      "appstorestream_extract_throttle_average_latency...  Extract Session Average Latency / Average Dura...   \n",
      "appstorestream_extract_throttle_total_latency_e...    Extract Session Total Latency  / Total Duration   \n",
      "appstorestream_transform_runtime_start_timestam...               Transform Start Timestamp In Seconds   \n",
      "appstorestream_transform_runtime_stop_timestamp...                Transform Stop Timestamp In Seconds   \n",
      "appstorestream_transform_runtime_duration_seconds                       Transform Duration In Seconds   \n",
      "appstorestream_transform_runtime_duration_secon...                Transform Total Duration In Seconds   \n",
      "appstorestream_transform_record_count                                          Transform Record Count   \n",
      "appstorestream_transform_record_count_total                              Transform Total Record Count   \n",
      "appstorestream_transform_record_size_bytes                             Transform Record Size In Bytes   \n",
      "appstorestream_transform_record_size_bytes_total                 Transform Total Record Size In Bytes   \n",
      "appstorestream_transform_record_per_second_ratio              Transform Records Processed Per Second    \n",
      "appstorestream_transform_success_failure_data_e...      Transform Data Errors Encountered During Task   \n",
      "appstorestream_transform_success_failure_data_e...                    Transform Data Errors / Records   \n",
      "appstorestream_transform_success_failure_record...                         Transform 1 - Failure_Rate   \n",
      "appstorestream_load_runtime_start_timestamp_sec...                    Load Start Timestamp In Seconds   \n",
      "appstorestream_load_runtime_stop_timestamp_seconds                     Load Stop Timestamp In Seconds   \n",
      "appstorestream_load_runtime_duration_seconds                                 Load Duration In Seconds   \n",
      "appstorestream_load_runtime_duration_seconds_total                     Load Total Duration In Seconds   \n",
      "appstorestream_load_record_count                                               Load Load Record Count   \n",
      "appstorestream_load_record_count_total                                   Load Total Load Record Count   \n",
      "appstorestream_load_record_size_bytes                                          Load Load Record Count   \n",
      "appstorestream_load_record_size_bytes_total                              Load Total Load Record Count   \n",
      "appstorestream_load_record_per_second_ratio                                   Load Records Per Second   \n",
      "appstorestream_task_runtime_start_timestamp_sec...                    Task Start Timestamp In Seconds   \n",
      "appstorestream_task_runtime_stop_timestamp_seconds                     Task Stop Timestamp In Seconds   \n",
      "appstorestream_task_runtime_duration_seconds                                  Task Runtime In Seconds   \n",
      "appstorestream_task_runtime_duration_seconds_total                            Task Runtime In Seconds   \n",
      "appstorestream_task_record_count_total                                  Task Total Number Of Records.   \n",
      "appstorestream_task_record_per_second_ratio                        Task Records Processed Per Second    \n",
      "appstorestream_system_network_io_bytes                                            Network IO in bytes   \n",
      "appstorestream_system_disk_io_bytes                                                  Disk IO in bytes   \n",
      "appstorestream_system_size_db_bytes                                            Database size in bytes   \n",
      "appstorestream_system_cpu_average_pct_ratio                              Average CPU Percent Utilized   \n",
      "appstorestream_system_memory_average_pct_ratio                        Average Memory Percent Utilized   \n",
      "\n",
      "                                                       Type  \n",
      "Metric                                                       \n",
      "appstorestream_extract_runtime_start_timestamp_...  Counter  \n",
      "appstorestream_extract_runtime_stop_timestamp_s...  Counter  \n",
      "appstorestream_extract_runtime_duration_seconds       Gauge  \n",
      "appstorestream_extract_runtime_duration_seconds...  Counter  \n",
      "appstorestream_extract_request_count_total          Counter  \n",
      "appstorestream_extract_request_per_second_ratio       Gauge  \n",
      "appstorestream_extract_response_count_total         Counter  \n",
      "appstorestream_extract_response_per_second_ratio      Gauge  \n",
      "appstorestream_extract_response_average_latency...    Gauge  \n",
      "appstorestream_extract_response_latency_seconds...    Gauge  \n",
      "appstorestream_extract_response_average_size_bytes    Gauge  \n",
      "appstorestream_extract_response_size_bytes_total    Counter  \n",
      "appstorestream_extract_success_failure_retries_...  Counter  \n",
      "appstorestream_extract_success_failure_errors_t...  Counter  \n",
      "appstorestream_extract_success_failure_client_e...  Counter  \n",
      "appstorestream_extract_success_failure_server_e...  Counter  \n",
      "appstorestream_extract_success_failure_redirect...  Counter  \n",
      "appstorestream_extract_success_failure_unknown_...  Counter  \n",
      "appstorestream_extract_success_failure_request_...    Gauge  \n",
      "appstorestream_extract_success_failure_request_...    Gauge  \n",
      "appstorestream_extract_throttle_concurrency_eff...    Gauge  \n",
      "appstorestream_extract_throttle_average_latency...    Gauge  \n",
      "appstorestream_extract_throttle_total_latency_e...    Gauge  \n",
      "appstorestream_transform_runtime_start_timestam...  Counter  \n",
      "appstorestream_transform_runtime_stop_timestamp...  Counter  \n",
      "appstorestream_transform_runtime_duration_seconds     Gauge  \n",
      "appstorestream_transform_runtime_duration_secon...  Counter  \n",
      "appstorestream_transform_record_count                 Gauge  \n",
      "appstorestream_transform_record_count_total         Counter  \n",
      "appstorestream_transform_record_size_bytes            Gauge  \n",
      "appstorestream_transform_record_size_bytes_total      Gauge  \n",
      "appstorestream_transform_record_per_second_ratio      Gauge  \n",
      "appstorestream_transform_success_failure_data_e...  Counter  \n",
      "appstorestream_transform_success_failure_data_e...    Gauge  \n",
      "appstorestream_transform_success_failure_record...    Gauge  \n",
      "appstorestream_load_runtime_start_timestamp_sec...  Counter  \n",
      "appstorestream_load_runtime_stop_timestamp_seconds  Counter  \n",
      "appstorestream_load_runtime_duration_seconds          Gauge  \n",
      "appstorestream_load_runtime_duration_seconds_total  Counter  \n",
      "appstorestream_load_record_count                      Gauge  \n",
      "appstorestream_load_record_count_total              Counter  \n",
      "appstorestream_load_record_size_bytes                 Gauge  \n",
      "appstorestream_load_record_size_bytes_total         Counter  \n",
      "appstorestream_load_record_per_second_ratio           Gauge  \n",
      "appstorestream_task_runtime_start_timestamp_sec...  Counter  \n",
      "appstorestream_task_runtime_stop_timestamp_seconds  Counter  \n",
      "appstorestream_task_runtime_duration_seconds          Gauge  \n",
      "appstorestream_task_runtime_duration_seconds_total  Counter  \n",
      "appstorestream_task_record_count_total              Counter  \n",
      "appstorestream_task_record_per_second_ratio         Counter  \n",
      "appstorestream_system_network_io_bytes              Counter  \n",
      "appstorestream_system_disk_io_bytes                 Counter  \n",
      "appstorestream_system_size_db_bytes                 Counter  \n",
      "appstorestream_system_cpu_average_pct_ratio           Gauge  \n",
      "appstorestream_system_memory_average_pct_ratio        Gauge  \n"
     ]
    }
   ],
   "source": [
    "config_filepath_metrics = os.getenv(\"CONFIG_FILEPATH_METRICS\")\n",
    "\n",
    "# Load metrics config\n",
    "cols = [\"Category\", \"Metric\", \"Description\", \"Type\"]\n",
    "metrics_config_df = pd.read_excel(\n",
    "    io=config_filepath_metrics,\n",
    "    sheet_name=\"metrics\",\n",
    "    usecols=cols,\n",
    "    header=0,\n",
    "    index_col=\"Metric\",\n",
    ")\n",
    "print(metrics_config_df)"
   ]
  },
  {
   "cell_type": "markdown",
   "metadata": {},
   "source": [
    "## Extract Metrics Config"
   ]
  },
  {
   "cell_type": "code",
   "execution_count": 5,
   "metadata": {},
   "outputs": [
    {
     "name": "stdout",
     "output_type": "stream",
     "text": [
      "{'appstorestream_extract_runtime_start_timestamp_seconds': {'Description': 'Extract start timestamp in seconds', 'Type': 'Counter'}, 'appstorestream_extract_runtime_stop_timestamp_seconds': {'Description': 'Extract stop timestamp in seconds', 'Type': 'Counter'}, 'appstorestream_extract_runtime_duration_seconds': {'Description': 'Extract session duration', 'Type': 'Gauge'}, 'appstorestream_extract_runtime_duration_seconds_total': {'Description': 'Extract session duration total', 'Type': 'Counter'}, 'appstorestream_extract_request_count_total': {'Description': 'Extract session request count', 'Type': 'Counter'}, 'appstorestream_extract_request_per_second_ratio': {'Description': 'Extract session requests per second', 'Type': 'Gauge'}, 'appstorestream_extract_response_count_total': {'Description': 'Extract session response count', 'Type': 'Counter'}, 'appstorestream_extract_response_per_second_ratio': {'Description': 'Extract session responses per second', 'Type': 'Gauge'}, 'appstorestream_extract_response_average_latency_seconds': {'Description': 'Extract session average response latency', 'Type': 'Gauge'}, 'appstorestream_extract_response_latency_seconds_total': {'Description': 'Extract session average response latency total', 'Type': 'Gauge'}, 'appstorestream_extract_response_average_size_bytes': {'Description': 'Extract session average response size in bytes', 'Type': 'Gauge'}, 'appstorestream_extract_response_size_bytes_total': {'Description': 'Extract session total response size in bytes', 'Type': 'Counter'}, 'appstorestream_extract_success_failure_retries_total': {'Description': 'Extract session retry count', 'Type': 'Counter'}, 'appstorestream_extract_success_failure_errors_total': {'Description': 'Extract session error count', 'Type': 'Counter'}, 'appstorestream_extract_success_failure_client_errors_total': {'Description': 'Extract Session Client Error Count', 'Type': 'Counter'}, 'appstorestream_extract_success_failure_server_errors_total': {'Description': 'Extract Session Server Error Count', 'Type': 'Counter'}, 'appstorestream_extract_success_failure_redirect_errors_total': {'Description': 'Extract Session Redirect Error Count', 'Type': 'Counter'}, 'appstorestream_extract_success_failure_unknown_errors_total': {'Description': 'Extract Session Unknown Error Count', 'Type': 'Counter'}, 'appstorestream_extract_success_failure_request_failure_rate_ratio': {'Description': 'Extract Session Errors / Requests', 'Type': 'Gauge'}, 'appstorestream_extract_success_failure_request_success_rate_ratio': {'Description': 'Extract Session 1 - Failure_Rate', 'Type': 'Gauge'}, 'appstorestream_extract_throttle_concurrency_efficiency_ratio': {'Description': 'Extract Session Average Latency / (Duration / Requests)', 'Type': 'Gauge'}, 'appstorestream_extract_throttle_average_latency_efficiency_ratio': {'Description': 'Extract Session Average Latency / Average Duration', 'Type': 'Gauge'}, 'appstorestream_extract_throttle_total_latency_efficiency_ratio': {'Description': 'Extract Session Total Latency  / Total Duration', 'Type': 'Gauge'}}\n"
     ]
    }
   ],
   "source": [
    "# Extract metrics config\n",
    "metrics_config_extract_df = metrics_config_df[\n",
    "    metrics_config_df[\"Category\"] == \"extract\"\n",
    "]\n",
    "metrics_config_extract_dict = metrics_config_extract_df[\n",
    "    [\"Description\", \"Type\"]\n",
    "].to_dict(orient=\"index\")\n",
    "print(metrics_config_extract_dict)\n",
    "with open(CONFIG_FILEPATH_EXTRACT, \"w\") as extract_metrics_file:\n",
    "    yaml.dump(metrics_config_extract_dict, extract_metrics_file)"
   ]
  },
  {
   "cell_type": "markdown",
   "metadata": {},
   "source": [
    "## Transform Metrics Config"
   ]
  },
  {
   "cell_type": "code",
   "execution_count": 6,
   "metadata": {},
   "outputs": [],
   "source": [
    "# Transform metrics config\n",
    "metrics_config_transform_df = metrics_config_df[\n",
    "    metrics_config_df[\"Category\"] == \"transform\"\n",
    "]\n",
    "metrics_config_transform_dict = metrics_config_transform_df[\n",
    "    [\"Description\", \"Type\"]\n",
    "].to_dict(orient=\"index\")\n",
    "with open(CONFIG_FILEPATH_TRANSFORM, \"w\") as transform_metrics_file:\n",
    "    yaml.dump(metrics_config_transform_dict, transform_metrics_file)"
   ]
  },
  {
   "cell_type": "markdown",
   "metadata": {},
   "source": [
    "## Load Metrics Config"
   ]
  },
  {
   "cell_type": "code",
   "execution_count": 7,
   "metadata": {},
   "outputs": [],
   "source": [
    "# Load metrics config\n",
    "metrics_config_load_df = metrics_config_df[metrics_config_df[\"Category\"] == \"load\"]\n",
    "metrics_config_load_dict = metrics_config_load_df[[\"Description\", \"Type\"]].to_dict(\n",
    "    orient=\"index\"\n",
    ")\n",
    "with open(CONFIG_FILEPATH_LOAD, \"w\") as load_metrics_file:\n",
    "    yaml.dump(metrics_config_load_dict, load_metrics_file)"
   ]
  },
  {
   "cell_type": "markdown",
   "metadata": {},
   "source": [
    "## Task Metrics Config"
   ]
  },
  {
   "cell_type": "code",
   "execution_count": 8,
   "metadata": {},
   "outputs": [],
   "source": [
    "# System metrics config\n",
    "metrics_config_task_df = metrics_config_df[metrics_config_df[\"Category\"] == \"task\"]\n",
    "metrics_config_task_dict = metrics_config_task_df[[\"Description\", \"Type\"]].to_dict(\n",
    "    orient=\"index\"\n",
    ")\n",
    "with open(CONFIG_FILEPATH_TASK, \"w\") as task_metrics_file:\n",
    "    yaml.dump(metrics_config_task_dict, task_metrics_file)"
   ]
  },
  {
   "cell_type": "markdown",
   "metadata": {},
   "source": [
    "## System Metrics Config"
   ]
  },
  {
   "cell_type": "code",
   "execution_count": 9,
   "metadata": {},
   "outputs": [],
   "source": [
    "# System metrics config\n",
    "metrics_config_system_df = metrics_config_df[metrics_config_df[\"Category\"] == \"system\"]\n",
    "metrics_config_system_dict = metrics_config_system_df[[\"Description\", \"Type\"]].to_dict(\n",
    "    orient=\"index\"\n",
    ")\n",
    "with open(CONFIG_FILEPATH_SYSTEM, \"w\") as system_metrics_file:\n",
    "    yaml.dump(metrics_config_system_dict, system_metrics_file)"
   ]
  }
 ],
 "metadata": {
  "kernelspec": {
   "display_name": "appstorestream",
   "language": "python",
   "name": "python3"
  },
  "language_info": {
   "codemirror_mode": {
    "name": "ipython",
    "version": 3
   },
   "file_extension": ".py",
   "mimetype": "text/x-python",
   "name": "python",
   "nbconvert_exporter": "python",
   "pygments_lexer": "ipython3",
   "version": "3.10.14"
  }
 },
 "nbformat": 4,
 "nbformat_minor": 2
}
