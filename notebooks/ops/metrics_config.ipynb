{
 "cells": [
  {
   "cell_type": "markdown",
   "metadata": {},
   "source": [
    "# Metrics Config"
   ]
  },
  {
   "cell_type": "code",
   "execution_count": 1,
   "metadata": {},
   "outputs": [],
   "source": [
    "import os\n",
    "import ruamel.yaml\n",
    "import pandas as pd"
   ]
  },
  {
   "cell_type": "markdown",
   "metadata": {},
   "source": [
    "## Filepaths"
   ]
  },
  {
   "cell_type": "code",
   "execution_count": 2,
   "metadata": {},
   "outputs": [],
   "source": [
    "CONFIG_FILEPATH_EXTRACT = \"config/metrics/extract.yaml\"\n",
    "CONFIG_FILEPATH_TRANSFORM = \"config/metrics/transform.yaml\"\n",
    "CONFIG_FILEPATH_LOAD = \"config/metrics/load.yaml\"\n",
    "CONFIG_FILEPATH_SYSTEM = \"config/metrics/system.yaml\"\n",
    "os.makedirs(os.path.dirname(CONFIG_FILEPATH_EXTRACT), exist_ok=True)"
   ]
  },
  {
   "cell_type": "markdown",
   "metadata": {},
   "source": [
    "## Columns"
   ]
  },
  {
   "cell_type": "code",
   "execution_count": null,
   "metadata": {},
   "outputs": [],
   "source": [
    "INDEX = \"MetricKey\"\n",
    "COLS = [\"Category\", \"MetricKey\", \"MetricName\", \"Description\", \"Type\"]\n",
    "VALUES = [\"Category\", \"MetricName\", \"Description\", \"Type\"]"
   ]
  },
  {
   "cell_type": "markdown",
   "metadata": {},
   "source": [
    "## Yaml Loader"
   ]
  },
  {
   "cell_type": "code",
   "execution_count": 3,
   "metadata": {},
   "outputs": [],
   "source": [
    "yaml = ruamel.yaml.YAML()"
   ]
  },
  {
   "cell_type": "markdown",
   "metadata": {},
   "source": [
    "## Load Metric Config"
   ]
  },
  {
   "cell_type": "code",
   "execution_count": 4,
   "metadata": {},
   "outputs": [
    {
     "name": "stdout",
     "output_type": "stream",
     "text": [
      "                                            Category  \\\n",
      "MetricKey                                              \n",
      "extract_job_runtime_start_timestamp_seconds  extract   \n",
      "extract_job_runtime_stop_timestamp_seconds   extract   \n",
      "extract_job_runtime_duration_seconds_total   extract   \n",
      "extract_job_request_session_count_total      extract   \n",
      "extract_job_request_count_total              extract   \n",
      "...                                              ...   \n",
      "system_job_network_io_bytes                   system   \n",
      "system_job_disk_io_bytes                      system   \n",
      "system_job_size_db_bytes                      system   \n",
      "system_job_cpu_average_pct_ratio              system   \n",
      "system_job_memory_average_pct_ratio           system   \n",
      "\n",
      "                                                                                    MetricName  \\\n",
      "MetricKey                                                                                        \n",
      "extract_job_runtime_start_timestamp_seconds  appstorestream_extract_job_runtime_start_times...   \n",
      "extract_job_runtime_stop_timestamp_seconds   appstorestream_extract_job_runtime_stop_timest...   \n",
      "extract_job_runtime_duration_seconds_total   appstorestream_extract_job_runtime_duration_se...   \n",
      "extract_job_request_session_count_total      appstorestream_extract_job_request_session_cou...   \n",
      "extract_job_request_count_total                 appstorestream_extract_job_request_count_total   \n",
      "...                                                                                        ...   \n",
      "system_job_network_io_bytes                         appstorestream_system_job_network_io_bytes   \n",
      "system_job_disk_io_bytes                               appstorestream_system_job_disk_io_bytes   \n",
      "system_job_size_db_bytes                               appstorestream_system_job_size_db_bytes   \n",
      "system_job_cpu_average_pct_ratio               appstorestream_system_job_cpu_average_pct_ratio   \n",
      "system_job_memory_average_pct_ratio          appstorestream_system_job_memory_average_pct_r...   \n",
      "\n",
      "                                                                                Description  \\\n",
      "MetricKey                                                                                     \n",
      "extract_job_runtime_start_timestamp_seconds      Extract start timestamp in seconds for Job   \n",
      "extract_job_runtime_stop_timestamp_seconds        Extract stop timestamp in seconds for Job   \n",
      "extract_job_runtime_duration_seconds_total           Extract session duration total for Job   \n",
      "extract_job_request_session_count_total                     Extract session count for a Job   \n",
      "extract_job_request_count_total                             Extract request count for a Job   \n",
      "...                                                                                     ...   \n",
      "system_job_network_io_bytes                              System Network IO in bytes for Job   \n",
      "system_job_disk_io_bytes                                    System Disk IO in bytes for Job   \n",
      "system_job_size_db_bytes                              System Database size in bytes for Job   \n",
      "system_job_cpu_average_pct_ratio                System Average CPU Percent Utilized for Job   \n",
      "system_job_memory_average_pct_ratio          System Average Memory Percent Utilized for Job   \n",
      "\n",
      "                                                Type  \n",
      "MetricKey                                             \n",
      "extract_job_runtime_start_timestamp_seconds    Gauge  \n",
      "extract_job_runtime_stop_timestamp_seconds     Gauge  \n",
      "extract_job_runtime_duration_seconds_total   Counter  \n",
      "extract_job_request_session_count_total      Counter  \n",
      "extract_job_request_count_total              Counter  \n",
      "...                                              ...  \n",
      "system_job_network_io_bytes                  Counter  \n",
      "system_job_disk_io_bytes                     Counter  \n",
      "system_job_size_db_bytes                     Counter  \n",
      "system_job_cpu_average_pct_ratio               Gauge  \n",
      "system_job_memory_average_pct_ratio            Gauge  \n",
      "\n",
      "[71 rows x 4 columns]\n"
     ]
    }
   ],
   "source": [
    "config_filepath_metrics = os.getenv(\"CONFIG_FILEPATH_METRICS\")\n",
    "\n",
    "# Load metrics config\n",
    "metrics_config_df = pd.read_excel(\n",
    "    io=config_filepath_metrics,\n",
    "    sheet_name=\"metrics\",\n",
    "    usecols=COLS,\n",
    "    header=0,\n",
    "    index_col=INDEX,\n",
    ")\n",
    "print(metrics_config_df.sample(n=10))"
   ]
  },
  {
   "cell_type": "markdown",
   "metadata": {},
   "source": [
    "## Extract Metrics Config"
   ]
  },
  {
   "cell_type": "code",
   "execution_count": 5,
   "metadata": {},
   "outputs": [
    {
     "name": "stdout",
     "output_type": "stream",
     "text": [
      "{'extract_job_runtime_start_timestamp_seconds': {'Description': 'Extract start timestamp in seconds for Job', 'Type': 'Gauge'}, 'extract_job_runtime_stop_timestamp_seconds': {'Description': 'Extract stop timestamp in seconds for Job', 'Type': 'Gauge'}, 'extract_job_runtime_duration_seconds_total': {'Description': 'Extract session duration total for Job', 'Type': 'Counter'}, 'extract_job_request_session_count_total': {'Description': 'Extract session count for a Job', 'Type': 'Counter'}, 'extract_job_request_count_total': {'Description': 'Extract request count for a Job', 'Type': 'Counter'}, 'extract_job_request_per_second_ratio': {'Description': 'Extract session responses per second for Job', 'Type': 'Gauge'}, 'extract_job_response_count_total': {'Description': 'Extract response count for a Job', 'Type': 'Counter'}, 'extract_job_response_per_second_ratio': {'Description': 'Extract session responses per second for Job', 'Type': 'Gauge'}, 'extract_job_response_average_latency_seconds': {'Description': 'Extract session average response latency for Job', 'Type': 'Gauge'}, 'extract_job_response_latency_seconds_total': {'Description': 'Extract session  response latency total for Job', 'Type': 'Gauge'}, 'extract_job_response_average_size_bytes': {'Description': 'Extract session average response size in bytes for Job', 'Type': 'Gauge'}, 'extract_job_response_size_bytes_total': {'Description': 'Extract session total response size in bytes for Job', 'Type': 'Counter'}, 'extract_job_success_failure_retries_total': {'Description': 'Extract session retry count for Job', 'Type': 'Counter'}, 'extract_job_success_failure_errors_total': {'Description': 'Extract session error count for Job', 'Type': 'Counter'}, 'extract_job_success_failure_request_failure_rate_ratio': {'Description': 'Extract Session Errors / Requests for Job', 'Type': 'Gauge'}, 'extract_job_success_failure_request_success_rate_ratio': {'Description': 'Extract Session 1 - Failure_Rate for Job', 'Type': 'Gauge'}, 'extract_task_runtime_start_timestamp_seconds': {'Description': 'Extract start timestamp in seconds for Task', 'Type': 'Gauge'}, 'extract_task_runtime_stop_timestamp_seconds': {'Description': 'Extract stop timestamp in seconds for Task', 'Type': 'Gauge'}, 'extract_task_runtime_duration_seconds': {'Description': 'Extract session duration for Task', 'Type': 'Gauge'}, 'extract_task_request_count_total': {'Description': 'Extract session request count for Task', 'Type': 'Gauge'}, 'extract_task_request_per_second_ratio': {'Description': 'Extract session requests per second for Task', 'Type': 'Gauge'}, 'extract_task_response_count_total': {'Description': 'Extract session response count for Task', 'Type': 'Gauge'}, 'extract_task_response_per_second_ratio': {'Description': 'Extract session responses per second for Task', 'Type': 'Gauge'}, 'extract_task_response_average_latency_seconds': {'Description': 'Extract session average response latency for Task', 'Type': 'Gauge'}, 'extract_task_response_latency_seconds_total': {'Description': 'Extract session  response latency total for Task', 'Type': 'Gauge'}, 'extract_task_response_average_size_bytes': {'Description': 'Extract session average response size in bytes for Task', 'Type': 'Gauge'}, 'extract_task_response_size_bytes_total': {'Description': 'Extract session total response size in bytes for Task', 'Type': 'Gauge'}, 'extract_task_success_failure_retries_total': {'Description': 'Extract session retry count for Task', 'Type': 'Gauge'}, 'extract_task_success_failure_errors_total': {'Description': 'Extract session error count for Task', 'Type': 'Gauge'}, 'extract_task_success_failure_client_errors_total': {'Description': 'Extract Session Client Error Count for Task', 'Type': 'Gauge'}, 'extract_task_success_failure_server_errors_total': {'Description': 'Extract Session Server Error Count for Task', 'Type': 'Gauge'}, 'extract_task_success_failure_redirect_errors_total': {'Description': 'Extract Session Redirect Error Count for Task', 'Type': 'Gauge'}, 'extract_task_success_failure_unknown_errors_total': {'Description': 'Extract Session Unknown Error Count for Task', 'Type': 'Gauge'}, 'extract_task_success_failure_request_failure_rate_ratio': {'Description': 'Extract Session Errors / Requests for Task', 'Type': 'Gauge'}, 'extract_task_success_failure_request_success_rate_ratio': {'Description': 'Extract Session 1 - Failure_Rate for Task', 'Type': 'Gauge'}, 'extract_task_throttle_concurrency_efficiency_ratio': {'Description': 'Extract Session Average Latency / (Duration / Requests) for Task', 'Type': 'Gauge'}, 'extract_task_throttle_average_latency_efficiency_ratio': {'Description': 'Extract Session Average Latency / Average Duration for Task', 'Type': 'Gauge'}, 'extract_task_throttle_total_latency_efficiency_ratio': {'Description': 'Extract Session Total Latency  / Total Duration for Task', 'Type': 'Gauge'}}\n"
     ]
    }
   ],
   "source": [
    "# Extract metrics config\n",
    "metrics_config_extract_df = metrics_config_df[\n",
    "    metrics_config_df[\"Category\"] == \"extract\"\n",
    "]\n",
    "metrics_config_extract_dict = metrics_config_extract_df[VALUES].to_dict(orient=\"index\")\n",
    "print(metrics_config_extract_dict)\n",
    "with open(CONFIG_FILEPATH_EXTRACT, \"w\") as extract_metrics_file:\n",
    "    yaml.dump(metrics_config_extract_dict, extract_metrics_file)"
   ]
  },
  {
   "cell_type": "markdown",
   "metadata": {},
   "source": [
    "## Transform Metrics Config"
   ]
  },
  {
   "cell_type": "code",
   "execution_count": 6,
   "metadata": {},
   "outputs": [],
   "source": [
    "# Transform metrics config\n",
    "metrics_config_transform_df = metrics_config_df[\n",
    "    metrics_config_df[\"Category\"] == \"transform\"\n",
    "]\n",
    "metrics_config_transform_dict = metrics_config_transform_df[VALUES].to_dict(\n",
    "    orient=\"index\"\n",
    ")\n",
    "with open(CONFIG_FILEPATH_TRANSFORM, \"w\") as transform_metrics_file:\n",
    "    yaml.dump(metrics_config_transform_dict, transform_metrics_file)"
   ]
  },
  {
   "cell_type": "markdown",
   "metadata": {},
   "source": [
    "## Load Metrics Config"
   ]
  },
  {
   "cell_type": "code",
   "execution_count": 7,
   "metadata": {},
   "outputs": [],
   "source": [
    "# Load metrics config\n",
    "metrics_config_load_df = metrics_config_df[metrics_config_df[\"Category\"] == \"load\"]\n",
    "metrics_config_load_dict = metrics_config_load_df[VALUES].to_dict(orient=\"index\")\n",
    "with open(CONFIG_FILEPATH_LOAD, \"w\") as load_metrics_file:\n",
    "    yaml.dump(metrics_config_load_dict, load_metrics_file)"
   ]
  },
  {
   "cell_type": "markdown",
   "metadata": {},
   "source": [
    "## System Metrics Config"
   ]
  },
  {
   "cell_type": "code",
   "execution_count": 8,
   "metadata": {},
   "outputs": [],
   "source": [
    "# System metrics config\n",
    "metrics_config_system_df = metrics_config_df[metrics_config_df[\"Category\"] == \"system\"]\n",
    "metrics_config_system_dict = metrics_config_system_df[VALUES].to_dict(orient=\"index\")\n",
    "with open(CONFIG_FILEPATH_SYSTEM, \"w\") as system_metrics_file:\n",
    "    yaml.dump(metrics_config_system_dict, system_metrics_file)"
   ]
  }
 ],
 "metadata": {
  "kernelspec": {
   "display_name": "appstorestream",
   "language": "python",
   "name": "python3"
  },
  "language_info": {
   "codemirror_mode": {
    "name": "ipython",
    "version": 3
   },
   "file_extension": ".py",
   "mimetype": "text/x-python",
   "name": "python",
   "nbconvert_exporter": "python",
   "pygments_lexer": "ipython3",
   "version": "3.10.14"
  }
 },
 "nbformat": 4,
 "nbformat_minor": 2
}
