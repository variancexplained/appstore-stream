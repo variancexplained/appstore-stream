{
 "cells": [
  {
   "cell_type": "markdown",
   "metadata": {},
   "source": [
    "# Database Setup and Administration"
   ]
  },
  {
   "cell_type": "code",
   "execution_count": 1,
   "metadata": {},
   "outputs": [],
   "source": [
    "from appstorestream.infra.database.dba import MySQLDBA\n",
    "from appstorestream.core.enum import Databases"
   ]
  },
  {
   "cell_type": "code",
   "execution_count": 3,
   "metadata": {},
   "outputs": [
    {
     "name": "stderr",
     "output_type": "stream",
     "text": [
      "Command to update password for user root failed with error: Command '['mysql', '-h', 'localhost', '-u', 'root', '-e', \"ALTER USER 'root'@'localhost' IDENTIFIED BY '4sigmaXd8a';\"]' returned non-zero exit status 1.\n",
      "Traceback (most recent call last):\n",
      "  File \"/home/john/projects/appstorestream/appstorestream/infra/database/dba.py\", line 161, in update_user_password\n",
      "    result = subprocess.run(command, check=True, text=True, capture_output=True)\n",
      "  File \"/home/john/miniconda3/envs/appstorestream/lib/python3.10/subprocess.py\", line 526, in run\n",
      "    raise CalledProcessError(retcode, process.args,\n",
      "subprocess.CalledProcessError: Command '['mysql', '-h', 'localhost', '-u', 'root', '-e', \"ALTER USER 'root'@'localhost' IDENTIFIED BY '4sigmaXd8a';\"]' returned non-zero exit status 1.\n"
     ]
    }
   ],
   "source": [
    "dba = MySQLDBA()\n"
   ]
  }
 ],
 "metadata": {
  "kernelspec": {
   "display_name": "appstorestream",
   "language": "python",
   "name": "python3"
  },
  "language_info": {
   "codemirror_mode": {
    "name": "ipython",
    "version": 3
   },
   "file_extension": ".py",
   "mimetype": "text/x-python",
   "name": "python",
   "nbconvert_exporter": "python",
   "pygments_lexer": "ipython3",
   "version": "3.10.14"
  }
 },
 "nbformat": 4,
 "nbformat_minor": 2
}
