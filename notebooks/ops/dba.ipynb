{
    "cells": [
        {
            "cell_type": "markdown",
            "metadata": {},
            "source": [
                "# Database Setup and Administration"
            ]
        },
        {
            "cell_type": "code",
            "execution_count": 1,
            "metadata": {},
            "outputs": [
                {
                    "name": "stderr",
                    "output_type": "stream",
                    "text": [
                        "02:31:21 INFO:Note: NumExpr detected 24 cores but \"NUMEXPR_MAX_THREADS\" not set, so enforcing safe limit of 8.\n",
                        "02:31:21 INFO:NumExpr defaulting to 8 threads.\n"
                    ]
                }
            ],
            "source": [
                "from importlib import reload  # Not needed in Python 2\n",
                "import logging\n",
                "reload(logging)\n",
                "logging.basicConfig(format='%(asctime)s %(levelname)s:%(message)s', level=logging.DEBUG, datefmt='%I:%M:%S')\n",
                "\n",
                "from appvocai.infra.database.dba import MySQLDBA\n",
                "from appvocai.core.enum import DatabaseSet"
            ]
        },
        {
            "cell_type": "code",
            "execution_count": 2,
            "metadata": {},
            "outputs": [],
            "source": [
                "DDL_DIRECTORY = \"scripts/database/setup/tables\"\n",
                "DDL_FILEPATH = \"scripts/database/setup/tables/category.sql\""
            ]
        },
        {
            "cell_type": "markdown",
            "metadata": {},
            "source": [
                "## Create Tables"
            ]
        },
        {
            "cell_type": "code",
            "execution_count": 3,
            "metadata": {},
            "outputs": [
                {
                    "name": "stderr",
                    "output_type": "stream",
                    "text": [
                        "02:31:22 INFO:Executing scripts/database/setup/tables/01_category.sql...\n",
                        "02:31:22 INFO:Successfully executed scripts/database/setup/tables/01_category.sql\n",
                        "02:31:22 INFO:Executing scripts/database/setup/tables/02_config.sql...\n",
                        "02:31:22 INFO:Successfully executed scripts/database/setup/tables/02_config.sql\n",
                        "02:31:22 INFO:Executing scripts/database/setup/tables/03_backup.sql...\n",
                        "02:31:22 INFO:Successfully executed scripts/database/setup/tables/03_backup.sql\n",
                        "02:31:22 INFO:Executing scripts/database/setup/tables/04_appdata.sql...\n",
                        "02:31:22 INFO:Successfully executed scripts/database/setup/tables/04_appdata.sql\n",
                        "02:31:22 INFO:Executing scripts/database/setup/tables/05_review.sql...\n",
                        "02:31:22 ERROR:Error executing scripts/database/setup/tables/05_review.sql: mysql: [Warning] Using a password on the command line interface can be insecure.\n",
                        "ERROR 3734 (HY000) at line 2: Failed to add the foreign key constraint. Missing column 'id' for constraint 'review_ibfk_2' in the referenced table 'appdata'\n",
                        "\n",
                        "02:31:22 INFO:Executing scripts/database/setup/tables/06_job.sql...\n",
                        "02:31:22 ERROR:Error executing scripts/database/setup/tables/06_job.sql: mysql: [Warning] Using a password on the command line interface can be insecure.\n",
                        "ERROR 3780 (HY000) at line 2: Referencing column 'category_id' and referenced column 'id' in foreign key constraint 'job_ibfk_1' are incompatible.\n",
                        "\n",
                        "02:31:22 INFO:Executing scripts/database/setup/tables/07_jobrun.sql...\n",
                        "02:31:22 ERROR:Error executing scripts/database/setup/tables/07_jobrun.sql: mysql: [Warning] Using a password on the command line interface can be insecure.\n",
                        "ERROR 1064 (42000) at line 2: You have an error in your SQL syntax; check the manual that corresponds to your MySQL server version for the right syntax to use near 'force TINYINT(1) NOT NULL DEFAULT 0,                \n",
                        "    status ENUM('PENDING', ' at line 21\n",
                        "\n"
                    ]
                },
                {
                    "ename": "AssertionError",
                    "evalue": "",
                    "output_type": "error",
                    "traceback": [
                        "\u001b[0;31m---------------------------------------------------------------------------\u001b[0m",
                        "\u001b[0;31mAssertionError\u001b[0m                            Traceback (most recent call last)",
                        "Cell \u001b[0;32mIn[3], line 4\u001b[0m\n\u001b[1;32m      2\u001b[0m dba\u001b[38;5;241m.\u001b[39mexecute_all_ddl(ddl_directory\u001b[38;5;241m=\u001b[39mDDL_DIRECTORY)\n\u001b[1;32m      3\u001b[0m \u001b[38;5;28;01massert\u001b[39;00m dba\u001b[38;5;241m.\u001b[39mtable_exists(dbname\u001b[38;5;241m=\u001b[39mDatabaseSet\u001b[38;5;241m.\u001b[39mWORKING, table_name\u001b[38;5;241m=\u001b[39m\u001b[38;5;124m\"\u001b[39m\u001b[38;5;124mappdata\u001b[39m\u001b[38;5;124m\"\u001b[39m)\n\u001b[0;32m----> 4\u001b[0m \u001b[38;5;28;01massert\u001b[39;00m dba\u001b[38;5;241m.\u001b[39mtable_exists(dbname\u001b[38;5;241m=\u001b[39mDatabaseSet\u001b[38;5;241m.\u001b[39mWORKING, table_name\u001b[38;5;241m=\u001b[39m\u001b[38;5;124m\"\u001b[39m\u001b[38;5;124mreview\u001b[39m\u001b[38;5;124m\"\u001b[39m)\n\u001b[1;32m      5\u001b[0m \u001b[38;5;28;01massert\u001b[39;00m dba\u001b[38;5;241m.\u001b[39mtable_exists(dbname\u001b[38;5;241m=\u001b[39mDatabaseSet\u001b[38;5;241m.\u001b[39mWORKING, table_name\u001b[38;5;241m=\u001b[39m\u001b[38;5;124m\"\u001b[39m\u001b[38;5;124mbackup\u001b[39m\u001b[38;5;124m\"\u001b[39m)\n\u001b[1;32m      6\u001b[0m \u001b[38;5;28;01massert\u001b[39;00m dba\u001b[38;5;241m.\u001b[39mtable_exists(dbname\u001b[38;5;241m=\u001b[39mDatabaseSet\u001b[38;5;241m.\u001b[39mWORKING, table_name\u001b[38;5;241m=\u001b[39m\u001b[38;5;124m\"\u001b[39m\u001b[38;5;124mconfig\u001b[39m\u001b[38;5;124m\"\u001b[39m)\n",
                        "\u001b[0;31mAssertionError\u001b[0m: "
                    ]
                }
            ],
            "source": [
                "dba = MySQLDBA(dbname=DatabaseSet.WORKING)\n",
                "dba.execute_all_ddl(ddl_directory=DDL_DIRECTORY)\n",
                "assert dba.table_exists(dbname=DatabaseSet.WORKING, table_name=\"appdata\")\n",
                "assert dba.table_exists(dbname=DatabaseSet.WORKING, table_name=\"review\")\n",
                "assert dba.table_exists(dbname=DatabaseSet.WORKING, table_name=\"backup\")\n",
                "assert dba.table_exists(dbname=DatabaseSet.WORKING, table_name=\"config\")\n",
                "assert dba.table_exists(dbname=DatabaseSet.WORKING, table_name=\"job\")\n",
                "assert dba.table_exists(dbname=DatabaseSet.WORKING, table_name=\"jobrun\")\n",
                "assert dba.table_exists(dbname=DatabaseSet.WORKING, table_name=\"category\")\n"
            ]
        },
        {
            "cell_type": "code",
            "execution_count": null,
            "metadata": {},
            "outputs": [],
            "source": []
        }
    ],
    "metadata": {
        "kernelspec": {
            "display_name": "appvocai",
            "language": "python",
            "name": "python3"
        },
        "language_info": {
            "codemirror_mode": {
                "name": "ipython",
                "version": 3
            },
            "file_extension": ".py",
            "mimetype": "text/x-python",
            "name": "python",
            "nbconvert_exporter": "python",
            "pygments_lexer": "ipython3",
            "version": "3.10.14"
        }
    },
    "nbformat": 4,
    "nbformat_minor": 2
}