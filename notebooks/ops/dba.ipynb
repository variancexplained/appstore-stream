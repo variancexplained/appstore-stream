{
 "cells": [
  {
   "cell_type": "markdown",
   "metadata": {},
   "source": [
    "# Database Setup and Administration"
   ]
  },
  {
   "cell_type": "code",
   "execution_count": 1,
   "metadata": {},
   "outputs": [
    {
     "name": "stderr",
     "output_type": "stream",
     "text": [
      "05:01:33 INFO:Note: NumExpr detected 24 cores but \"NUMEXPR_MAX_THREADS\" not set, so enforcing safe limit of 8.\n",
      "05:01:33 INFO:NumExpr defaulting to 8 threads.\n"
     ]
    }
   ],
   "source": [
    "from importlib import reload  # Not needed in Python 2\n",
    "import logging\n",
    "reload(logging)\n",
    "logging.basicConfig(format='%(asctime)s %(levelname)s:%(message)s', level=logging.DEBUG, datefmt='%I:%M:%S')\n",
    "\n",
    "from appstorestream.infra.database.dba import MySQLDBA\n",
    "from appstorestream.core.enum import Databases"
   ]
  },
  {
   "cell_type": "code",
   "execution_count": 2,
   "metadata": {},
   "outputs": [],
   "source": [
    "DDL_DIRECTORY = \"scripts/database/setup/tables\"\n",
    "DDL_FILEPATH = \"scripts/database/setup/tables/category.sql\""
   ]
  },
  {
   "cell_type": "markdown",
   "metadata": {},
   "source": [
    "## Create Tables"
   ]
  },
  {
   "cell_type": "code",
   "execution_count": 3,
   "metadata": {},
   "outputs": [
    {
     "name": "stderr",
     "output_type": "stream",
     "text": [
      "05:01:34 INFO:Successfully executed scripts/database/setup/tables/category.sql\n"
     ]
    }
   ],
   "source": [
    "dba = MySQLDBA(dbname=Databases.WORKING)\n",
    "dba.execute_all_ddl(ddl_directory=DDL_DIRECTORY)\n",
    "assert dba.table_exists(dbname=Databases.WORKING, table_name=\"appdata\")\n",
    "assert dba.table_exists(dbname=Databases.WORKING, table_name=\"reviews\")\n",
    "assert dba.table_exists(dbname=Databases.WORKING, table_name=\"backup\")\n",
    "assert dba.table_exists(dbname=Databases.WORKING, table_name=\"config\")\n",
    "assert dba.table_exists(dbname=Databases.WORKING, table_name=\"task\")\n",
    "assert dba.table_exists(dbname=Databases.WORKING, table_name=\"taskrun\")\n",
    "assert dba.table_exists(dbname=Databases.WORKING, table_name=\"category\")\n"
   ]
  },
  {
   "cell_type": "code",
   "execution_count": null,
   "metadata": {},
   "outputs": [],
   "source": []
  }
 ],
 "metadata": {
  "kernelspec": {
   "display_name": "appstorestream",
   "language": "python",
   "name": "python3"
  },
  "language_info": {
   "codemirror_mode": {
    "name": "ipython",
    "version": 3
   },
   "file_extension": ".py",
   "mimetype": "text/x-python",
   "name": "python",
   "nbconvert_exporter": "python",
   "pygments_lexer": "ipython3",
   "version": "3.10.14"
  }
 },
 "nbformat": 4,
 "nbformat_minor": 2
}
